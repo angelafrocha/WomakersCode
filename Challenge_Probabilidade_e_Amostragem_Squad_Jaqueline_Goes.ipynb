{
  "cells": [
    {
      "cell_type": "markdown",
      "metadata": {
        "id": "view-in-github",
        "colab_type": "text"
      },
      "source": [
        "<a href=\"https://colab.research.google.com/github/angelafrocha/WomakersCode/blob/main/Challenge_Probabilidade_e_Amostragem_Squad_Jaqueline_Goes.ipynb\" target=\"_parent\"><img src=\"https://colab.research.google.com/assets/colab-badge.svg\" alt=\"Open In Colab\"/></a>"
      ]
    },
    {
      "cell_type": "markdown",
      "metadata": {
        "id": "DnLIIllWF8Vp"
      },
      "source": [
        "# Challenge - Probabilidade e Amostragem: Squad Jaqueline Goes\n",
        "## Integrantes\n",
        "- Ana Claudia Caloi\n",
        "- Ângela Fernandes Rocha\n",
        "- Bruna Bernardo Pivotto\n",
        "- Deise Somaya Gomes da Silva\n",
        "- Marlana Portilho Rodrigues Santos\n",
        "- Talita de Lana Nacimento\n",
        "- Tatiane Pereira\n",
        "\n",
        "## Como nos organizamos\n",
        "\n",
        "Inicalmente dividimos a Squad para realizar os dois desafios:\n",
        "\n",
        "- Desafio 1: Deise, Marlana, e Talita;\n",
        "- Desafio 2: Ângela,Bruna, Tatiane e Ana.\n",
        "\n",
        "Mas também tivemos reuniões onde todas puderam colaborar e fazer sugestões para ambos os desafios.\n",
        "\n",
        "## Nossas Dificuldades\n",
        "- Interpretação de alguns aspectos dos desafios;\n",
        "- Conciliar os desafios e a programação semanal do curso Allura.\n",
        "\n",
        "## Nossas facilidades\n",
        "- A colaboração e bom entrosamento da equipe.\n"
      ]
    },
    {
      "cell_type": "markdown",
      "metadata": {
        "id": "GXVOXaHmCfo_"
      },
      "source": [
        "### DESAFIO 1: Entendendo o consumidor.\n",
        "\n",
        "\n",
        "\n"
      ]
    },
    {
      "cell_type": "markdown",
      "metadata": {
        "id": "QkofaWKROlZg"
      },
      "source": [
        "### Importação das bibliotecas que serão utilizadas na análise"
      ]
    },
    {
      "cell_type": "code",
      "execution_count": null,
      "metadata": {
        "id": "uSuKd1_cCpyf"
      },
      "outputs": [],
      "source": [
        "# A pricipal biblioteca de manipulação de dados\n",
        "import pandas as pd\n",
        "# Utilizamos a biblioteca np para aproveitar das funções matemáticas, usamos por exemplo a raíz quadrada sqrt()\n",
        "import numpy as np\n",
        "# Utilizamos a biblioteca para plotar os Box plots\n",
        "import seaborn as sns\n",
        "# Utilizamos .ppf() da biblioteca SciPy para calcular o valor de Z associado ao nível de serviço desejado.\n",
        "# O valor de Z representa quantos desvios padrão acima da média da distribuição normal você precisa considerar para alcançar o nível de serviço desejado.\n",
        "from scipy.stats import norm\n",
        "# Utilizamos para plotar os Histogramas de Frequência das vendas e lead time\n",
        "import matplotlib.pyplot as plt\n",
        "# Utilizamos da biblioteca math o .ceil() para arredondar o número para o inteiro imediatamente maior\n",
        "import math\n",
        "# Utilizamos para plotar os Gráficos Q-Q das vendas e lead time\n",
        "from scipy.stats import shapiro, probplot\n",
        "# O gráfico ACF auxilia a identificação de padrões em dados de séries temporais\n",
        "from statsmodels.graphics.tsaplots import plot_acf"
      ]
    },
    {
      "cell_type": "markdown",
      "metadata": {
        "id": "XLW_0OjvCwtI"
      },
      "source": [
        "### Leitura da base de dados e alterações"
      ]
    },
    {
      "cell_type": "code",
      "execution_count": null,
      "metadata": {
        "id": "WFWvFH6LC1iX"
      },
      "outputs": [],
      "source": [
        "# Pegando o arguivo csv e colocando dentro de uma variável\n",
        "df1 = pd.read_csv(\"/content/desafio01consumidor-230829-103627.csv\")"
      ]
    },
    {
      "cell_type": "code",
      "execution_count": null,
      "metadata": {
        "colab": {
          "base_uri": "https://localhost:8080/"
        },
        "id": "mnC6SokCFnN2",
        "outputId": "17559e1c-3930-4173-adef-ebc3852253ab"
      },
      "outputs": [
        {
          "output_type": "execute_result",
          "data": {
            "text/plain": [
              "(203, 6)"
            ]
          },
          "metadata": {},
          "execution_count": 3
        }
      ],
      "source": [
        "# Verificando a quantidade de linhas e colunas\n",
        "df1.shape"
      ]
    },
    {
      "cell_type": "code",
      "execution_count": null,
      "metadata": {
        "colab": {
          "base_uri": "https://localhost:8080/"
        },
        "id": "TrTr5cU5FyPs",
        "outputId": "8cbb3a36-5344-44ad-e763-570ae5567c62"
      },
      "outputs": [
        {
          "output_type": "execute_result",
          "data": {
            "text/plain": [
              "id_cliente      False\n",
              "idade           False\n",
              "renda           False\n",
              "produto         False\n",
              "regiao-BR       False\n",
              "pre-pandemia    False\n",
              "dtype: bool"
            ]
          },
          "metadata": {},
          "execution_count": 4
        }
      ],
      "source": [
        "# Verificando a existência de valores nulos\n",
        "df1.isnull().any()"
      ]
    },
    {
      "cell_type": "code",
      "execution_count": null,
      "metadata": {
        "colab": {
          "base_uri": "https://localhost:8080/",
          "height": 363
        },
        "id": "lwZj5sM-EOBx",
        "outputId": "d5646731-8956-417e-9e80-555617c25a92"
      },
      "outputs": [
        {
          "output_type": "execute_result",
          "data": {
            "text/plain": [
              "  id_cliente  idade  renda      produto     regiao-BR  pre-pandemia\n",
              "0  XXXXXXX72     30   7452        batom       Sudeste             1\n",
              "1  XXXXXXX15     59    837  desodorante      Nordeste             1\n",
              "2  XXXXXXX70     28   3231       sombra  Centro-Oeste             1\n",
              "3  XXXXXXX99     27   5409        batom           Sul             1\n",
              "4  XXXXXXX98     24   1142        batom       Sudeste             1\n",
              "5  XXXXXXX60     29   8055        batom      Nordeste             1\n",
              "6  XXXXXXX73     22   9343        batom      Nordeste             1\n",
              "7  XXXXXXX31     31   3748        batom       Sudeste             1\n",
              "8  XXXXXXX13     34   3118  desodorante      Nordeste             1\n",
              "9  XXXXXXX65     47   7404        batom           Sul             1"
            ],
            "text/html": [
              "\n",
              "  <div id=\"df-31f968fd-596e-4077-9c7d-bd4ba27a65d7\" class=\"colab-df-container\">\n",
              "    <div>\n",
              "<style scoped>\n",
              "    .dataframe tbody tr th:only-of-type {\n",
              "        vertical-align: middle;\n",
              "    }\n",
              "\n",
              "    .dataframe tbody tr th {\n",
              "        vertical-align: top;\n",
              "    }\n",
              "\n",
              "    .dataframe thead th {\n",
              "        text-align: right;\n",
              "    }\n",
              "</style>\n",
              "<table border=\"1\" class=\"dataframe\">\n",
              "  <thead>\n",
              "    <tr style=\"text-align: right;\">\n",
              "      <th></th>\n",
              "      <th>id_cliente</th>\n",
              "      <th>idade</th>\n",
              "      <th>renda</th>\n",
              "      <th>produto</th>\n",
              "      <th>regiao-BR</th>\n",
              "      <th>pre-pandemia</th>\n",
              "    </tr>\n",
              "  </thead>\n",
              "  <tbody>\n",
              "    <tr>\n",
              "      <th>0</th>\n",
              "      <td>XXXXXXX72</td>\n",
              "      <td>30</td>\n",
              "      <td>7452</td>\n",
              "      <td>batom</td>\n",
              "      <td>Sudeste</td>\n",
              "      <td>1</td>\n",
              "    </tr>\n",
              "    <tr>\n",
              "      <th>1</th>\n",
              "      <td>XXXXXXX15</td>\n",
              "      <td>59</td>\n",
              "      <td>837</td>\n",
              "      <td>desodorante</td>\n",
              "      <td>Nordeste</td>\n",
              "      <td>1</td>\n",
              "    </tr>\n",
              "    <tr>\n",
              "      <th>2</th>\n",
              "      <td>XXXXXXX70</td>\n",
              "      <td>28</td>\n",
              "      <td>3231</td>\n",
              "      <td>sombra</td>\n",
              "      <td>Centro-Oeste</td>\n",
              "      <td>1</td>\n",
              "    </tr>\n",
              "    <tr>\n",
              "      <th>3</th>\n",
              "      <td>XXXXXXX99</td>\n",
              "      <td>27</td>\n",
              "      <td>5409</td>\n",
              "      <td>batom</td>\n",
              "      <td>Sul</td>\n",
              "      <td>1</td>\n",
              "    </tr>\n",
              "    <tr>\n",
              "      <th>4</th>\n",
              "      <td>XXXXXXX98</td>\n",
              "      <td>24</td>\n",
              "      <td>1142</td>\n",
              "      <td>batom</td>\n",
              "      <td>Sudeste</td>\n",
              "      <td>1</td>\n",
              "    </tr>\n",
              "    <tr>\n",
              "      <th>5</th>\n",
              "      <td>XXXXXXX60</td>\n",
              "      <td>29</td>\n",
              "      <td>8055</td>\n",
              "      <td>batom</td>\n",
              "      <td>Nordeste</td>\n",
              "      <td>1</td>\n",
              "    </tr>\n",
              "    <tr>\n",
              "      <th>6</th>\n",
              "      <td>XXXXXXX73</td>\n",
              "      <td>22</td>\n",
              "      <td>9343</td>\n",
              "      <td>batom</td>\n",
              "      <td>Nordeste</td>\n",
              "      <td>1</td>\n",
              "    </tr>\n",
              "    <tr>\n",
              "      <th>7</th>\n",
              "      <td>XXXXXXX31</td>\n",
              "      <td>31</td>\n",
              "      <td>3748</td>\n",
              "      <td>batom</td>\n",
              "      <td>Sudeste</td>\n",
              "      <td>1</td>\n",
              "    </tr>\n",
              "    <tr>\n",
              "      <th>8</th>\n",
              "      <td>XXXXXXX13</td>\n",
              "      <td>34</td>\n",
              "      <td>3118</td>\n",
              "      <td>desodorante</td>\n",
              "      <td>Nordeste</td>\n",
              "      <td>1</td>\n",
              "    </tr>\n",
              "    <tr>\n",
              "      <th>9</th>\n",
              "      <td>XXXXXXX65</td>\n",
              "      <td>47</td>\n",
              "      <td>7404</td>\n",
              "      <td>batom</td>\n",
              "      <td>Sul</td>\n",
              "      <td>1</td>\n",
              "    </tr>\n",
              "  </tbody>\n",
              "</table>\n",
              "</div>\n",
              "    <div class=\"colab-df-buttons\">\n",
              "\n",
              "  <div class=\"colab-df-container\">\n",
              "    <button class=\"colab-df-convert\" onclick=\"convertToInteractive('df-31f968fd-596e-4077-9c7d-bd4ba27a65d7')\"\n",
              "            title=\"Convert this dataframe to an interactive table.\"\n",
              "            style=\"display:none;\">\n",
              "\n",
              "  <svg xmlns=\"http://www.w3.org/2000/svg\" height=\"24px\" viewBox=\"0 -960 960 960\">\n",
              "    <path d=\"M120-120v-720h720v720H120Zm60-500h600v-160H180v160Zm220 220h160v-160H400v160Zm0 220h160v-160H400v160ZM180-400h160v-160H180v160Zm440 0h160v-160H620v160ZM180-180h160v-160H180v160Zm440 0h160v-160H620v160Z\"/>\n",
              "  </svg>\n",
              "    </button>\n",
              "\n",
              "  <style>\n",
              "    .colab-df-container {\n",
              "      display:flex;\n",
              "      gap: 12px;\n",
              "    }\n",
              "\n",
              "    .colab-df-convert {\n",
              "      background-color: #E8F0FE;\n",
              "      border: none;\n",
              "      border-radius: 50%;\n",
              "      cursor: pointer;\n",
              "      display: none;\n",
              "      fill: #1967D2;\n",
              "      height: 32px;\n",
              "      padding: 0 0 0 0;\n",
              "      width: 32px;\n",
              "    }\n",
              "\n",
              "    .colab-df-convert:hover {\n",
              "      background-color: #E2EBFA;\n",
              "      box-shadow: 0px 1px 2px rgba(60, 64, 67, 0.3), 0px 1px 3px 1px rgba(60, 64, 67, 0.15);\n",
              "      fill: #174EA6;\n",
              "    }\n",
              "\n",
              "    .colab-df-buttons div {\n",
              "      margin-bottom: 4px;\n",
              "    }\n",
              "\n",
              "    [theme=dark] .colab-df-convert {\n",
              "      background-color: #3B4455;\n",
              "      fill: #D2E3FC;\n",
              "    }\n",
              "\n",
              "    [theme=dark] .colab-df-convert:hover {\n",
              "      background-color: #434B5C;\n",
              "      box-shadow: 0px 1px 3px 1px rgba(0, 0, 0, 0.15);\n",
              "      filter: drop-shadow(0px 1px 2px rgba(0, 0, 0, 0.3));\n",
              "      fill: #FFFFFF;\n",
              "    }\n",
              "  </style>\n",
              "\n",
              "    <script>\n",
              "      const buttonEl =\n",
              "        document.querySelector('#df-31f968fd-596e-4077-9c7d-bd4ba27a65d7 button.colab-df-convert');\n",
              "      buttonEl.style.display =\n",
              "        google.colab.kernel.accessAllowed ? 'block' : 'none';\n",
              "\n",
              "      async function convertToInteractive(key) {\n",
              "        const element = document.querySelector('#df-31f968fd-596e-4077-9c7d-bd4ba27a65d7');\n",
              "        const dataTable =\n",
              "          await google.colab.kernel.invokeFunction('convertToInteractive',\n",
              "                                                    [key], {});\n",
              "        if (!dataTable) return;\n",
              "\n",
              "        const docLinkHtml = 'Like what you see? Visit the ' +\n",
              "          '<a target=\"_blank\" href=https://colab.research.google.com/notebooks/data_table.ipynb>data table notebook</a>'\n",
              "          + ' to learn more about interactive tables.';\n",
              "        element.innerHTML = '';\n",
              "        dataTable['output_type'] = 'display_data';\n",
              "        await google.colab.output.renderOutput(dataTable, element);\n",
              "        const docLink = document.createElement('div');\n",
              "        docLink.innerHTML = docLinkHtml;\n",
              "        element.appendChild(docLink);\n",
              "      }\n",
              "    </script>\n",
              "  </div>\n",
              "\n",
              "\n",
              "<div id=\"df-ae17a31f-d1f7-4097-82b3-c90ac542a007\">\n",
              "  <button class=\"colab-df-quickchart\" onclick=\"quickchart('df-ae17a31f-d1f7-4097-82b3-c90ac542a007')\"\n",
              "            title=\"Suggest charts.\"\n",
              "            style=\"display:none;\">\n",
              "\n",
              "<svg xmlns=\"http://www.w3.org/2000/svg\" height=\"24px\"viewBox=\"0 0 24 24\"\n",
              "     width=\"24px\">\n",
              "    <g>\n",
              "        <path d=\"M19 3H5c-1.1 0-2 .9-2 2v14c0 1.1.9 2 2 2h14c1.1 0 2-.9 2-2V5c0-1.1-.9-2-2-2zM9 17H7v-7h2v7zm4 0h-2V7h2v10zm4 0h-2v-4h2v4z\"/>\n",
              "    </g>\n",
              "</svg>\n",
              "  </button>\n",
              "\n",
              "<style>\n",
              "  .colab-df-quickchart {\n",
              "      --bg-color: #E8F0FE;\n",
              "      --fill-color: #1967D2;\n",
              "      --hover-bg-color: #E2EBFA;\n",
              "      --hover-fill-color: #174EA6;\n",
              "      --disabled-fill-color: #AAA;\n",
              "      --disabled-bg-color: #DDD;\n",
              "  }\n",
              "\n",
              "  [theme=dark] .colab-df-quickchart {\n",
              "      --bg-color: #3B4455;\n",
              "      --fill-color: #D2E3FC;\n",
              "      --hover-bg-color: #434B5C;\n",
              "      --hover-fill-color: #FFFFFF;\n",
              "      --disabled-bg-color: #3B4455;\n",
              "      --disabled-fill-color: #666;\n",
              "  }\n",
              "\n",
              "  .colab-df-quickchart {\n",
              "    background-color: var(--bg-color);\n",
              "    border: none;\n",
              "    border-radius: 50%;\n",
              "    cursor: pointer;\n",
              "    display: none;\n",
              "    fill: var(--fill-color);\n",
              "    height: 32px;\n",
              "    padding: 0;\n",
              "    width: 32px;\n",
              "  }\n",
              "\n",
              "  .colab-df-quickchart:hover {\n",
              "    background-color: var(--hover-bg-color);\n",
              "    box-shadow: 0 1px 2px rgba(60, 64, 67, 0.3), 0 1px 3px 1px rgba(60, 64, 67, 0.15);\n",
              "    fill: var(--button-hover-fill-color);\n",
              "  }\n",
              "\n",
              "  .colab-df-quickchart-complete:disabled,\n",
              "  .colab-df-quickchart-complete:disabled:hover {\n",
              "    background-color: var(--disabled-bg-color);\n",
              "    fill: var(--disabled-fill-color);\n",
              "    box-shadow: none;\n",
              "  }\n",
              "\n",
              "  .colab-df-spinner {\n",
              "    border: 2px solid var(--fill-color);\n",
              "    border-color: transparent;\n",
              "    border-bottom-color: var(--fill-color);\n",
              "    animation:\n",
              "      spin 1s steps(1) infinite;\n",
              "  }\n",
              "\n",
              "  @keyframes spin {\n",
              "    0% {\n",
              "      border-color: transparent;\n",
              "      border-bottom-color: var(--fill-color);\n",
              "      border-left-color: var(--fill-color);\n",
              "    }\n",
              "    20% {\n",
              "      border-color: transparent;\n",
              "      border-left-color: var(--fill-color);\n",
              "      border-top-color: var(--fill-color);\n",
              "    }\n",
              "    30% {\n",
              "      border-color: transparent;\n",
              "      border-left-color: var(--fill-color);\n",
              "      border-top-color: var(--fill-color);\n",
              "      border-right-color: var(--fill-color);\n",
              "    }\n",
              "    40% {\n",
              "      border-color: transparent;\n",
              "      border-right-color: var(--fill-color);\n",
              "      border-top-color: var(--fill-color);\n",
              "    }\n",
              "    60% {\n",
              "      border-color: transparent;\n",
              "      border-right-color: var(--fill-color);\n",
              "    }\n",
              "    80% {\n",
              "      border-color: transparent;\n",
              "      border-right-color: var(--fill-color);\n",
              "      border-bottom-color: var(--fill-color);\n",
              "    }\n",
              "    90% {\n",
              "      border-color: transparent;\n",
              "      border-bottom-color: var(--fill-color);\n",
              "    }\n",
              "  }\n",
              "</style>\n",
              "\n",
              "  <script>\n",
              "    async function quickchart(key) {\n",
              "      const quickchartButtonEl =\n",
              "        document.querySelector('#' + key + ' button');\n",
              "      quickchartButtonEl.disabled = true;  // To prevent multiple clicks.\n",
              "      quickchartButtonEl.classList.add('colab-df-spinner');\n",
              "      try {\n",
              "        const charts = await google.colab.kernel.invokeFunction(\n",
              "            'suggestCharts', [key], {});\n",
              "      } catch (error) {\n",
              "        console.error('Error during call to suggestCharts:', error);\n",
              "      }\n",
              "      quickchartButtonEl.classList.remove('colab-df-spinner');\n",
              "      quickchartButtonEl.classList.add('colab-df-quickchart-complete');\n",
              "    }\n",
              "    (() => {\n",
              "      let quickchartButtonEl =\n",
              "        document.querySelector('#df-ae17a31f-d1f7-4097-82b3-c90ac542a007 button');\n",
              "      quickchartButtonEl.style.display =\n",
              "        google.colab.kernel.accessAllowed ? 'block' : 'none';\n",
              "    })();\n",
              "  </script>\n",
              "</div>\n",
              "    </div>\n",
              "  </div>\n"
            ]
          },
          "metadata": {},
          "execution_count": 5
        }
      ],
      "source": [
        "#Visualizando os dados\n",
        "df1.head(10)"
      ]
    },
    {
      "cell_type": "code",
      "execution_count": null,
      "metadata": {
        "colab": {
          "base_uri": "https://localhost:8080/"
        },
        "id": "Eqc5tK_8F8wu",
        "outputId": "dd600179-fc03-431b-9080-eb92c92daff9"
      },
      "outputs": [
        {
          "output_type": "execute_result",
          "data": {
            "text/plain": [
              "[0, 1]"
            ]
          },
          "metadata": {},
          "execution_count": 6
        }
      ],
      "source": [
        "#Verificando a coluna pre-pandemia\n",
        "sorted(df1['pre-pandemia'].unique())"
      ]
    },
    {
      "cell_type": "code",
      "execution_count": null,
      "metadata": {
        "id": "8qBJ_UmHO_S9"
      },
      "outputs": [],
      "source": [
        "#Renomeando a coluna pre-pandemia\n",
        "df1 = df1.rename(columns={'pre-pandemia': 'periodo'})"
      ]
    },
    {
      "cell_type": "code",
      "execution_count": null,
      "metadata": {
        "id": "7DqHAHnSL8Q9"
      },
      "outputs": [],
      "source": [
        "#Criar um dicionário de mapeamento de valores numéricos para palavras\n",
        "mapeamento = {1: 'pré', 0: 'pós'}\n"
      ]
    },
    {
      "cell_type": "code",
      "execution_count": null,
      "metadata": {
        "id": "5dmZNBqmOYlu"
      },
      "outputs": [],
      "source": [
        "#Substituir os valores numéricos pela palavra correspondente na coluna 'pre-pandemia'\n",
        "df1['pandemia_identificador'] = df1['periodo'].map(mapeamento)\n"
      ]
    },
    {
      "cell_type": "code",
      "execution_count": null,
      "metadata": {
        "colab": {
          "base_uri": "https://localhost:8080/",
          "height": 423
        },
        "id": "VVBgB7D6PZAj",
        "outputId": "6ce9d3c3-c1cd-4183-ad0b-d26705234bd9"
      },
      "outputs": [
        {
          "output_type": "execute_result",
          "data": {
            "text/plain": [
              "    id_cliente  idade  renda      produto     regiao-BR  periodo  \\\n",
              "0    XXXXXXX72     30   7452        batom       Sudeste        1   \n",
              "1    XXXXXXX15     59    837  desodorante      Nordeste        1   \n",
              "2    XXXXXXX70     28   3231       sombra  Centro-Oeste        1   \n",
              "3    XXXXXXX99     27   5409        batom           Sul        1   \n",
              "4    XXXXXXX98     24   1142        batom       Sudeste        1   \n",
              "..         ...    ...    ...          ...           ...      ...   \n",
              "198  XXXXXXX25     46  16918  desodorante           Sul        0   \n",
              "199  XXXXXXX50     43  10930  antissinais         Norte        0   \n",
              "200  XXXXXXX65     48  10246      perfume      Nordeste        0   \n",
              "201  XXXXXXX61     47  12337        batom       Sudeste        0   \n",
              "202  XXXXXXX89     58  14108  desodorante           Sul        0   \n",
              "\n",
              "    pandemia_identificador  \n",
              "0                      pré  \n",
              "1                      pré  \n",
              "2                      pré  \n",
              "3                      pré  \n",
              "4                      pré  \n",
              "..                     ...  \n",
              "198                    pós  \n",
              "199                    pós  \n",
              "200                    pós  \n",
              "201                    pós  \n",
              "202                    pós  \n",
              "\n",
              "[203 rows x 7 columns]"
            ],
            "text/html": [
              "\n",
              "  <div id=\"df-dc86b649-1c20-423e-a696-64c3ea5c902c\" class=\"colab-df-container\">\n",
              "    <div>\n",
              "<style scoped>\n",
              "    .dataframe tbody tr th:only-of-type {\n",
              "        vertical-align: middle;\n",
              "    }\n",
              "\n",
              "    .dataframe tbody tr th {\n",
              "        vertical-align: top;\n",
              "    }\n",
              "\n",
              "    .dataframe thead th {\n",
              "        text-align: right;\n",
              "    }\n",
              "</style>\n",
              "<table border=\"1\" class=\"dataframe\">\n",
              "  <thead>\n",
              "    <tr style=\"text-align: right;\">\n",
              "      <th></th>\n",
              "      <th>id_cliente</th>\n",
              "      <th>idade</th>\n",
              "      <th>renda</th>\n",
              "      <th>produto</th>\n",
              "      <th>regiao-BR</th>\n",
              "      <th>periodo</th>\n",
              "      <th>pandemia_identificador</th>\n",
              "    </tr>\n",
              "  </thead>\n",
              "  <tbody>\n",
              "    <tr>\n",
              "      <th>0</th>\n",
              "      <td>XXXXXXX72</td>\n",
              "      <td>30</td>\n",
              "      <td>7452</td>\n",
              "      <td>batom</td>\n",
              "      <td>Sudeste</td>\n",
              "      <td>1</td>\n",
              "      <td>pré</td>\n",
              "    </tr>\n",
              "    <tr>\n",
              "      <th>1</th>\n",
              "      <td>XXXXXXX15</td>\n",
              "      <td>59</td>\n",
              "      <td>837</td>\n",
              "      <td>desodorante</td>\n",
              "      <td>Nordeste</td>\n",
              "      <td>1</td>\n",
              "      <td>pré</td>\n",
              "    </tr>\n",
              "    <tr>\n",
              "      <th>2</th>\n",
              "      <td>XXXXXXX70</td>\n",
              "      <td>28</td>\n",
              "      <td>3231</td>\n",
              "      <td>sombra</td>\n",
              "      <td>Centro-Oeste</td>\n",
              "      <td>1</td>\n",
              "      <td>pré</td>\n",
              "    </tr>\n",
              "    <tr>\n",
              "      <th>3</th>\n",
              "      <td>XXXXXXX99</td>\n",
              "      <td>27</td>\n",
              "      <td>5409</td>\n",
              "      <td>batom</td>\n",
              "      <td>Sul</td>\n",
              "      <td>1</td>\n",
              "      <td>pré</td>\n",
              "    </tr>\n",
              "    <tr>\n",
              "      <th>4</th>\n",
              "      <td>XXXXXXX98</td>\n",
              "      <td>24</td>\n",
              "      <td>1142</td>\n",
              "      <td>batom</td>\n",
              "      <td>Sudeste</td>\n",
              "      <td>1</td>\n",
              "      <td>pré</td>\n",
              "    </tr>\n",
              "    <tr>\n",
              "      <th>...</th>\n",
              "      <td>...</td>\n",
              "      <td>...</td>\n",
              "      <td>...</td>\n",
              "      <td>...</td>\n",
              "      <td>...</td>\n",
              "      <td>...</td>\n",
              "      <td>...</td>\n",
              "    </tr>\n",
              "    <tr>\n",
              "      <th>198</th>\n",
              "      <td>XXXXXXX25</td>\n",
              "      <td>46</td>\n",
              "      <td>16918</td>\n",
              "      <td>desodorante</td>\n",
              "      <td>Sul</td>\n",
              "      <td>0</td>\n",
              "      <td>pós</td>\n",
              "    </tr>\n",
              "    <tr>\n",
              "      <th>199</th>\n",
              "      <td>XXXXXXX50</td>\n",
              "      <td>43</td>\n",
              "      <td>10930</td>\n",
              "      <td>antissinais</td>\n",
              "      <td>Norte</td>\n",
              "      <td>0</td>\n",
              "      <td>pós</td>\n",
              "    </tr>\n",
              "    <tr>\n",
              "      <th>200</th>\n",
              "      <td>XXXXXXX65</td>\n",
              "      <td>48</td>\n",
              "      <td>10246</td>\n",
              "      <td>perfume</td>\n",
              "      <td>Nordeste</td>\n",
              "      <td>0</td>\n",
              "      <td>pós</td>\n",
              "    </tr>\n",
              "    <tr>\n",
              "      <th>201</th>\n",
              "      <td>XXXXXXX61</td>\n",
              "      <td>47</td>\n",
              "      <td>12337</td>\n",
              "      <td>batom</td>\n",
              "      <td>Sudeste</td>\n",
              "      <td>0</td>\n",
              "      <td>pós</td>\n",
              "    </tr>\n",
              "    <tr>\n",
              "      <th>202</th>\n",
              "      <td>XXXXXXX89</td>\n",
              "      <td>58</td>\n",
              "      <td>14108</td>\n",
              "      <td>desodorante</td>\n",
              "      <td>Sul</td>\n",
              "      <td>0</td>\n",
              "      <td>pós</td>\n",
              "    </tr>\n",
              "  </tbody>\n",
              "</table>\n",
              "<p>203 rows × 7 columns</p>\n",
              "</div>\n",
              "    <div class=\"colab-df-buttons\">\n",
              "\n",
              "  <div class=\"colab-df-container\">\n",
              "    <button class=\"colab-df-convert\" onclick=\"convertToInteractive('df-dc86b649-1c20-423e-a696-64c3ea5c902c')\"\n",
              "            title=\"Convert this dataframe to an interactive table.\"\n",
              "            style=\"display:none;\">\n",
              "\n",
              "  <svg xmlns=\"http://www.w3.org/2000/svg\" height=\"24px\" viewBox=\"0 -960 960 960\">\n",
              "    <path d=\"M120-120v-720h720v720H120Zm60-500h600v-160H180v160Zm220 220h160v-160H400v160Zm0 220h160v-160H400v160ZM180-400h160v-160H180v160Zm440 0h160v-160H620v160ZM180-180h160v-160H180v160Zm440 0h160v-160H620v160Z\"/>\n",
              "  </svg>\n",
              "    </button>\n",
              "\n",
              "  <style>\n",
              "    .colab-df-container {\n",
              "      display:flex;\n",
              "      gap: 12px;\n",
              "    }\n",
              "\n",
              "    .colab-df-convert {\n",
              "      background-color: #E8F0FE;\n",
              "      border: none;\n",
              "      border-radius: 50%;\n",
              "      cursor: pointer;\n",
              "      display: none;\n",
              "      fill: #1967D2;\n",
              "      height: 32px;\n",
              "      padding: 0 0 0 0;\n",
              "      width: 32px;\n",
              "    }\n",
              "\n",
              "    .colab-df-convert:hover {\n",
              "      background-color: #E2EBFA;\n",
              "      box-shadow: 0px 1px 2px rgba(60, 64, 67, 0.3), 0px 1px 3px 1px rgba(60, 64, 67, 0.15);\n",
              "      fill: #174EA6;\n",
              "    }\n",
              "\n",
              "    .colab-df-buttons div {\n",
              "      margin-bottom: 4px;\n",
              "    }\n",
              "\n",
              "    [theme=dark] .colab-df-convert {\n",
              "      background-color: #3B4455;\n",
              "      fill: #D2E3FC;\n",
              "    }\n",
              "\n",
              "    [theme=dark] .colab-df-convert:hover {\n",
              "      background-color: #434B5C;\n",
              "      box-shadow: 0px 1px 3px 1px rgba(0, 0, 0, 0.15);\n",
              "      filter: drop-shadow(0px 1px 2px rgba(0, 0, 0, 0.3));\n",
              "      fill: #FFFFFF;\n",
              "    }\n",
              "  </style>\n",
              "\n",
              "    <script>\n",
              "      const buttonEl =\n",
              "        document.querySelector('#df-dc86b649-1c20-423e-a696-64c3ea5c902c button.colab-df-convert');\n",
              "      buttonEl.style.display =\n",
              "        google.colab.kernel.accessAllowed ? 'block' : 'none';\n",
              "\n",
              "      async function convertToInteractive(key) {\n",
              "        const element = document.querySelector('#df-dc86b649-1c20-423e-a696-64c3ea5c902c');\n",
              "        const dataTable =\n",
              "          await google.colab.kernel.invokeFunction('convertToInteractive',\n",
              "                                                    [key], {});\n",
              "        if (!dataTable) return;\n",
              "\n",
              "        const docLinkHtml = 'Like what you see? Visit the ' +\n",
              "          '<a target=\"_blank\" href=https://colab.research.google.com/notebooks/data_table.ipynb>data table notebook</a>'\n",
              "          + ' to learn more about interactive tables.';\n",
              "        element.innerHTML = '';\n",
              "        dataTable['output_type'] = 'display_data';\n",
              "        await google.colab.output.renderOutput(dataTable, element);\n",
              "        const docLink = document.createElement('div');\n",
              "        docLink.innerHTML = docLinkHtml;\n",
              "        element.appendChild(docLink);\n",
              "      }\n",
              "    </script>\n",
              "  </div>\n",
              "\n",
              "\n",
              "<div id=\"df-c89a5b2b-d3d7-4d37-b74f-62e7dc9228ec\">\n",
              "  <button class=\"colab-df-quickchart\" onclick=\"quickchart('df-c89a5b2b-d3d7-4d37-b74f-62e7dc9228ec')\"\n",
              "            title=\"Suggest charts.\"\n",
              "            style=\"display:none;\">\n",
              "\n",
              "<svg xmlns=\"http://www.w3.org/2000/svg\" height=\"24px\"viewBox=\"0 0 24 24\"\n",
              "     width=\"24px\">\n",
              "    <g>\n",
              "        <path d=\"M19 3H5c-1.1 0-2 .9-2 2v14c0 1.1.9 2 2 2h14c1.1 0 2-.9 2-2V5c0-1.1-.9-2-2-2zM9 17H7v-7h2v7zm4 0h-2V7h2v10zm4 0h-2v-4h2v4z\"/>\n",
              "    </g>\n",
              "</svg>\n",
              "  </button>\n",
              "\n",
              "<style>\n",
              "  .colab-df-quickchart {\n",
              "      --bg-color: #E8F0FE;\n",
              "      --fill-color: #1967D2;\n",
              "      --hover-bg-color: #E2EBFA;\n",
              "      --hover-fill-color: #174EA6;\n",
              "      --disabled-fill-color: #AAA;\n",
              "      --disabled-bg-color: #DDD;\n",
              "  }\n",
              "\n",
              "  [theme=dark] .colab-df-quickchart {\n",
              "      --bg-color: #3B4455;\n",
              "      --fill-color: #D2E3FC;\n",
              "      --hover-bg-color: #434B5C;\n",
              "      --hover-fill-color: #FFFFFF;\n",
              "      --disabled-bg-color: #3B4455;\n",
              "      --disabled-fill-color: #666;\n",
              "  }\n",
              "\n",
              "  .colab-df-quickchart {\n",
              "    background-color: var(--bg-color);\n",
              "    border: none;\n",
              "    border-radius: 50%;\n",
              "    cursor: pointer;\n",
              "    display: none;\n",
              "    fill: var(--fill-color);\n",
              "    height: 32px;\n",
              "    padding: 0;\n",
              "    width: 32px;\n",
              "  }\n",
              "\n",
              "  .colab-df-quickchart:hover {\n",
              "    background-color: var(--hover-bg-color);\n",
              "    box-shadow: 0 1px 2px rgba(60, 64, 67, 0.3), 0 1px 3px 1px rgba(60, 64, 67, 0.15);\n",
              "    fill: var(--button-hover-fill-color);\n",
              "  }\n",
              "\n",
              "  .colab-df-quickchart-complete:disabled,\n",
              "  .colab-df-quickchart-complete:disabled:hover {\n",
              "    background-color: var(--disabled-bg-color);\n",
              "    fill: var(--disabled-fill-color);\n",
              "    box-shadow: none;\n",
              "  }\n",
              "\n",
              "  .colab-df-spinner {\n",
              "    border: 2px solid var(--fill-color);\n",
              "    border-color: transparent;\n",
              "    border-bottom-color: var(--fill-color);\n",
              "    animation:\n",
              "      spin 1s steps(1) infinite;\n",
              "  }\n",
              "\n",
              "  @keyframes spin {\n",
              "    0% {\n",
              "      border-color: transparent;\n",
              "      border-bottom-color: var(--fill-color);\n",
              "      border-left-color: var(--fill-color);\n",
              "    }\n",
              "    20% {\n",
              "      border-color: transparent;\n",
              "      border-left-color: var(--fill-color);\n",
              "      border-top-color: var(--fill-color);\n",
              "    }\n",
              "    30% {\n",
              "      border-color: transparent;\n",
              "      border-left-color: var(--fill-color);\n",
              "      border-top-color: var(--fill-color);\n",
              "      border-right-color: var(--fill-color);\n",
              "    }\n",
              "    40% {\n",
              "      border-color: transparent;\n",
              "      border-right-color: var(--fill-color);\n",
              "      border-top-color: var(--fill-color);\n",
              "    }\n",
              "    60% {\n",
              "      border-color: transparent;\n",
              "      border-right-color: var(--fill-color);\n",
              "    }\n",
              "    80% {\n",
              "      border-color: transparent;\n",
              "      border-right-color: var(--fill-color);\n",
              "      border-bottom-color: var(--fill-color);\n",
              "    }\n",
              "    90% {\n",
              "      border-color: transparent;\n",
              "      border-bottom-color: var(--fill-color);\n",
              "    }\n",
              "  }\n",
              "</style>\n",
              "\n",
              "  <script>\n",
              "    async function quickchart(key) {\n",
              "      const quickchartButtonEl =\n",
              "        document.querySelector('#' + key + ' button');\n",
              "      quickchartButtonEl.disabled = true;  // To prevent multiple clicks.\n",
              "      quickchartButtonEl.classList.add('colab-df-spinner');\n",
              "      try {\n",
              "        const charts = await google.colab.kernel.invokeFunction(\n",
              "            'suggestCharts', [key], {});\n",
              "      } catch (error) {\n",
              "        console.error('Error during call to suggestCharts:', error);\n",
              "      }\n",
              "      quickchartButtonEl.classList.remove('colab-df-spinner');\n",
              "      quickchartButtonEl.classList.add('colab-df-quickchart-complete');\n",
              "    }\n",
              "    (() => {\n",
              "      let quickchartButtonEl =\n",
              "        document.querySelector('#df-c89a5b2b-d3d7-4d37-b74f-62e7dc9228ec button');\n",
              "      quickchartButtonEl.style.display =\n",
              "        google.colab.kernel.accessAllowed ? 'block' : 'none';\n",
              "    })();\n",
              "  </script>\n",
              "</div>\n",
              "    </div>\n",
              "  </div>\n"
            ]
          },
          "metadata": {},
          "execution_count": 10
        }
      ],
      "source": [
        "#Exibir o DataFrame resultante\n",
        "df1"
      ]
    },
    {
      "cell_type": "markdown",
      "metadata": {
        "id": "w4EliNR_Dm6A"
      },
      "source": [
        "### 1. Entenda a distribuição de variáveis como de idade / renda / regiao /produtos mais comprados antes e depois da pandemia:\n"
      ]
    },
    {
      "cell_type": "markdown",
      "metadata": {
        "id": "PmJVPFslEEvu"
      },
      "source": [
        "\n",
        "a. Identifique as distribuições\n"
      ]
    },
    {
      "cell_type": "code",
      "source": [
        "#Contando o número de observações em pré e pós-pandemia\n",
        "df1[\"periodo\"].value_counts()"
      ],
      "metadata": {
        "colab": {
          "base_uri": "https://localhost:8080/"
        },
        "id": "VXa4WjYbZUR1",
        "outputId": "dd376b8a-00b2-4588-8587-f4ecaf40462d"
      },
      "execution_count": null,
      "outputs": [
        {
          "output_type": "execute_result",
          "data": {
            "text/plain": [
              "0    102\n",
              "1    101\n",
              "Name: periodo, dtype: int64"
            ]
          },
          "metadata": {},
          "execution_count": 11
        }
      ]
    },
    {
      "cell_type": "code",
      "execution_count": null,
      "metadata": {
        "colab": {
          "base_uri": "https://localhost:8080/",
          "height": 112
        },
        "id": "Ri6Fzr3gYTIs",
        "outputId": "fb6cf895-78a6-4832-a670-eacb38302f6a"
      },
      "outputs": [
        {
          "output_type": "execute_result",
          "data": {
            "text/plain": [
              "  pandemia_identificador  idade\n",
              "0                    pré  39.88\n",
              "1                    pós  44.90"
            ],
            "text/html": [
              "\n",
              "  <div id=\"df-d96e8d1c-9f29-41f3-8fb1-1049391c41ea\" class=\"colab-df-container\">\n",
              "    <div>\n",
              "<style scoped>\n",
              "    .dataframe tbody tr th:only-of-type {\n",
              "        vertical-align: middle;\n",
              "    }\n",
              "\n",
              "    .dataframe tbody tr th {\n",
              "        vertical-align: top;\n",
              "    }\n",
              "\n",
              "    .dataframe thead th {\n",
              "        text-align: right;\n",
              "    }\n",
              "</style>\n",
              "<table border=\"1\" class=\"dataframe\">\n",
              "  <thead>\n",
              "    <tr style=\"text-align: right;\">\n",
              "      <th></th>\n",
              "      <th>pandemia_identificador</th>\n",
              "      <th>idade</th>\n",
              "    </tr>\n",
              "  </thead>\n",
              "  <tbody>\n",
              "    <tr>\n",
              "      <th>0</th>\n",
              "      <td>pré</td>\n",
              "      <td>39.88</td>\n",
              "    </tr>\n",
              "    <tr>\n",
              "      <th>1</th>\n",
              "      <td>pós</td>\n",
              "      <td>44.90</td>\n",
              "    </tr>\n",
              "  </tbody>\n",
              "</table>\n",
              "</div>\n",
              "    <div class=\"colab-df-buttons\">\n",
              "\n",
              "  <div class=\"colab-df-container\">\n",
              "    <button class=\"colab-df-convert\" onclick=\"convertToInteractive('df-d96e8d1c-9f29-41f3-8fb1-1049391c41ea')\"\n",
              "            title=\"Convert this dataframe to an interactive table.\"\n",
              "            style=\"display:none;\">\n",
              "\n",
              "  <svg xmlns=\"http://www.w3.org/2000/svg\" height=\"24px\" viewBox=\"0 -960 960 960\">\n",
              "    <path d=\"M120-120v-720h720v720H120Zm60-500h600v-160H180v160Zm220 220h160v-160H400v160Zm0 220h160v-160H400v160ZM180-400h160v-160H180v160Zm440 0h160v-160H620v160ZM180-180h160v-160H180v160Zm440 0h160v-160H620v160Z\"/>\n",
              "  </svg>\n",
              "    </button>\n",
              "\n",
              "  <style>\n",
              "    .colab-df-container {\n",
              "      display:flex;\n",
              "      gap: 12px;\n",
              "    }\n",
              "\n",
              "    .colab-df-convert {\n",
              "      background-color: #E8F0FE;\n",
              "      border: none;\n",
              "      border-radius: 50%;\n",
              "      cursor: pointer;\n",
              "      display: none;\n",
              "      fill: #1967D2;\n",
              "      height: 32px;\n",
              "      padding: 0 0 0 0;\n",
              "      width: 32px;\n",
              "    }\n",
              "\n",
              "    .colab-df-convert:hover {\n",
              "      background-color: #E2EBFA;\n",
              "      box-shadow: 0px 1px 2px rgba(60, 64, 67, 0.3), 0px 1px 3px 1px rgba(60, 64, 67, 0.15);\n",
              "      fill: #174EA6;\n",
              "    }\n",
              "\n",
              "    .colab-df-buttons div {\n",
              "      margin-bottom: 4px;\n",
              "    }\n",
              "\n",
              "    [theme=dark] .colab-df-convert {\n",
              "      background-color: #3B4455;\n",
              "      fill: #D2E3FC;\n",
              "    }\n",
              "\n",
              "    [theme=dark] .colab-df-convert:hover {\n",
              "      background-color: #434B5C;\n",
              "      box-shadow: 0px 1px 3px 1px rgba(0, 0, 0, 0.15);\n",
              "      filter: drop-shadow(0px 1px 2px rgba(0, 0, 0, 0.3));\n",
              "      fill: #FFFFFF;\n",
              "    }\n",
              "  </style>\n",
              "\n",
              "    <script>\n",
              "      const buttonEl =\n",
              "        document.querySelector('#df-d96e8d1c-9f29-41f3-8fb1-1049391c41ea button.colab-df-convert');\n",
              "      buttonEl.style.display =\n",
              "        google.colab.kernel.accessAllowed ? 'block' : 'none';\n",
              "\n",
              "      async function convertToInteractive(key) {\n",
              "        const element = document.querySelector('#df-d96e8d1c-9f29-41f3-8fb1-1049391c41ea');\n",
              "        const dataTable =\n",
              "          await google.colab.kernel.invokeFunction('convertToInteractive',\n",
              "                                                    [key], {});\n",
              "        if (!dataTable) return;\n",
              "\n",
              "        const docLinkHtml = 'Like what you see? Visit the ' +\n",
              "          '<a target=\"_blank\" href=https://colab.research.google.com/notebooks/data_table.ipynb>data table notebook</a>'\n",
              "          + ' to learn more about interactive tables.';\n",
              "        element.innerHTML = '';\n",
              "        dataTable['output_type'] = 'display_data';\n",
              "        await google.colab.output.renderOutput(dataTable, element);\n",
              "        const docLink = document.createElement('div');\n",
              "        docLink.innerHTML = docLinkHtml;\n",
              "        element.appendChild(docLink);\n",
              "      }\n",
              "    </script>\n",
              "  </div>\n",
              "\n",
              "\n",
              "<div id=\"df-34e56829-2817-4c0b-8689-6e3451a1ce8c\">\n",
              "  <button class=\"colab-df-quickchart\" onclick=\"quickchart('df-34e56829-2817-4c0b-8689-6e3451a1ce8c')\"\n",
              "            title=\"Suggest charts.\"\n",
              "            style=\"display:none;\">\n",
              "\n",
              "<svg xmlns=\"http://www.w3.org/2000/svg\" height=\"24px\"viewBox=\"0 0 24 24\"\n",
              "     width=\"24px\">\n",
              "    <g>\n",
              "        <path d=\"M19 3H5c-1.1 0-2 .9-2 2v14c0 1.1.9 2 2 2h14c1.1 0 2-.9 2-2V5c0-1.1-.9-2-2-2zM9 17H7v-7h2v7zm4 0h-2V7h2v10zm4 0h-2v-4h2v4z\"/>\n",
              "    </g>\n",
              "</svg>\n",
              "  </button>\n",
              "\n",
              "<style>\n",
              "  .colab-df-quickchart {\n",
              "      --bg-color: #E8F0FE;\n",
              "      --fill-color: #1967D2;\n",
              "      --hover-bg-color: #E2EBFA;\n",
              "      --hover-fill-color: #174EA6;\n",
              "      --disabled-fill-color: #AAA;\n",
              "      --disabled-bg-color: #DDD;\n",
              "  }\n",
              "\n",
              "  [theme=dark] .colab-df-quickchart {\n",
              "      --bg-color: #3B4455;\n",
              "      --fill-color: #D2E3FC;\n",
              "      --hover-bg-color: #434B5C;\n",
              "      --hover-fill-color: #FFFFFF;\n",
              "      --disabled-bg-color: #3B4455;\n",
              "      --disabled-fill-color: #666;\n",
              "  }\n",
              "\n",
              "  .colab-df-quickchart {\n",
              "    background-color: var(--bg-color);\n",
              "    border: none;\n",
              "    border-radius: 50%;\n",
              "    cursor: pointer;\n",
              "    display: none;\n",
              "    fill: var(--fill-color);\n",
              "    height: 32px;\n",
              "    padding: 0;\n",
              "    width: 32px;\n",
              "  }\n",
              "\n",
              "  .colab-df-quickchart:hover {\n",
              "    background-color: var(--hover-bg-color);\n",
              "    box-shadow: 0 1px 2px rgba(60, 64, 67, 0.3), 0 1px 3px 1px rgba(60, 64, 67, 0.15);\n",
              "    fill: var(--button-hover-fill-color);\n",
              "  }\n",
              "\n",
              "  .colab-df-quickchart-complete:disabled,\n",
              "  .colab-df-quickchart-complete:disabled:hover {\n",
              "    background-color: var(--disabled-bg-color);\n",
              "    fill: var(--disabled-fill-color);\n",
              "    box-shadow: none;\n",
              "  }\n",
              "\n",
              "  .colab-df-spinner {\n",
              "    border: 2px solid var(--fill-color);\n",
              "    border-color: transparent;\n",
              "    border-bottom-color: var(--fill-color);\n",
              "    animation:\n",
              "      spin 1s steps(1) infinite;\n",
              "  }\n",
              "\n",
              "  @keyframes spin {\n",
              "    0% {\n",
              "      border-color: transparent;\n",
              "      border-bottom-color: var(--fill-color);\n",
              "      border-left-color: var(--fill-color);\n",
              "    }\n",
              "    20% {\n",
              "      border-color: transparent;\n",
              "      border-left-color: var(--fill-color);\n",
              "      border-top-color: var(--fill-color);\n",
              "    }\n",
              "    30% {\n",
              "      border-color: transparent;\n",
              "      border-left-color: var(--fill-color);\n",
              "      border-top-color: var(--fill-color);\n",
              "      border-right-color: var(--fill-color);\n",
              "    }\n",
              "    40% {\n",
              "      border-color: transparent;\n",
              "      border-right-color: var(--fill-color);\n",
              "      border-top-color: var(--fill-color);\n",
              "    }\n",
              "    60% {\n",
              "      border-color: transparent;\n",
              "      border-right-color: var(--fill-color);\n",
              "    }\n",
              "    80% {\n",
              "      border-color: transparent;\n",
              "      border-right-color: var(--fill-color);\n",
              "      border-bottom-color: var(--fill-color);\n",
              "    }\n",
              "    90% {\n",
              "      border-color: transparent;\n",
              "      border-bottom-color: var(--fill-color);\n",
              "    }\n",
              "  }\n",
              "</style>\n",
              "\n",
              "  <script>\n",
              "    async function quickchart(key) {\n",
              "      const quickchartButtonEl =\n",
              "        document.querySelector('#' + key + ' button');\n",
              "      quickchartButtonEl.disabled = true;  // To prevent multiple clicks.\n",
              "      quickchartButtonEl.classList.add('colab-df-spinner');\n",
              "      try {\n",
              "        const charts = await google.colab.kernel.invokeFunction(\n",
              "            'suggestCharts', [key], {});\n",
              "      } catch (error) {\n",
              "        console.error('Error during call to suggestCharts:', error);\n",
              "      }\n",
              "      quickchartButtonEl.classList.remove('colab-df-spinner');\n",
              "      quickchartButtonEl.classList.add('colab-df-quickchart-complete');\n",
              "    }\n",
              "    (() => {\n",
              "      let quickchartButtonEl =\n",
              "        document.querySelector('#df-34e56829-2817-4c0b-8689-6e3451a1ce8c button');\n",
              "      quickchartButtonEl.style.display =\n",
              "        google.colab.kernel.accessAllowed ? 'block' : 'none';\n",
              "    })();\n",
              "  </script>\n",
              "</div>\n",
              "    </div>\n",
              "  </div>\n"
            ]
          },
          "metadata": {},
          "execution_count": 12
        }
      ],
      "source": [
        "#Verificando a média de idade antes e depois da pandemia\n",
        "media_idade = round(df1.groupby('pandemia_identificador')['idade'].mean().reset_index(),2)\n",
        "media_idade"
      ]
    },
    {
      "cell_type": "markdown",
      "source": [
        "A média de idade é maior no pós-pandemia em comparação a pré-pandemia."
      ],
      "metadata": {
        "id": "oxb0mRAlcHUV"
      }
    },
    {
      "cell_type": "code",
      "execution_count": null,
      "metadata": {
        "colab": {
          "base_uri": "https://localhost:8080/",
          "height": 112
        },
        "id": "_n6_1pQ4YXlT",
        "outputId": "6cc9548b-6b96-4765-fbfe-a98155d2784c"
      },
      "outputs": [
        {
          "output_type": "execute_result",
          "data": {
            "text/plain": [
              "  pandemia_identificador     renda\n",
              "0                    pré   9180.64\n",
              "1                    pós  13968.50"
            ],
            "text/html": [
              "\n",
              "  <div id=\"df-364532c5-e198-4125-a112-c962236ed16a\" class=\"colab-df-container\">\n",
              "    <div>\n",
              "<style scoped>\n",
              "    .dataframe tbody tr th:only-of-type {\n",
              "        vertical-align: middle;\n",
              "    }\n",
              "\n",
              "    .dataframe tbody tr th {\n",
              "        vertical-align: top;\n",
              "    }\n",
              "\n",
              "    .dataframe thead th {\n",
              "        text-align: right;\n",
              "    }\n",
              "</style>\n",
              "<table border=\"1\" class=\"dataframe\">\n",
              "  <thead>\n",
              "    <tr style=\"text-align: right;\">\n",
              "      <th></th>\n",
              "      <th>pandemia_identificador</th>\n",
              "      <th>renda</th>\n",
              "    </tr>\n",
              "  </thead>\n",
              "  <tbody>\n",
              "    <tr>\n",
              "      <th>0</th>\n",
              "      <td>pré</td>\n",
              "      <td>9180.64</td>\n",
              "    </tr>\n",
              "    <tr>\n",
              "      <th>1</th>\n",
              "      <td>pós</td>\n",
              "      <td>13968.50</td>\n",
              "    </tr>\n",
              "  </tbody>\n",
              "</table>\n",
              "</div>\n",
              "    <div class=\"colab-df-buttons\">\n",
              "\n",
              "  <div class=\"colab-df-container\">\n",
              "    <button class=\"colab-df-convert\" onclick=\"convertToInteractive('df-364532c5-e198-4125-a112-c962236ed16a')\"\n",
              "            title=\"Convert this dataframe to an interactive table.\"\n",
              "            style=\"display:none;\">\n",
              "\n",
              "  <svg xmlns=\"http://www.w3.org/2000/svg\" height=\"24px\" viewBox=\"0 -960 960 960\">\n",
              "    <path d=\"M120-120v-720h720v720H120Zm60-500h600v-160H180v160Zm220 220h160v-160H400v160Zm0 220h160v-160H400v160ZM180-400h160v-160H180v160Zm440 0h160v-160H620v160ZM180-180h160v-160H180v160Zm440 0h160v-160H620v160Z\"/>\n",
              "  </svg>\n",
              "    </button>\n",
              "\n",
              "  <style>\n",
              "    .colab-df-container {\n",
              "      display:flex;\n",
              "      gap: 12px;\n",
              "    }\n",
              "\n",
              "    .colab-df-convert {\n",
              "      background-color: #E8F0FE;\n",
              "      border: none;\n",
              "      border-radius: 50%;\n",
              "      cursor: pointer;\n",
              "      display: none;\n",
              "      fill: #1967D2;\n",
              "      height: 32px;\n",
              "      padding: 0 0 0 0;\n",
              "      width: 32px;\n",
              "    }\n",
              "\n",
              "    .colab-df-convert:hover {\n",
              "      background-color: #E2EBFA;\n",
              "      box-shadow: 0px 1px 2px rgba(60, 64, 67, 0.3), 0px 1px 3px 1px rgba(60, 64, 67, 0.15);\n",
              "      fill: #174EA6;\n",
              "    }\n",
              "\n",
              "    .colab-df-buttons div {\n",
              "      margin-bottom: 4px;\n",
              "    }\n",
              "\n",
              "    [theme=dark] .colab-df-convert {\n",
              "      background-color: #3B4455;\n",
              "      fill: #D2E3FC;\n",
              "    }\n",
              "\n",
              "    [theme=dark] .colab-df-convert:hover {\n",
              "      background-color: #434B5C;\n",
              "      box-shadow: 0px 1px 3px 1px rgba(0, 0, 0, 0.15);\n",
              "      filter: drop-shadow(0px 1px 2px rgba(0, 0, 0, 0.3));\n",
              "      fill: #FFFFFF;\n",
              "    }\n",
              "  </style>\n",
              "\n",
              "    <script>\n",
              "      const buttonEl =\n",
              "        document.querySelector('#df-364532c5-e198-4125-a112-c962236ed16a button.colab-df-convert');\n",
              "      buttonEl.style.display =\n",
              "        google.colab.kernel.accessAllowed ? 'block' : 'none';\n",
              "\n",
              "      async function convertToInteractive(key) {\n",
              "        const element = document.querySelector('#df-364532c5-e198-4125-a112-c962236ed16a');\n",
              "        const dataTable =\n",
              "          await google.colab.kernel.invokeFunction('convertToInteractive',\n",
              "                                                    [key], {});\n",
              "        if (!dataTable) return;\n",
              "\n",
              "        const docLinkHtml = 'Like what you see? Visit the ' +\n",
              "          '<a target=\"_blank\" href=https://colab.research.google.com/notebooks/data_table.ipynb>data table notebook</a>'\n",
              "          + ' to learn more about interactive tables.';\n",
              "        element.innerHTML = '';\n",
              "        dataTable['output_type'] = 'display_data';\n",
              "        await google.colab.output.renderOutput(dataTable, element);\n",
              "        const docLink = document.createElement('div');\n",
              "        docLink.innerHTML = docLinkHtml;\n",
              "        element.appendChild(docLink);\n",
              "      }\n",
              "    </script>\n",
              "  </div>\n",
              "\n",
              "\n",
              "<div id=\"df-794880f4-b5ec-4a8c-9dfd-04073040a320\">\n",
              "  <button class=\"colab-df-quickchart\" onclick=\"quickchart('df-794880f4-b5ec-4a8c-9dfd-04073040a320')\"\n",
              "            title=\"Suggest charts.\"\n",
              "            style=\"display:none;\">\n",
              "\n",
              "<svg xmlns=\"http://www.w3.org/2000/svg\" height=\"24px\"viewBox=\"0 0 24 24\"\n",
              "     width=\"24px\">\n",
              "    <g>\n",
              "        <path d=\"M19 3H5c-1.1 0-2 .9-2 2v14c0 1.1.9 2 2 2h14c1.1 0 2-.9 2-2V5c0-1.1-.9-2-2-2zM9 17H7v-7h2v7zm4 0h-2V7h2v10zm4 0h-2v-4h2v4z\"/>\n",
              "    </g>\n",
              "</svg>\n",
              "  </button>\n",
              "\n",
              "<style>\n",
              "  .colab-df-quickchart {\n",
              "      --bg-color: #E8F0FE;\n",
              "      --fill-color: #1967D2;\n",
              "      --hover-bg-color: #E2EBFA;\n",
              "      --hover-fill-color: #174EA6;\n",
              "      --disabled-fill-color: #AAA;\n",
              "      --disabled-bg-color: #DDD;\n",
              "  }\n",
              "\n",
              "  [theme=dark] .colab-df-quickchart {\n",
              "      --bg-color: #3B4455;\n",
              "      --fill-color: #D2E3FC;\n",
              "      --hover-bg-color: #434B5C;\n",
              "      --hover-fill-color: #FFFFFF;\n",
              "      --disabled-bg-color: #3B4455;\n",
              "      --disabled-fill-color: #666;\n",
              "  }\n",
              "\n",
              "  .colab-df-quickchart {\n",
              "    background-color: var(--bg-color);\n",
              "    border: none;\n",
              "    border-radius: 50%;\n",
              "    cursor: pointer;\n",
              "    display: none;\n",
              "    fill: var(--fill-color);\n",
              "    height: 32px;\n",
              "    padding: 0;\n",
              "    width: 32px;\n",
              "  }\n",
              "\n",
              "  .colab-df-quickchart:hover {\n",
              "    background-color: var(--hover-bg-color);\n",
              "    box-shadow: 0 1px 2px rgba(60, 64, 67, 0.3), 0 1px 3px 1px rgba(60, 64, 67, 0.15);\n",
              "    fill: var(--button-hover-fill-color);\n",
              "  }\n",
              "\n",
              "  .colab-df-quickchart-complete:disabled,\n",
              "  .colab-df-quickchart-complete:disabled:hover {\n",
              "    background-color: var(--disabled-bg-color);\n",
              "    fill: var(--disabled-fill-color);\n",
              "    box-shadow: none;\n",
              "  }\n",
              "\n",
              "  .colab-df-spinner {\n",
              "    border: 2px solid var(--fill-color);\n",
              "    border-color: transparent;\n",
              "    border-bottom-color: var(--fill-color);\n",
              "    animation:\n",
              "      spin 1s steps(1) infinite;\n",
              "  }\n",
              "\n",
              "  @keyframes spin {\n",
              "    0% {\n",
              "      border-color: transparent;\n",
              "      border-bottom-color: var(--fill-color);\n",
              "      border-left-color: var(--fill-color);\n",
              "    }\n",
              "    20% {\n",
              "      border-color: transparent;\n",
              "      border-left-color: var(--fill-color);\n",
              "      border-top-color: var(--fill-color);\n",
              "    }\n",
              "    30% {\n",
              "      border-color: transparent;\n",
              "      border-left-color: var(--fill-color);\n",
              "      border-top-color: var(--fill-color);\n",
              "      border-right-color: var(--fill-color);\n",
              "    }\n",
              "    40% {\n",
              "      border-color: transparent;\n",
              "      border-right-color: var(--fill-color);\n",
              "      border-top-color: var(--fill-color);\n",
              "    }\n",
              "    60% {\n",
              "      border-color: transparent;\n",
              "      border-right-color: var(--fill-color);\n",
              "    }\n",
              "    80% {\n",
              "      border-color: transparent;\n",
              "      border-right-color: var(--fill-color);\n",
              "      border-bottom-color: var(--fill-color);\n",
              "    }\n",
              "    90% {\n",
              "      border-color: transparent;\n",
              "      border-bottom-color: var(--fill-color);\n",
              "    }\n",
              "  }\n",
              "</style>\n",
              "\n",
              "  <script>\n",
              "    async function quickchart(key) {\n",
              "      const quickchartButtonEl =\n",
              "        document.querySelector('#' + key + ' button');\n",
              "      quickchartButtonEl.disabled = true;  // To prevent multiple clicks.\n",
              "      quickchartButtonEl.classList.add('colab-df-spinner');\n",
              "      try {\n",
              "        const charts = await google.colab.kernel.invokeFunction(\n",
              "            'suggestCharts', [key], {});\n",
              "      } catch (error) {\n",
              "        console.error('Error during call to suggestCharts:', error);\n",
              "      }\n",
              "      quickchartButtonEl.classList.remove('colab-df-spinner');\n",
              "      quickchartButtonEl.classList.add('colab-df-quickchart-complete');\n",
              "    }\n",
              "    (() => {\n",
              "      let quickchartButtonEl =\n",
              "        document.querySelector('#df-794880f4-b5ec-4a8c-9dfd-04073040a320 button');\n",
              "      quickchartButtonEl.style.display =\n",
              "        google.colab.kernel.accessAllowed ? 'block' : 'none';\n",
              "    })();\n",
              "  </script>\n",
              "</div>\n",
              "    </div>\n",
              "  </div>\n"
            ]
          },
          "metadata": {},
          "execution_count": 13
        }
      ],
      "source": [
        "#Verificando a média de renda antes e depois da pandemia\n",
        "media_renda = round(df1.groupby('pandemia_identificador')['renda'].mean().reset_index(),2)\n",
        "media_renda"
      ]
    },
    {
      "cell_type": "markdown",
      "source": [
        "A média da renda também é maior no período pós-pandemia."
      ],
      "metadata": {
        "id": "nwFwv3uJcVOS"
      }
    },
    {
      "cell_type": "code",
      "execution_count": null,
      "metadata": {
        "colab": {
          "base_uri": "https://localhost:8080/",
          "height": 237
        },
        "id": "tTrhPNAlImo1",
        "outputId": "acae3a34-57e0-45e7-f79b-8e5c584fdd49"
      },
      "outputs": [
        {
          "output_type": "execute_result",
          "data": {
            "text/plain": [
              "pandemia_identificador  pré  pós\n",
              "regiao-BR                       \n",
              "Sul                      29   42\n",
              "Nordeste                 26   25\n",
              "Sudeste                  21   18\n",
              "Norte                     8    9\n",
              "Centro-Oeste             17    8"
            ],
            "text/html": [
              "\n",
              "  <div id=\"df-7e0553b2-17bd-4d7d-9fe7-ee9a54c812fc\" class=\"colab-df-container\">\n",
              "    <div>\n",
              "<style scoped>\n",
              "    .dataframe tbody tr th:only-of-type {\n",
              "        vertical-align: middle;\n",
              "    }\n",
              "\n",
              "    .dataframe tbody tr th {\n",
              "        vertical-align: top;\n",
              "    }\n",
              "\n",
              "    .dataframe thead th {\n",
              "        text-align: right;\n",
              "    }\n",
              "</style>\n",
              "<table border=\"1\" class=\"dataframe\">\n",
              "  <thead>\n",
              "    <tr style=\"text-align: right;\">\n",
              "      <th>pandemia_identificador</th>\n",
              "      <th>pré</th>\n",
              "      <th>pós</th>\n",
              "    </tr>\n",
              "    <tr>\n",
              "      <th>regiao-BR</th>\n",
              "      <th></th>\n",
              "      <th></th>\n",
              "    </tr>\n",
              "  </thead>\n",
              "  <tbody>\n",
              "    <tr>\n",
              "      <th>Sul</th>\n",
              "      <td>29</td>\n",
              "      <td>42</td>\n",
              "    </tr>\n",
              "    <tr>\n",
              "      <th>Nordeste</th>\n",
              "      <td>26</td>\n",
              "      <td>25</td>\n",
              "    </tr>\n",
              "    <tr>\n",
              "      <th>Sudeste</th>\n",
              "      <td>21</td>\n",
              "      <td>18</td>\n",
              "    </tr>\n",
              "    <tr>\n",
              "      <th>Norte</th>\n",
              "      <td>8</td>\n",
              "      <td>9</td>\n",
              "    </tr>\n",
              "    <tr>\n",
              "      <th>Centro-Oeste</th>\n",
              "      <td>17</td>\n",
              "      <td>8</td>\n",
              "    </tr>\n",
              "  </tbody>\n",
              "</table>\n",
              "</div>\n",
              "    <div class=\"colab-df-buttons\">\n",
              "\n",
              "  <div class=\"colab-df-container\">\n",
              "    <button class=\"colab-df-convert\" onclick=\"convertToInteractive('df-7e0553b2-17bd-4d7d-9fe7-ee9a54c812fc')\"\n",
              "            title=\"Convert this dataframe to an interactive table.\"\n",
              "            style=\"display:none;\">\n",
              "\n",
              "  <svg xmlns=\"http://www.w3.org/2000/svg\" height=\"24px\" viewBox=\"0 -960 960 960\">\n",
              "    <path d=\"M120-120v-720h720v720H120Zm60-500h600v-160H180v160Zm220 220h160v-160H400v160Zm0 220h160v-160H400v160ZM180-400h160v-160H180v160Zm440 0h160v-160H620v160ZM180-180h160v-160H180v160Zm440 0h160v-160H620v160Z\"/>\n",
              "  </svg>\n",
              "    </button>\n",
              "\n",
              "  <style>\n",
              "    .colab-df-container {\n",
              "      display:flex;\n",
              "      gap: 12px;\n",
              "    }\n",
              "\n",
              "    .colab-df-convert {\n",
              "      background-color: #E8F0FE;\n",
              "      border: none;\n",
              "      border-radius: 50%;\n",
              "      cursor: pointer;\n",
              "      display: none;\n",
              "      fill: #1967D2;\n",
              "      height: 32px;\n",
              "      padding: 0 0 0 0;\n",
              "      width: 32px;\n",
              "    }\n",
              "\n",
              "    .colab-df-convert:hover {\n",
              "      background-color: #E2EBFA;\n",
              "      box-shadow: 0px 1px 2px rgba(60, 64, 67, 0.3), 0px 1px 3px 1px rgba(60, 64, 67, 0.15);\n",
              "      fill: #174EA6;\n",
              "    }\n",
              "\n",
              "    .colab-df-buttons div {\n",
              "      margin-bottom: 4px;\n",
              "    }\n",
              "\n",
              "    [theme=dark] .colab-df-convert {\n",
              "      background-color: #3B4455;\n",
              "      fill: #D2E3FC;\n",
              "    }\n",
              "\n",
              "    [theme=dark] .colab-df-convert:hover {\n",
              "      background-color: #434B5C;\n",
              "      box-shadow: 0px 1px 3px 1px rgba(0, 0, 0, 0.15);\n",
              "      filter: drop-shadow(0px 1px 2px rgba(0, 0, 0, 0.3));\n",
              "      fill: #FFFFFF;\n",
              "    }\n",
              "  </style>\n",
              "\n",
              "    <script>\n",
              "      const buttonEl =\n",
              "        document.querySelector('#df-7e0553b2-17bd-4d7d-9fe7-ee9a54c812fc button.colab-df-convert');\n",
              "      buttonEl.style.display =\n",
              "        google.colab.kernel.accessAllowed ? 'block' : 'none';\n",
              "\n",
              "      async function convertToInteractive(key) {\n",
              "        const element = document.querySelector('#df-7e0553b2-17bd-4d7d-9fe7-ee9a54c812fc');\n",
              "        const dataTable =\n",
              "          await google.colab.kernel.invokeFunction('convertToInteractive',\n",
              "                                                    [key], {});\n",
              "        if (!dataTable) return;\n",
              "\n",
              "        const docLinkHtml = 'Like what you see? Visit the ' +\n",
              "          '<a target=\"_blank\" href=https://colab.research.google.com/notebooks/data_table.ipynb>data table notebook</a>'\n",
              "          + ' to learn more about interactive tables.';\n",
              "        element.innerHTML = '';\n",
              "        dataTable['output_type'] = 'display_data';\n",
              "        await google.colab.output.renderOutput(dataTable, element);\n",
              "        const docLink = document.createElement('div');\n",
              "        docLink.innerHTML = docLinkHtml;\n",
              "        element.appendChild(docLink);\n",
              "      }\n",
              "    </script>\n",
              "  </div>\n",
              "\n",
              "\n",
              "<div id=\"df-f451d274-15d4-4cc5-9f8d-0ade5c7818f0\">\n",
              "  <button class=\"colab-df-quickchart\" onclick=\"quickchart('df-f451d274-15d4-4cc5-9f8d-0ade5c7818f0')\"\n",
              "            title=\"Suggest charts.\"\n",
              "            style=\"display:none;\">\n",
              "\n",
              "<svg xmlns=\"http://www.w3.org/2000/svg\" height=\"24px\"viewBox=\"0 0 24 24\"\n",
              "     width=\"24px\">\n",
              "    <g>\n",
              "        <path d=\"M19 3H5c-1.1 0-2 .9-2 2v14c0 1.1.9 2 2 2h14c1.1 0 2-.9 2-2V5c0-1.1-.9-2-2-2zM9 17H7v-7h2v7zm4 0h-2V7h2v10zm4 0h-2v-4h2v4z\"/>\n",
              "    </g>\n",
              "</svg>\n",
              "  </button>\n",
              "\n",
              "<style>\n",
              "  .colab-df-quickchart {\n",
              "      --bg-color: #E8F0FE;\n",
              "      --fill-color: #1967D2;\n",
              "      --hover-bg-color: #E2EBFA;\n",
              "      --hover-fill-color: #174EA6;\n",
              "      --disabled-fill-color: #AAA;\n",
              "      --disabled-bg-color: #DDD;\n",
              "  }\n",
              "\n",
              "  [theme=dark] .colab-df-quickchart {\n",
              "      --bg-color: #3B4455;\n",
              "      --fill-color: #D2E3FC;\n",
              "      --hover-bg-color: #434B5C;\n",
              "      --hover-fill-color: #FFFFFF;\n",
              "      --disabled-bg-color: #3B4455;\n",
              "      --disabled-fill-color: #666;\n",
              "  }\n",
              "\n",
              "  .colab-df-quickchart {\n",
              "    background-color: var(--bg-color);\n",
              "    border: none;\n",
              "    border-radius: 50%;\n",
              "    cursor: pointer;\n",
              "    display: none;\n",
              "    fill: var(--fill-color);\n",
              "    height: 32px;\n",
              "    padding: 0;\n",
              "    width: 32px;\n",
              "  }\n",
              "\n",
              "  .colab-df-quickchart:hover {\n",
              "    background-color: var(--hover-bg-color);\n",
              "    box-shadow: 0 1px 2px rgba(60, 64, 67, 0.3), 0 1px 3px 1px rgba(60, 64, 67, 0.15);\n",
              "    fill: var(--button-hover-fill-color);\n",
              "  }\n",
              "\n",
              "  .colab-df-quickchart-complete:disabled,\n",
              "  .colab-df-quickchart-complete:disabled:hover {\n",
              "    background-color: var(--disabled-bg-color);\n",
              "    fill: var(--disabled-fill-color);\n",
              "    box-shadow: none;\n",
              "  }\n",
              "\n",
              "  .colab-df-spinner {\n",
              "    border: 2px solid var(--fill-color);\n",
              "    border-color: transparent;\n",
              "    border-bottom-color: var(--fill-color);\n",
              "    animation:\n",
              "      spin 1s steps(1) infinite;\n",
              "  }\n",
              "\n",
              "  @keyframes spin {\n",
              "    0% {\n",
              "      border-color: transparent;\n",
              "      border-bottom-color: var(--fill-color);\n",
              "      border-left-color: var(--fill-color);\n",
              "    }\n",
              "    20% {\n",
              "      border-color: transparent;\n",
              "      border-left-color: var(--fill-color);\n",
              "      border-top-color: var(--fill-color);\n",
              "    }\n",
              "    30% {\n",
              "      border-color: transparent;\n",
              "      border-left-color: var(--fill-color);\n",
              "      border-top-color: var(--fill-color);\n",
              "      border-right-color: var(--fill-color);\n",
              "    }\n",
              "    40% {\n",
              "      border-color: transparent;\n",
              "      border-right-color: var(--fill-color);\n",
              "      border-top-color: var(--fill-color);\n",
              "    }\n",
              "    60% {\n",
              "      border-color: transparent;\n",
              "      border-right-color: var(--fill-color);\n",
              "    }\n",
              "    80% {\n",
              "      border-color: transparent;\n",
              "      border-right-color: var(--fill-color);\n",
              "      border-bottom-color: var(--fill-color);\n",
              "    }\n",
              "    90% {\n",
              "      border-color: transparent;\n",
              "      border-bottom-color: var(--fill-color);\n",
              "    }\n",
              "  }\n",
              "</style>\n",
              "\n",
              "  <script>\n",
              "    async function quickchart(key) {\n",
              "      const quickchartButtonEl =\n",
              "        document.querySelector('#' + key + ' button');\n",
              "      quickchartButtonEl.disabled = true;  // To prevent multiple clicks.\n",
              "      quickchartButtonEl.classList.add('colab-df-spinner');\n",
              "      try {\n",
              "        const charts = await google.colab.kernel.invokeFunction(\n",
              "            'suggestCharts', [key], {});\n",
              "      } catch (error) {\n",
              "        console.error('Error during call to suggestCharts:', error);\n",
              "      }\n",
              "      quickchartButtonEl.classList.remove('colab-df-spinner');\n",
              "      quickchartButtonEl.classList.add('colab-df-quickchart-complete');\n",
              "    }\n",
              "    (() => {\n",
              "      let quickchartButtonEl =\n",
              "        document.querySelector('#df-f451d274-15d4-4cc5-9f8d-0ade5c7818f0 button');\n",
              "      quickchartButtonEl.style.display =\n",
              "        google.colab.kernel.accessAllowed ? 'block' : 'none';\n",
              "    })();\n",
              "  </script>\n",
              "</div>\n",
              "    </div>\n",
              "  </div>\n"
            ]
          },
          "metadata": {},
          "execution_count": 14
        }
      ],
      "source": [
        "#Verificando a Região antes e depois da pandemia:\n",
        "regiao = round(df1.groupby('pandemia_identificador')['regiao-BR'].value_counts(ascending=False),2)\n",
        "tabela_comparativa_regiao = regiao.unstack(level=0).fillna(0) #unstack é utilizado para desempilhar os dados, transformando-os em um formato de tabela.\n",
        "tabela_comparativa_regiao = tabela_comparativa_regiao[['pré', 'pós']] #reordenando porque o pós estava aparecendo antes do pré\n",
        "tabela_comparativa_regiao = tabela_comparativa_regiao.sort_values(by='pós', ascending=False) #colocando em ordem decrescente os valores, com base na coluna pós\n",
        "tabela_comparativa_regiao"
      ]
    },
    {
      "cell_type": "markdown",
      "source": [
        "Observamos duas diferenças mais significativas: o aumento de clientes na Região Sul e a diminuição na Região Centro-Oeste."
      ],
      "metadata": {
        "id": "uvlPwAYVElGI"
      }
    },
    {
      "cell_type": "code",
      "execution_count": null,
      "metadata": {
        "id": "wWanynFzI44E",
        "colab": {
          "base_uri": "https://localhost:8080/",
          "height": 269
        },
        "outputId": "a12c4627-7c05-4d33-9b6e-7de5ca33dfef"
      },
      "outputs": [
        {
          "output_type": "execute_result",
          "data": {
            "text/plain": [
              "pandemia_identificador  pré  pós\n",
              "produto                         \n",
              "desodorante              20   46\n",
              "antissinais               9   20\n",
              "batom                    61   15\n",
              "sombra                    4    9\n",
              "perfume                   4    8\n",
              "base                      3    4"
            ],
            "text/html": [
              "\n",
              "  <div id=\"df-8eb5b1b0-5764-4b95-bead-cb1ce70dbf81\" class=\"colab-df-container\">\n",
              "    <div>\n",
              "<style scoped>\n",
              "    .dataframe tbody tr th:only-of-type {\n",
              "        vertical-align: middle;\n",
              "    }\n",
              "\n",
              "    .dataframe tbody tr th {\n",
              "        vertical-align: top;\n",
              "    }\n",
              "\n",
              "    .dataframe thead th {\n",
              "        text-align: right;\n",
              "    }\n",
              "</style>\n",
              "<table border=\"1\" class=\"dataframe\">\n",
              "  <thead>\n",
              "    <tr style=\"text-align: right;\">\n",
              "      <th>pandemia_identificador</th>\n",
              "      <th>pré</th>\n",
              "      <th>pós</th>\n",
              "    </tr>\n",
              "    <tr>\n",
              "      <th>produto</th>\n",
              "      <th></th>\n",
              "      <th></th>\n",
              "    </tr>\n",
              "  </thead>\n",
              "  <tbody>\n",
              "    <tr>\n",
              "      <th>desodorante</th>\n",
              "      <td>20</td>\n",
              "      <td>46</td>\n",
              "    </tr>\n",
              "    <tr>\n",
              "      <th>antissinais</th>\n",
              "      <td>9</td>\n",
              "      <td>20</td>\n",
              "    </tr>\n",
              "    <tr>\n",
              "      <th>batom</th>\n",
              "      <td>61</td>\n",
              "      <td>15</td>\n",
              "    </tr>\n",
              "    <tr>\n",
              "      <th>sombra</th>\n",
              "      <td>4</td>\n",
              "      <td>9</td>\n",
              "    </tr>\n",
              "    <tr>\n",
              "      <th>perfume</th>\n",
              "      <td>4</td>\n",
              "      <td>8</td>\n",
              "    </tr>\n",
              "    <tr>\n",
              "      <th>base</th>\n",
              "      <td>3</td>\n",
              "      <td>4</td>\n",
              "    </tr>\n",
              "  </tbody>\n",
              "</table>\n",
              "</div>\n",
              "    <div class=\"colab-df-buttons\">\n",
              "\n",
              "  <div class=\"colab-df-container\">\n",
              "    <button class=\"colab-df-convert\" onclick=\"convertToInteractive('df-8eb5b1b0-5764-4b95-bead-cb1ce70dbf81')\"\n",
              "            title=\"Convert this dataframe to an interactive table.\"\n",
              "            style=\"display:none;\">\n",
              "\n",
              "  <svg xmlns=\"http://www.w3.org/2000/svg\" height=\"24px\" viewBox=\"0 -960 960 960\">\n",
              "    <path d=\"M120-120v-720h720v720H120Zm60-500h600v-160H180v160Zm220 220h160v-160H400v160Zm0 220h160v-160H400v160ZM180-400h160v-160H180v160Zm440 0h160v-160H620v160ZM180-180h160v-160H180v160Zm440 0h160v-160H620v160Z\"/>\n",
              "  </svg>\n",
              "    </button>\n",
              "\n",
              "  <style>\n",
              "    .colab-df-container {\n",
              "      display:flex;\n",
              "      gap: 12px;\n",
              "    }\n",
              "\n",
              "    .colab-df-convert {\n",
              "      background-color: #E8F0FE;\n",
              "      border: none;\n",
              "      border-radius: 50%;\n",
              "      cursor: pointer;\n",
              "      display: none;\n",
              "      fill: #1967D2;\n",
              "      height: 32px;\n",
              "      padding: 0 0 0 0;\n",
              "      width: 32px;\n",
              "    }\n",
              "\n",
              "    .colab-df-convert:hover {\n",
              "      background-color: #E2EBFA;\n",
              "      box-shadow: 0px 1px 2px rgba(60, 64, 67, 0.3), 0px 1px 3px 1px rgba(60, 64, 67, 0.15);\n",
              "      fill: #174EA6;\n",
              "    }\n",
              "\n",
              "    .colab-df-buttons div {\n",
              "      margin-bottom: 4px;\n",
              "    }\n",
              "\n",
              "    [theme=dark] .colab-df-convert {\n",
              "      background-color: #3B4455;\n",
              "      fill: #D2E3FC;\n",
              "    }\n",
              "\n",
              "    [theme=dark] .colab-df-convert:hover {\n",
              "      background-color: #434B5C;\n",
              "      box-shadow: 0px 1px 3px 1px rgba(0, 0, 0, 0.15);\n",
              "      filter: drop-shadow(0px 1px 2px rgba(0, 0, 0, 0.3));\n",
              "      fill: #FFFFFF;\n",
              "    }\n",
              "  </style>\n",
              "\n",
              "    <script>\n",
              "      const buttonEl =\n",
              "        document.querySelector('#df-8eb5b1b0-5764-4b95-bead-cb1ce70dbf81 button.colab-df-convert');\n",
              "      buttonEl.style.display =\n",
              "        google.colab.kernel.accessAllowed ? 'block' : 'none';\n",
              "\n",
              "      async function convertToInteractive(key) {\n",
              "        const element = document.querySelector('#df-8eb5b1b0-5764-4b95-bead-cb1ce70dbf81');\n",
              "        const dataTable =\n",
              "          await google.colab.kernel.invokeFunction('convertToInteractive',\n",
              "                                                    [key], {});\n",
              "        if (!dataTable) return;\n",
              "\n",
              "        const docLinkHtml = 'Like what you see? Visit the ' +\n",
              "          '<a target=\"_blank\" href=https://colab.research.google.com/notebooks/data_table.ipynb>data table notebook</a>'\n",
              "          + ' to learn more about interactive tables.';\n",
              "        element.innerHTML = '';\n",
              "        dataTable['output_type'] = 'display_data';\n",
              "        await google.colab.output.renderOutput(dataTable, element);\n",
              "        const docLink = document.createElement('div');\n",
              "        docLink.innerHTML = docLinkHtml;\n",
              "        element.appendChild(docLink);\n",
              "      }\n",
              "    </script>\n",
              "  </div>\n",
              "\n",
              "\n",
              "<div id=\"df-3829bfd5-9092-4957-a237-450e3882f48c\">\n",
              "  <button class=\"colab-df-quickchart\" onclick=\"quickchart('df-3829bfd5-9092-4957-a237-450e3882f48c')\"\n",
              "            title=\"Suggest charts.\"\n",
              "            style=\"display:none;\">\n",
              "\n",
              "<svg xmlns=\"http://www.w3.org/2000/svg\" height=\"24px\"viewBox=\"0 0 24 24\"\n",
              "     width=\"24px\">\n",
              "    <g>\n",
              "        <path d=\"M19 3H5c-1.1 0-2 .9-2 2v14c0 1.1.9 2 2 2h14c1.1 0 2-.9 2-2V5c0-1.1-.9-2-2-2zM9 17H7v-7h2v7zm4 0h-2V7h2v10zm4 0h-2v-4h2v4z\"/>\n",
              "    </g>\n",
              "</svg>\n",
              "  </button>\n",
              "\n",
              "<style>\n",
              "  .colab-df-quickchart {\n",
              "      --bg-color: #E8F0FE;\n",
              "      --fill-color: #1967D2;\n",
              "      --hover-bg-color: #E2EBFA;\n",
              "      --hover-fill-color: #174EA6;\n",
              "      --disabled-fill-color: #AAA;\n",
              "      --disabled-bg-color: #DDD;\n",
              "  }\n",
              "\n",
              "  [theme=dark] .colab-df-quickchart {\n",
              "      --bg-color: #3B4455;\n",
              "      --fill-color: #D2E3FC;\n",
              "      --hover-bg-color: #434B5C;\n",
              "      --hover-fill-color: #FFFFFF;\n",
              "      --disabled-bg-color: #3B4455;\n",
              "      --disabled-fill-color: #666;\n",
              "  }\n",
              "\n",
              "  .colab-df-quickchart {\n",
              "    background-color: var(--bg-color);\n",
              "    border: none;\n",
              "    border-radius: 50%;\n",
              "    cursor: pointer;\n",
              "    display: none;\n",
              "    fill: var(--fill-color);\n",
              "    height: 32px;\n",
              "    padding: 0;\n",
              "    width: 32px;\n",
              "  }\n",
              "\n",
              "  .colab-df-quickchart:hover {\n",
              "    background-color: var(--hover-bg-color);\n",
              "    box-shadow: 0 1px 2px rgba(60, 64, 67, 0.3), 0 1px 3px 1px rgba(60, 64, 67, 0.15);\n",
              "    fill: var(--button-hover-fill-color);\n",
              "  }\n",
              "\n",
              "  .colab-df-quickchart-complete:disabled,\n",
              "  .colab-df-quickchart-complete:disabled:hover {\n",
              "    background-color: var(--disabled-bg-color);\n",
              "    fill: var(--disabled-fill-color);\n",
              "    box-shadow: none;\n",
              "  }\n",
              "\n",
              "  .colab-df-spinner {\n",
              "    border: 2px solid var(--fill-color);\n",
              "    border-color: transparent;\n",
              "    border-bottom-color: var(--fill-color);\n",
              "    animation:\n",
              "      spin 1s steps(1) infinite;\n",
              "  }\n",
              "\n",
              "  @keyframes spin {\n",
              "    0% {\n",
              "      border-color: transparent;\n",
              "      border-bottom-color: var(--fill-color);\n",
              "      border-left-color: var(--fill-color);\n",
              "    }\n",
              "    20% {\n",
              "      border-color: transparent;\n",
              "      border-left-color: var(--fill-color);\n",
              "      border-top-color: var(--fill-color);\n",
              "    }\n",
              "    30% {\n",
              "      border-color: transparent;\n",
              "      border-left-color: var(--fill-color);\n",
              "      border-top-color: var(--fill-color);\n",
              "      border-right-color: var(--fill-color);\n",
              "    }\n",
              "    40% {\n",
              "      border-color: transparent;\n",
              "      border-right-color: var(--fill-color);\n",
              "      border-top-color: var(--fill-color);\n",
              "    }\n",
              "    60% {\n",
              "      border-color: transparent;\n",
              "      border-right-color: var(--fill-color);\n",
              "    }\n",
              "    80% {\n",
              "      border-color: transparent;\n",
              "      border-right-color: var(--fill-color);\n",
              "      border-bottom-color: var(--fill-color);\n",
              "    }\n",
              "    90% {\n",
              "      border-color: transparent;\n",
              "      border-bottom-color: var(--fill-color);\n",
              "    }\n",
              "  }\n",
              "</style>\n",
              "\n",
              "  <script>\n",
              "    async function quickchart(key) {\n",
              "      const quickchartButtonEl =\n",
              "        document.querySelector('#' + key + ' button');\n",
              "      quickchartButtonEl.disabled = true;  // To prevent multiple clicks.\n",
              "      quickchartButtonEl.classList.add('colab-df-spinner');\n",
              "      try {\n",
              "        const charts = await google.colab.kernel.invokeFunction(\n",
              "            'suggestCharts', [key], {});\n",
              "      } catch (error) {\n",
              "        console.error('Error during call to suggestCharts:', error);\n",
              "      }\n",
              "      quickchartButtonEl.classList.remove('colab-df-spinner');\n",
              "      quickchartButtonEl.classList.add('colab-df-quickchart-complete');\n",
              "    }\n",
              "    (() => {\n",
              "      let quickchartButtonEl =\n",
              "        document.querySelector('#df-3829bfd5-9092-4957-a237-450e3882f48c button');\n",
              "      quickchartButtonEl.style.display =\n",
              "        google.colab.kernel.accessAllowed ? 'block' : 'none';\n",
              "    })();\n",
              "  </script>\n",
              "</div>\n",
              "    </div>\n",
              "  </div>\n"
            ]
          },
          "metadata": {},
          "execution_count": 15
        }
      ],
      "source": [
        "#Verificando os produtos antes e depois da pandemia\n",
        "produtos = round(df1.groupby('pandemia_identificador')['produto'].value_counts(ascending=False),2)\n",
        "tabela_comparativa_produto = produtos.unstack(level=0).fillna(0) #unstack é utilizado para desempilhar os dados, transformando-os em um formato de tabela.\n",
        "tabela_comparativa_produto = tabela_comparativa_produto[['pré', 'pós']] #reordenando porque o pós estava aparecendo antes do pré\n",
        "tabela_comparativa_produto = tabela_comparativa_produto.sort_values(by='pós', ascending=False) #colocando em ordem decrescente os valores, com base na coluna pós\n",
        "tabela_comparativa_produto"
      ]
    },
    {
      "cell_type": "markdown",
      "source": [
        "Observamos que com exceção do produto batom, todos os demais aumentaram as vendas no período de pós-pandemia. Vale destacar que o desodorante foi o produto mais vendido."
      ],
      "metadata": {
        "id": "S2CjV44EsAN3"
      }
    },
    {
      "cell_type": "markdown",
      "metadata": {
        "id": "Cb_TnshHEHBD"
      },
      "source": [
        "b. Plote histogramas / boxplots"
      ]
    },
    {
      "cell_type": "markdown",
      "metadata": {
        "id": "5tdQ248QoWcm"
      },
      "source": [
        "Primeiro, vamos fazer a comparação de idade entre o período pré e pós pandemia da idade."
      ]
    },
    {
      "cell_type": "code",
      "execution_count": null,
      "metadata": {
        "colab": {
          "base_uri": "https://localhost:8080/",
          "height": 507
        },
        "id": "7o0IKD_FDrQr",
        "outputId": "244a0d30-d360-416d-bd1d-89970c6b630a"
      },
      "outputs": [
        {
          "output_type": "display_data",
          "data": {
            "text/plain": [
              "<Figure size 1200x500 with 2 Axes>"
            ],
            "image/png": "[encoded data removed]"
          },
          "metadata": {}
        }
      ],
      "source": [
        "pre_pandemia = df1[df1['periodo'] == 1]\n",
        "pos_pandemia = df1[df1['periodo'] == 0]\n",
        "\n",
        "fig, ax = plt.subplots(nrows=1, ncols=2, figsize=(12, 5))\n",
        "\n",
        "# histograma para pré-pandemia\n",
        "sns.histplot(pre_pandemia['idade'], ax=ax[0], kde=True, edgecolor=None)\n",
        "ax[0].set_title('Pré-Pandemia')\n",
        "ax[0].set_xlabel('Idade')\n",
        "ax[0].set_ylabel('Contagem')\n",
        "ax[0].grid(True)\n",
        "\n",
        "# histograma para pós-pandemia\n",
        "sns.histplot(pos_pandemia['idade'], ax=ax[1], kde=True, edgecolor=None)\n",
        "ax[1].set_title('Pós-Pandemia')\n",
        "ax[1].set_xlabel('Idade')\n",
        "ax[1].set_ylabel('Contagem')\n",
        "ax[1].grid(True)\n",
        "\n",
        "plt.tight_layout()\n",
        "plt.show()"
      ]
    },
    {
      "cell_type": "markdown",
      "source": [
        "Os dados parecem seguir uma distribuicao assimétrica positiva ou à direita na pré-pandemia, enquanto que no pós-pandemia, aproxima-se de uma distribuicao normal simétrica.\n",
        "\n",
        "Notamos um aumento acentuado no pós pandemia de clientes entre 50 e 60 anos, que pode estar relacionado ao aumento nas vendas de produtos antissinais, visto anteriormente."
      ],
      "metadata": {
        "id": "D9rAsaJgF5Uf"
      }
    },
    {
      "cell_type": "markdown",
      "metadata": {
        "id": "Zn45UkOcR9e3"
      },
      "source": [
        "Em seguida, vamos analisar a renda:"
      ]
    },
    {
      "cell_type": "code",
      "execution_count": null,
      "metadata": {
        "colab": {
          "base_uri": "https://localhost:8080/",
          "height": 507
        },
        "id": "QuEqZjSBgcKx",
        "outputId": "889e1341-64ad-44f9-ac5b-1819ecc850a4"
      },
      "outputs": [
        {
          "output_type": "display_data",
          "data": {
            "text/plain": [
              "<Figure size 1200x500 with 2 Axes>"
            ],
            "image/png": "[encoded data removed]"
          },
          "metadata": {}
        }
      ],
      "source": [
        "pre_pandemia = df1[df1['periodo'] == 1]\n",
        "pos_pandemia = df1[df1['periodo'] == 0]\n",
        "\n",
        "fig, ax = plt.subplots(nrows=1, ncols=2, figsize=(12, 5))\n",
        "\n",
        "# histograma para pré-pandemia\n",
        "sns.histplot(pre_pandemia['renda'], ax=ax[0], kde=True, edgecolor=None)\n",
        "ax[0].set_title('Pré-Pandemia')\n",
        "ax[0].set_xlabel('Renda')\n",
        "ax[0].set_ylabel('Contagem')\n",
        "ax[0].grid(True)\n",
        "\n",
        "# histograma para pós-pandemia\n",
        "sns.histplot(pos_pandemia['renda'], ax=ax[1], kde=True, edgecolor=None)\n",
        "ax[1].set_title('Pós-Pandemia')\n",
        "ax[1].set_xlabel('Renda')\n",
        "ax[1].set_ylabel('Contagem')\n",
        "ax[1].grid(True)\n",
        "\n",
        "plt.tight_layout()\n",
        "plt.show()"
      ]
    },
    {
      "cell_type": "markdown",
      "source": [
        "Novamente, no período pré pandemia era assimétrica positiva, enquanto que no pós pandemia, tornou-se simétrica. Por meio das análises dos histogramas, talvez haja uma correlação entre idade e renda.\n",
        "\n",
        "Observamos também o deslocamento da mediana mais para a direita indicando um aumento de renda da base de clientes, já que temos mais clientes em faixas de renda mais altas no pós pandemia."
      ],
      "metadata": {
        "id": "k2Llk9bCHZQN"
      }
    },
    {
      "cell_type": "code",
      "execution_count": null,
      "metadata": {
        "colab": {
          "base_uri": "https://localhost:8080/",
          "height": 565
        },
        "id": "VFK41KfyYBRG",
        "outputId": "9d014a70-8376-46a2-998e-37f1b97a9d0d"
      },
      "outputs": [
        {
          "output_type": "display_data",
          "data": {
            "text/plain": [
              "<Figure size 800x600 with 1 Axes>"
            ],
            "image/png": "[encoded data removed]"
          },
          "metadata": {}
        }
      ],
      "source": [
        "# Plotamos um gráfico Boxplot da renda por período\n",
        "plt.figure(figsize=(8, 6))\n",
        "sns.boxplot(data=df1, x='renda', y='pandemia_identificador')\n",
        "plt.title('Boxplot da Renda (R$) por Período')\n",
        "plt.xlabel('Renda_R$')\n",
        "plt.ylabel('Período')\n",
        "plt.show()"
      ]
    },
    {
      "cell_type": "markdown",
      "source": [
        "São observadas as mesmas informações do gráfico de frequência. Ou seja, houve um aumento da renda dos clientes pós pandemia. Notamos também a existência de valores outliers para os resultados do periodo pós pandemia."
      ],
      "metadata": {
        "id": "8BfkEu5WtZze"
      }
    },
    {
      "cell_type": "code",
      "source": [
        "#Plotamos um gráfico pré e pós pandemia, por região\n",
        "sns.set(rc={'figure.figsize':(11.7,8.27)})\n",
        "sns.catplot(x=\"regiao-BR\", col=\"pandemia_identificador\", col_wrap=4,\n",
        "                data=df1,\n",
        "                kind=\"count\")"
      ],
      "metadata": {
        "colab": {
          "base_uri": "https://localhost:8080/",
          "height": 518
        },
        "id": "JoluFrpfQgZO",
        "outputId": "090e9b8e-0e5e-4073-aeac-42486d0b079b"
      },
      "execution_count": null,
      "outputs": [
        {
          "output_type": "execute_result",
          "data": {
            "text/plain": [
              "<seaborn.axisgrid.FacetGrid at 0x7a3b03d18d60>"
            ]
          },
          "metadata": {},
          "execution_count": 63
        },
        {
          "output_type": "display_data",
          "data": {
            "text/plain": [
              "<Figure size 2000x500 with 2 Axes>"
            ],
            "image/png": "[encoded data removed]"
          },
          "metadata": {}
        }
      ]
    },
    {
      "cell_type": "markdown",
      "source": [
        "Observa-se que a distribuição de clientes entre as regiões se modificou no pré e pós-andemia. No pré, havia uma melhor distribuição dos consumidores por região. No pós-pandemia, aumentou o quantitativo de clientes no Sul e dominuição no Centro-Oeste."
      ],
      "metadata": {
        "id": "lSvdJVq4StuM"
      }
    },
    {
      "cell_type": "markdown",
      "metadata": {
        "id": "DZeeyvN0hmtX"
      },
      "source": [
        "A partir de agora, vamos analisar a distribuição dos produtos por renda dos consumidores nos períodos de pré e pós pandemia, para verificarmos o padrão de consumo:\n",
        "\n",
        "\n"
      ]
    },
    {
      "cell_type": "code",
      "execution_count": null,
      "metadata": {
        "colab": {
          "base_uri": "https://localhost:8080/",
          "height": 300
        },
        "id": "iVj8v44iHvM-",
        "outputId": "aa23cfe6-bc97-44a5-c275-358d8ddbfa80"
      },
      "outputs": [
        {
          "output_type": "execute_result",
          "data": {
            "text/plain": [
              "                          max                 mean                 median  \\\n",
              "pandemia_identificador    pré    pós           pré           pós      pré   \n",
              "produto                                                                     \n",
              "antissinais             22927  30000   8679.777778  12743.150000   6251.0   \n",
              "base                    14775  15717  10721.666667  13090.000000  12278.0   \n",
              "batom                   24090  25959   9649.114754  15363.066667   7452.0   \n",
              "desodorante             19070  26333   8182.600000  13146.717391   7298.0   \n",
              "perfume                 10570  29700   6968.250000  20128.000000   6605.5   \n",
              "sombra                  15969  25172   9210.250000  13482.777778   8820.5   \n",
              "\n",
              "                                 \n",
              "pandemia_identificador      pós  \n",
              "produto                          \n",
              "antissinais             11706.5  \n",
              "base                    13291.5  \n",
              "batom                   14963.0  \n",
              "desodorante             12686.0  \n",
              "perfume                 19587.5  \n",
              "sombra                  11824.0  "
            ],
            "text/html": [
              "\n",
              "  <div id=\"df-c33859b3-cdc4-4c78-80d6-468748252a28\" class=\"colab-df-container\">\n",
              "    <div>\n",
              "<style scoped>\n",
              "    .dataframe tbody tr th:only-of-type {\n",
              "        vertical-align: middle;\n",
              "    }\n",
              "\n",
              "    .dataframe tbody tr th {\n",
              "        vertical-align: top;\n",
              "    }\n",
              "\n",
              "    .dataframe thead tr th {\n",
              "        text-align: left;\n",
              "    }\n",
              "\n",
              "    .dataframe thead tr:last-of-type th {\n",
              "        text-align: right;\n",
              "    }\n",
              "</style>\n",
              "<table border=\"1\" class=\"dataframe\">\n",
              "  <thead>\n",
              "    <tr>\n",
              "      <th></th>\n",
              "      <th colspan=\"2\" halign=\"left\">max</th>\n",
              "      <th colspan=\"2\" halign=\"left\">mean</th>\n",
              "      <th colspan=\"2\" halign=\"left\">median</th>\n",
              "    </tr>\n",
              "    <tr>\n",
              "      <th>pandemia_identificador</th>\n",
              "      <th>pré</th>\n",
              "      <th>pós</th>\n",
              "      <th>pré</th>\n",
              "      <th>pós</th>\n",
              "      <th>pré</th>\n",
              "      <th>pós</th>\n",
              "    </tr>\n",
              "    <tr>\n",
              "      <th>produto</th>\n",
              "      <th></th>\n",
              "      <th></th>\n",
              "      <th></th>\n",
              "      <th></th>\n",
              "      <th></th>\n",
              "      <th></th>\n",
              "    </tr>\n",
              "  </thead>\n",
              "  <tbody>\n",
              "    <tr>\n",
              "      <th>antissinais</th>\n",
              "      <td>22927</td>\n",
              "      <td>30000</td>\n",
              "      <td>8679.777778</td>\n",
              "      <td>12743.150000</td>\n",
              "      <td>6251.0</td>\n",
              "      <td>11706.5</td>\n",
              "    </tr>\n",
              "    <tr>\n",
              "      <th>base</th>\n",
              "      <td>14775</td>\n",
              "      <td>15717</td>\n",
              "      <td>10721.666667</td>\n",
              "      <td>13090.000000</td>\n",
              "      <td>12278.0</td>\n",
              "      <td>13291.5</td>\n",
              "    </tr>\n",
              "    <tr>\n",
              "      <th>batom</th>\n",
              "      <td>24090</td>\n",
              "      <td>25959</td>\n",
              "      <td>9649.114754</td>\n",
              "      <td>15363.066667</td>\n",
              "      <td>7452.0</td>\n",
              "      <td>14963.0</td>\n",
              "    </tr>\n",
              "    <tr>\n",
              "      <th>desodorante</th>\n",
              "      <td>19070</td>\n",
              "      <td>26333</td>\n",
              "      <td>8182.600000</td>\n",
              "      <td>13146.717391</td>\n",
              "      <td>7298.0</td>\n",
              "      <td>12686.0</td>\n",
              "    </tr>\n",
              "    <tr>\n",
              "      <th>perfume</th>\n",
              "      <td>10570</td>\n",
              "      <td>29700</td>\n",
              "      <td>6968.250000</td>\n",
              "      <td>20128.000000</td>\n",
              "      <td>6605.5</td>\n",
              "      <td>19587.5</td>\n",
              "    </tr>\n",
              "    <tr>\n",
              "      <th>sombra</th>\n",
              "      <td>15969</td>\n",
              "      <td>25172</td>\n",
              "      <td>9210.250000</td>\n",
              "      <td>13482.777778</td>\n",
              "      <td>8820.5</td>\n",
              "      <td>11824.0</td>\n",
              "    </tr>\n",
              "  </tbody>\n",
              "</table>\n",
              "</div>\n",
              "    <div class=\"colab-df-buttons\">\n",
              "\n",
              "  <div class=\"colab-df-container\">\n",
              "    <button class=\"colab-df-convert\" onclick=\"convertToInteractive('df-c33859b3-cdc4-4c78-80d6-468748252a28')\"\n",
              "            title=\"Convert this dataframe to an interactive table.\"\n",
              "            style=\"display:none;\">\n",
              "\n",
              "  <svg xmlns=\"http://www.w3.org/2000/svg\" height=\"24px\" viewBox=\"0 -960 960 960\">\n",
              "    <path d=\"M120-120v-720h720v720H120Zm60-500h600v-160H180v160Zm220 220h160v-160H400v160Zm0 220h160v-160H400v160ZM180-400h160v-160H180v160Zm440 0h160v-160H620v160ZM180-180h160v-160H180v160Zm440 0h160v-160H620v160Z\"/>\n",
              "  </svg>\n",
              "    </button>\n",
              "\n",
              "  <style>\n",
              "    .colab-df-container {\n",
              "      display:flex;\n",
              "      gap: 12px;\n",
              "    }\n",
              "\n",
              "    .colab-df-convert {\n",
              "      background-color: #E8F0FE;\n",
              "      border: none;\n",
              "      border-radius: 50%;\n",
              "      cursor: pointer;\n",
              "      display: none;\n",
              "      fill: #1967D2;\n",
              "      height: 32px;\n",
              "      padding: 0 0 0 0;\n",
              "      width: 32px;\n",
              "    }\n",
              "\n",
              "    .colab-df-convert:hover {\n",
              "      background-color: #E2EBFA;\n",
              "      box-shadow: 0px 1px 2px rgba(60, 64, 67, 0.3), 0px 1px 3px 1px rgba(60, 64, 67, 0.15);\n",
              "      fill: #174EA6;\n",
              "    }\n",
              "\n",
              "    .colab-df-buttons div {\n",
              "      margin-bottom: 4px;\n",
              "    }\n",
              "\n",
              "    [theme=dark] .colab-df-convert {\n",
              "      background-color: #3B4455;\n",
              "      fill: #D2E3FC;\n",
              "    }\n",
              "\n",
              "    [theme=dark] .colab-df-convert:hover {\n",
              "      background-color: #434B5C;\n",
              "      box-shadow: 0px 1px 3px 1px rgba(0, 0, 0, 0.15);\n",
              "      filter: drop-shadow(0px 1px 2px rgba(0, 0, 0, 0.3));\n",
              "      fill: #FFFFFF;\n",
              "    }\n",
              "  </style>\n",
              "\n",
              "    <script>\n",
              "      const buttonEl =\n",
              "        document.querySelector('#df-c33859b3-cdc4-4c78-80d6-468748252a28 button.colab-df-convert');\n",
              "      buttonEl.style.display =\n",
              "        google.colab.kernel.accessAllowed ? 'block' : 'none';\n",
              "\n",
              "      async function convertToInteractive(key) {\n",
              "        const element = document.querySelector('#df-c33859b3-cdc4-4c78-80d6-468748252a28');\n",
              "        const dataTable =\n",
              "          await google.colab.kernel.invokeFunction('convertToInteractive',\n",
              "                                                    [key], {});\n",
              "        if (!dataTable) return;\n",
              "\n",
              "        const docLinkHtml = 'Like what you see? Visit the ' +\n",
              "          '<a target=\"_blank\" href=https://colab.research.google.com/notebooks/data_table.ipynb>data table notebook</a>'\n",
              "          + ' to learn more about interactive tables.';\n",
              "        element.innerHTML = '';\n",
              "        dataTable['output_type'] = 'display_data';\n",
              "        await google.colab.output.renderOutput(dataTable, element);\n",
              "        const docLink = document.createElement('div');\n",
              "        docLink.innerHTML = docLinkHtml;\n",
              "        element.appendChild(docLink);\n",
              "      }\n",
              "    </script>\n",
              "  </div>\n",
              "\n",
              "\n",
              "<div id=\"df-3a7786ab-0f2b-413e-aa96-9ffa79a6937c\">\n",
              "  <button class=\"colab-df-quickchart\" onclick=\"quickchart('df-3a7786ab-0f2b-413e-aa96-9ffa79a6937c')\"\n",
              "            title=\"Suggest charts.\"\n",
              "            style=\"display:none;\">\n",
              "\n",
              "<svg xmlns=\"http://www.w3.org/2000/svg\" height=\"24px\"viewBox=\"0 0 24 24\"\n",
              "     width=\"24px\">\n",
              "    <g>\n",
              "        <path d=\"M19 3H5c-1.1 0-2 .9-2 2v14c0 1.1.9 2 2 2h14c1.1 0 2-.9 2-2V5c0-1.1-.9-2-2-2zM9 17H7v-7h2v7zm4 0h-2V7h2v10zm4 0h-2v-4h2v4z\"/>\n",
              "    </g>\n",
              "</svg>\n",
              "  </button>\n",
              "\n",
              "<style>\n",
              "  .colab-df-quickchart {\n",
              "      --bg-color: #E8F0FE;\n",
              "      --fill-color: #1967D2;\n",
              "      --hover-bg-color: #E2EBFA;\n",
              "      --hover-fill-color: #174EA6;\n",
              "      --disabled-fill-color: #AAA;\n",
              "      --disabled-bg-color: #DDD;\n",
              "  }\n",
              "\n",
              "  [theme=dark] .colab-df-quickchart {\n",
              "      --bg-color: #3B4455;\n",
              "      --fill-color: #D2E3FC;\n",
              "      --hover-bg-color: #434B5C;\n",
              "      --hover-fill-color: #FFFFFF;\n",
              "      --disabled-bg-color: #3B4455;\n",
              "      --disabled-fill-color: #666;\n",
              "  }\n",
              "\n",
              "  .colab-df-quickchart {\n",
              "    background-color: var(--bg-color);\n",
              "    border: none;\n",
              "    border-radius: 50%;\n",
              "    cursor: pointer;\n",
              "    display: none;\n",
              "    fill: var(--fill-color);\n",
              "    height: 32px;\n",
              "    padding: 0;\n",
              "    width: 32px;\n",
              "  }\n",
              "\n",
              "  .colab-df-quickchart:hover {\n",
              "    background-color: var(--hover-bg-color);\n",
              "    box-shadow: 0 1px 2px rgba(60, 64, 67, 0.3), 0 1px 3px 1px rgba(60, 64, 67, 0.15);\n",
              "    fill: var(--button-hover-fill-color);\n",
              "  }\n",
              "\n",
              "  .colab-df-quickchart-complete:disabled,\n",
              "  .colab-df-quickchart-complete:disabled:hover {\n",
              "    background-color: var(--disabled-bg-color);\n",
              "    fill: var(--disabled-fill-color);\n",
              "    box-shadow: none;\n",
              "  }\n",
              "\n",
              "  .colab-df-spinner {\n",
              "    border: 2px solid var(--fill-color);\n",
              "    border-color: transparent;\n",
              "    border-bottom-color: var(--fill-color);\n",
              "    animation:\n",
              "      spin 1s steps(1) infinite;\n",
              "  }\n",
              "\n",
              "  @keyframes spin {\n",
              "    0% {\n",
              "      border-color: transparent;\n",
              "      border-bottom-color: var(--fill-color);\n",
              "      border-left-color: var(--fill-color);\n",
              "    }\n",
              "    20% {\n",
              "      border-color: transparent;\n",
              "      border-left-color: var(--fill-color);\n",
              "      border-top-color: var(--fill-color);\n",
              "    }\n",
              "    30% {\n",
              "      border-color: transparent;\n",
              "      border-left-color: var(--fill-color);\n",
              "      border-top-color: var(--fill-color);\n",
              "      border-right-color: var(--fill-color);\n",
              "    }\n",
              "    40% {\n",
              "      border-color: transparent;\n",
              "      border-right-color: var(--fill-color);\n",
              "      border-top-color: var(--fill-color);\n",
              "    }\n",
              "    60% {\n",
              "      border-color: transparent;\n",
              "      border-right-color: var(--fill-color);\n",
              "    }\n",
              "    80% {\n",
              "      border-color: transparent;\n",
              "      border-right-color: var(--fill-color);\n",
              "      border-bottom-color: var(--fill-color);\n",
              "    }\n",
              "    90% {\n",
              "      border-color: transparent;\n",
              "      border-bottom-color: var(--fill-color);\n",
              "    }\n",
              "  }\n",
              "</style>\n",
              "\n",
              "  <script>\n",
              "    async function quickchart(key) {\n",
              "      const quickchartButtonEl =\n",
              "        document.querySelector('#' + key + ' button');\n",
              "      quickchartButtonEl.disabled = true;  // To prevent multiple clicks.\n",
              "      quickchartButtonEl.classList.add('colab-df-spinner');\n",
              "      try {\n",
              "        const charts = await google.colab.kernel.invokeFunction(\n",
              "            'suggestCharts', [key], {});\n",
              "      } catch (error) {\n",
              "        console.error('Error during call to suggestCharts:', error);\n",
              "      }\n",
              "      quickchartButtonEl.classList.remove('colab-df-spinner');\n",
              "      quickchartButtonEl.classList.add('colab-df-quickchart-complete');\n",
              "    }\n",
              "    (() => {\n",
              "      let quickchartButtonEl =\n",
              "        document.querySelector('#df-3a7786ab-0f2b-413e-aa96-9ffa79a6937c button');\n",
              "      quickchartButtonEl.style.display =\n",
              "        google.colab.kernel.accessAllowed ? 'block' : 'none';\n",
              "    })();\n",
              "  </script>\n",
              "</div>\n",
              "    </div>\n",
              "  </div>\n"
            ]
          },
          "metadata": {},
          "execution_count": 19
        }
      ],
      "source": [
        "#Obtendo a média, mediana e valor máximo da variável Renda relacionado ao Produto e se é Pré ou Pós Panderia\n",
        "renda_por_produto = pd.crosstab(df1['produto'],\n",
        "                                                df1['pandemia_identificador'],\n",
        "                                                values = df1['renda'],\n",
        "                                                aggfunc = {'mean', 'median', 'max'})\n",
        "renda_por_produto"
      ]
    },
    {
      "cell_type": "markdown",
      "source": [
        "A renda média dos consumidores, por produto, aumentou no pós pandemia, principalmente, em perfume.\n",
        "\n",
        "Uma outra forma de analisar é através do boxplot:"
      ],
      "metadata": {
        "id": "NZr7m8mWofrf"
      }
    },
    {
      "cell_type": "code",
      "execution_count": null,
      "metadata": {
        "colab": {
          "base_uri": "https://localhost:8080/",
          "height": 903
        },
        "id": "WkdhhYQyanKr",
        "outputId": "31539670-2565-4f28-ec66-0748db638fec"
      },
      "outputs": [
        {
          "output_type": "execute_result",
          "data": {
            "text/plain": [
              "<Axes: title={'center': 'Box-plot da RENDA por produto para Pré e Pós Pandemia'}, xlabel='Renda_R$', ylabel='Produto'>"
            ]
          },
          "metadata": {},
          "execution_count": 20
        },
        {
          "output_type": "display_data",
          "data": {
            "text/plain": [
              "<Figure size 1400x1000 with 1 Axes>"
            ],
            "image/png": "[encoded data removed]"
          },
          "metadata": {}
        }
      ],
      "source": [
        "ax = sns.boxplot(x = 'renda', y = 'produto', hue = 'periodo', data=df1, orient='h')\n",
        "\n",
        "ax.figure.set_size_inches(14, 10)    # Personalizando o tamanho da figura\n",
        "\n",
        "ax.set_title('Box-plot da RENDA por produto para Pré e Pós Pandemia', fontsize=18)    # Configurando o título do gráfico\n",
        "\n",
        "ax.set_xlabel('Renda_R$', fontsize=14)    # Configurando o label do eixo X\n",
        "\n",
        "ax.set_ylabel('Produto', fontsize=14)    # Configurando o label do eixo Y\n",
        "\n",
        "# Configurações da legenda do gráfico\n",
        "handles, _ = ax.get_legend_handles_labels()\n",
        "ax.legend(handles, ['Pós', 'Pré'], fontsize=12)\n",
        "\n",
        "ax"
      ]
    },
    {
      "cell_type": "markdown",
      "metadata": {
        "id": "mVNfM4sui_lQ"
      },
      "source": [
        "O mesmo método de análise foi feita para verificar a distribuição da idade dos consumidores, por produto consumido nos períodos de pré e pós-pandemia, a partir de uma tabela e de um gráfico box-plot."
      ]
    },
    {
      "cell_type": "code",
      "execution_count": null,
      "metadata": {
        "colab": {
          "base_uri": "https://localhost:8080/",
          "height": 300
        },
        "id": "6502I1vhJuDQ",
        "outputId": "00053438-3114-42f6-e2d1-dae854096935"
      },
      "outputs": [
        {
          "output_type": "execute_result",
          "data": {
            "text/plain": [
              "                       max           mean            median      \n",
              "pandemia_identificador pré pós        pré        pós    pré   pós\n",
              "produto                                                          \n",
              "antissinais             76  77  41.555556  44.200000   33.0  46.5\n",
              "base                    61  57  43.333333  40.250000   46.0  37.0\n",
              "batom                   71  65  37.622951  40.866667   36.0  44.0\n",
              "desodorante             74  73  43.400000  46.543478   38.0  46.0\n",
              "perfume                 77  65  46.750000  50.000000   41.0  49.5\n",
              "sombra                  80  60  43.500000  42.333333   37.0  38.0"
            ],
            "text/html": [
              "\n",
              "  <div id=\"df-00df664a-aa19-42f7-bc37-3cf40fd3edc2\" class=\"colab-df-container\">\n",
              "    <div>\n",
              "<style scoped>\n",
              "    .dataframe tbody tr th:only-of-type {\n",
              "        vertical-align: middle;\n",
              "    }\n",
              "\n",
              "    .dataframe tbody tr th {\n",
              "        vertical-align: top;\n",
              "    }\n",
              "\n",
              "    .dataframe thead tr th {\n",
              "        text-align: left;\n",
              "    }\n",
              "\n",
              "    .dataframe thead tr:last-of-type th {\n",
              "        text-align: right;\n",
              "    }\n",
              "</style>\n",
              "<table border=\"1\" class=\"dataframe\">\n",
              "  <thead>\n",
              "    <tr>\n",
              "      <th></th>\n",
              "      <th colspan=\"2\" halign=\"left\">max</th>\n",
              "      <th colspan=\"2\" halign=\"left\">mean</th>\n",
              "      <th colspan=\"2\" halign=\"left\">median</th>\n",
              "    </tr>\n",
              "    <tr>\n",
              "      <th>pandemia_identificador</th>\n",
              "      <th>pré</th>\n",
              "      <th>pós</th>\n",
              "      <th>pré</th>\n",
              "      <th>pós</th>\n",
              "      <th>pré</th>\n",
              "      <th>pós</th>\n",
              "    </tr>\n",
              "    <tr>\n",
              "      <th>produto</th>\n",
              "      <th></th>\n",
              "      <th></th>\n",
              "      <th></th>\n",
              "      <th></th>\n",
              "      <th></th>\n",
              "      <th></th>\n",
              "    </tr>\n",
              "  </thead>\n",
              "  <tbody>\n",
              "    <tr>\n",
              "      <th>antissinais</th>\n",
              "      <td>76</td>\n",
              "      <td>77</td>\n",
              "      <td>41.555556</td>\n",
              "      <td>44.200000</td>\n",
              "      <td>33.0</td>\n",
              "      <td>46.5</td>\n",
              "    </tr>\n",
              "    <tr>\n",
              "      <th>base</th>\n",
              "      <td>61</td>\n",
              "      <td>57</td>\n",
              "      <td>43.333333</td>\n",
              "      <td>40.250000</td>\n",
              "      <td>46.0</td>\n",
              "      <td>37.0</td>\n",
              "    </tr>\n",
              "    <tr>\n",
              "      <th>batom</th>\n",
              "      <td>71</td>\n",
              "      <td>65</td>\n",
              "      <td>37.622951</td>\n",
              "      <td>40.866667</td>\n",
              "      <td>36.0</td>\n",
              "      <td>44.0</td>\n",
              "    </tr>\n",
              "    <tr>\n",
              "      <th>desodorante</th>\n",
              "      <td>74</td>\n",
              "      <td>73</td>\n",
              "      <td>43.400000</td>\n",
              "      <td>46.543478</td>\n",
              "      <td>38.0</td>\n",
              "      <td>46.0</td>\n",
              "    </tr>\n",
              "    <tr>\n",
              "      <th>perfume</th>\n",
              "      <td>77</td>\n",
              "      <td>65</td>\n",
              "      <td>46.750000</td>\n",
              "      <td>50.000000</td>\n",
              "      <td>41.0</td>\n",
              "      <td>49.5</td>\n",
              "    </tr>\n",
              "    <tr>\n",
              "      <th>sombra</th>\n",
              "      <td>80</td>\n",
              "      <td>60</td>\n",
              "      <td>43.500000</td>\n",
              "      <td>42.333333</td>\n",
              "      <td>37.0</td>\n",
              "      <td>38.0</td>\n",
              "    </tr>\n",
              "  </tbody>\n",
              "</table>\n",
              "</div>\n",
              "    <div class=\"colab-df-buttons\">\n",
              "\n",
              "  <div class=\"colab-df-container\">\n",
              "    <button class=\"colab-df-convert\" onclick=\"convertToInteractive('df-00df664a-aa19-42f7-bc37-3cf40fd3edc2')\"\n",
              "            title=\"Convert this dataframe to an interactive table.\"\n",
              "            style=\"display:none;\">\n",
              "\n",
              "  <svg xmlns=\"http://www.w3.org/2000/svg\" height=\"24px\" viewBox=\"0 -960 960 960\">\n",
              "    <path d=\"M120-120v-720h720v720H120Zm60-500h600v-160H180v160Zm220 220h160v-160H400v160Zm0 220h160v-160H400v160ZM180-400h160v-160H180v160Zm440 0h160v-160H620v160ZM180-180h160v-160H180v160Zm440 0h160v-160H620v160Z\"/>\n",
              "  </svg>\n",
              "    </button>\n",
              "\n",
              "  <style>\n",
              "    .colab-df-container {\n",
              "      display:flex;\n",
              "      gap: 12px;\n",
              "    }\n",
              "\n",
              "    .colab-df-convert {\n",
              "      background-color: #E8F0FE;\n",
              "      border: none;\n",
              "      border-radius: 50%;\n",
              "      cursor: pointer;\n",
              "      display: none;\n",
              "      fill: #1967D2;\n",
              "      height: 32px;\n",
              "      padding: 0 0 0 0;\n",
              "      width: 32px;\n",
              "    }\n",
              "\n",
              "    .colab-df-convert:hover {\n",
              "      background-color: #E2EBFA;\n",
              "      box-shadow: 0px 1px 2px rgba(60, 64, 67, 0.3), 0px 1px 3px 1px rgba(60, 64, 67, 0.15);\n",
              "      fill: #174EA6;\n",
              "    }\n",
              "\n",
              "    .colab-df-buttons div {\n",
              "      margin-bottom: 4px;\n",
              "    }\n",
              "\n",
              "    [theme=dark] .colab-df-convert {\n",
              "      background-color: #3B4455;\n",
              "      fill: #D2E3FC;\n",
              "    }\n",
              "\n",
              "    [theme=dark] .colab-df-convert:hover {\n",
              "      background-color: #434B5C;\n",
              "      box-shadow: 0px 1px 3px 1px rgba(0, 0, 0, 0.15);\n",
              "      filter: drop-shadow(0px 1px 2px rgba(0, 0, 0, 0.3));\n",
              "      fill: #FFFFFF;\n",
              "    }\n",
              "  </style>\n",
              "\n",
              "    <script>\n",
              "      const buttonEl =\n",
              "        document.querySelector('#df-00df664a-aa19-42f7-bc37-3cf40fd3edc2 button.colab-df-convert');\n",
              "      buttonEl.style.display =\n",
              "        google.colab.kernel.accessAllowed ? 'block' : 'none';\n",
              "\n",
              "      async function convertToInteractive(key) {\n",
              "        const element = document.querySelector('#df-00df664a-aa19-42f7-bc37-3cf40fd3edc2');\n",
              "        const dataTable =\n",
              "          await google.colab.kernel.invokeFunction('convertToInteractive',\n",
              "                                                    [key], {});\n",
              "        if (!dataTable) return;\n",
              "\n",
              "        const docLinkHtml = 'Like what you see? Visit the ' +\n",
              "          '<a target=\"_blank\" href=https://colab.research.google.com/notebooks/data_table.ipynb>data table notebook</a>'\n",
              "          + ' to learn more about interactive tables.';\n",
              "        element.innerHTML = '';\n",
              "        dataTable['output_type'] = 'display_data';\n",
              "        await google.colab.output.renderOutput(dataTable, element);\n",
              "        const docLink = document.createElement('div');\n",
              "        docLink.innerHTML = docLinkHtml;\n",
              "        element.appendChild(docLink);\n",
              "      }\n",
              "    </script>\n",
              "  </div>\n",
              "\n",
              "\n",
              "<div id=\"df-a1bd4eb5-2e8a-4581-a1a9-434e2e774c0b\">\n",
              "  <button class=\"colab-df-quickchart\" onclick=\"quickchart('df-a1bd4eb5-2e8a-4581-a1a9-434e2e774c0b')\"\n",
              "            title=\"Suggest charts.\"\n",
              "            style=\"display:none;\">\n",
              "\n",
              "<svg xmlns=\"http://www.w3.org/2000/svg\" height=\"24px\"viewBox=\"0 0 24 24\"\n",
              "     width=\"24px\">\n",
              "    <g>\n",
              "        <path d=\"M19 3H5c-1.1 0-2 .9-2 2v14c0 1.1.9 2 2 2h14c1.1 0 2-.9 2-2V5c0-1.1-.9-2-2-2zM9 17H7v-7h2v7zm4 0h-2V7h2v10zm4 0h-2v-4h2v4z\"/>\n",
              "    </g>\n",
              "</svg>\n",
              "  </button>\n",
              "\n",
              "<style>\n",
              "  .colab-df-quickchart {\n",
              "      --bg-color: #E8F0FE;\n",
              "      --fill-color: #1967D2;\n",
              "      --hover-bg-color: #E2EBFA;\n",
              "      --hover-fill-color: #174EA6;\n",
              "      --disabled-fill-color: #AAA;\n",
              "      --disabled-bg-color: #DDD;\n",
              "  }\n",
              "\n",
              "  [theme=dark] .colab-df-quickchart {\n",
              "      --bg-color: #3B4455;\n",
              "      --fill-color: #D2E3FC;\n",
              "      --hover-bg-color: #434B5C;\n",
              "      --hover-fill-color: #FFFFFF;\n",
              "      --disabled-bg-color: #3B4455;\n",
              "      --disabled-fill-color: #666;\n",
              "  }\n",
              "\n",
              "  .colab-df-quickchart {\n",
              "    background-color: var(--bg-color);\n",
              "    border: none;\n",
              "    border-radius: 50%;\n",
              "    cursor: pointer;\n",
              "    display: none;\n",
              "    fill: var(--fill-color);\n",
              "    height: 32px;\n",
              "    padding: 0;\n",
              "    width: 32px;\n",
              "  }\n",
              "\n",
              "  .colab-df-quickchart:hover {\n",
              "    background-color: var(--hover-bg-color);\n",
              "    box-shadow: 0 1px 2px rgba(60, 64, 67, 0.3), 0 1px 3px 1px rgba(60, 64, 67, 0.15);\n",
              "    fill: var(--button-hover-fill-color);\n",
              "  }\n",
              "\n",
              "  .colab-df-quickchart-complete:disabled,\n",
              "  .colab-df-quickchart-complete:disabled:hover {\n",
              "    background-color: var(--disabled-bg-color);\n",
              "    fill: var(--disabled-fill-color);\n",
              "    box-shadow: none;\n",
              "  }\n",
              "\n",
              "  .colab-df-spinner {\n",
              "    border: 2px solid var(--fill-color);\n",
              "    border-color: transparent;\n",
              "    border-bottom-color: var(--fill-color);\n",
              "    animation:\n",
              "      spin 1s steps(1) infinite;\n",
              "  }\n",
              "\n",
              "  @keyframes spin {\n",
              "    0% {\n",
              "      border-color: transparent;\n",
              "      border-bottom-color: var(--fill-color);\n",
              "      border-left-color: var(--fill-color);\n",
              "    }\n",
              "    20% {\n",
              "      border-color: transparent;\n",
              "      border-left-color: var(--fill-color);\n",
              "      border-top-color: var(--fill-color);\n",
              "    }\n",
              "    30% {\n",
              "      border-color: transparent;\n",
              "      border-left-color: var(--fill-color);\n",
              "      border-top-color: var(--fill-color);\n",
              "      border-right-color: var(--fill-color);\n",
              "    }\n",
              "    40% {\n",
              "      border-color: transparent;\n",
              "      border-right-color: var(--fill-color);\n",
              "      border-top-color: var(--fill-color);\n",
              "    }\n",
              "    60% {\n",
              "      border-color: transparent;\n",
              "      border-right-color: var(--fill-color);\n",
              "    }\n",
              "    80% {\n",
              "      border-color: transparent;\n",
              "      border-right-color: var(--fill-color);\n",
              "      border-bottom-color: var(--fill-color);\n",
              "    }\n",
              "    90% {\n",
              "      border-color: transparent;\n",
              "      border-bottom-color: var(--fill-color);\n",
              "    }\n",
              "  }\n",
              "</style>\n",
              "\n",
              "  <script>\n",
              "    async function quickchart(key) {\n",
              "      const quickchartButtonEl =\n",
              "        document.querySelector('#' + key + ' button');\n",
              "      quickchartButtonEl.disabled = true;  // To prevent multiple clicks.\n",
              "      quickchartButtonEl.classList.add('colab-df-spinner');\n",
              "      try {\n",
              "        const charts = await google.colab.kernel.invokeFunction(\n",
              "            'suggestCharts', [key], {});\n",
              "      } catch (error) {\n",
              "        console.error('Error during call to suggestCharts:', error);\n",
              "      }\n",
              "      quickchartButtonEl.classList.remove('colab-df-spinner');\n",
              "      quickchartButtonEl.classList.add('colab-df-quickchart-complete');\n",
              "    }\n",
              "    (() => {\n",
              "      let quickchartButtonEl =\n",
              "        document.querySelector('#df-a1bd4eb5-2e8a-4581-a1a9-434e2e774c0b button');\n",
              "      quickchartButtonEl.style.display =\n",
              "        google.colab.kernel.accessAllowed ? 'block' : 'none';\n",
              "    })();\n",
              "  </script>\n",
              "</div>\n",
              "    </div>\n",
              "  </div>\n"
            ]
          },
          "metadata": {},
          "execution_count": 21
        }
      ],
      "source": [
        "#Obtendo a média, mediana e valor máximo da variável Idade relacionado ao Produto e se é Pré ou Pós Pandemia\n",
        "idade_por_produto = pd.crosstab(df1['produto'],\n",
        "                                                df1['pandemia_identificador'],\n",
        "                                                values = df1['idade'],\n",
        "                                                aggfunc = {'mean', 'median', 'max'})\n",
        "idade_por_produto"
      ]
    },
    {
      "cell_type": "markdown",
      "source": [
        "A maioria dos produtos teve aumento na média das idades dos consumidores, exceto em base e sombra."
      ],
      "metadata": {
        "id": "EU1yRs7aow69"
      }
    },
    {
      "cell_type": "code",
      "execution_count": null,
      "metadata": {
        "colab": {
          "base_uri": "https://localhost:8080/",
          "height": 902
        },
        "id": "H_zrV2GGG5K1",
        "outputId": "f8ed0d51-6817-4f82-8851-d7f9784d415a"
      },
      "outputs": [
        {
          "output_type": "execute_result",
          "data": {
            "text/plain": [
              "<Axes: title={'center': 'Box-plot da IDADE por produto para Pré e Pós Pandemia'}, xlabel='Idade', ylabel='Produto'>"
            ]
          },
          "metadata": {},
          "execution_count": 22
        },
        {
          "output_type": "display_data",
          "data": {
            "text/plain": [
              "<Figure size 1400x1000 with 1 Axes>"
            ],
            "image/png": "[encoded data removed]"
          },
          "metadata": {}
        }
      ],
      "source": [
        "#Boxplot da relação da IDADE dos consumidores por produto para Pré e Pós Pandemia\n",
        "ax = sns.boxplot(x = 'idade', y = 'produto', hue = 'periodo', data=df1, orient='h')\n",
        "\n",
        "ax.figure.set_size_inches(14, 10)    # Personalizando o tamanho da figura\n",
        "\n",
        "ax.set_title('Box-plot da IDADE por produto para Pré e Pós Pandemia', fontsize=18)    # Configurando o título do gráfico\n",
        "\n",
        "ax.set_xlabel('Idade', fontsize=14)    # Configurando o label do eixo X\n",
        "\n",
        "ax.set_ylabel('Produto', fontsize=14)    # Configurando o label do eixo Y\n",
        "\n",
        "# Configurações da legenda do gráfico\n",
        "handles, _ = ax.get_legend_handles_labels()\n",
        "ax.legend(handles, ['Pós', 'Pré'], fontsize=12)\n",
        "\n",
        "ax"
      ]
    },
    {
      "cell_type": "markdown",
      "source": [
        "Foi observado que a idade do consumidor variou mais no pré pandemia, com exceção dos produtos do batom e desodorante. A mediana da idade aumentou para todos os produtos no período pós-pandemia, com exceção da base, em que a mediana diminuiu.\n"
      ],
      "metadata": {
        "id": "I5YiKPYiJeWJ"
      }
    },
    {
      "cell_type": "markdown",
      "source": [
        "Agora vamos analisar os produtos por região:"
      ],
      "metadata": {
        "id": "rnfmJIEmtAbj"
      }
    },
    {
      "cell_type": "code",
      "execution_count": null,
      "metadata": {
        "colab": {
          "base_uri": "https://localhost:8080/",
          "height": 708
        },
        "id": "xfZNQyU-hF9i",
        "outputId": "d08efaf1-bdf0-4187-f6c5-61518f5b94a5"
      },
      "outputs": [
        {
          "output_type": "execute_result",
          "data": {
            "text/plain": [
              "       regiao-BR pandemia_identificador      produto  quantidade\n",
              "0   Centro-Oeste                    pré  desodorante           5\n",
              "1   Centro-Oeste                    pré      perfume           4\n",
              "2   Centro-Oeste                    pré       sombra           4\n",
              "3   Centro-Oeste                    pré         base           3\n",
              "4   Centro-Oeste                    pré  antissinais           1\n",
              "5   Centro-Oeste                    pós  antissinais           8\n",
              "6       Nordeste                    pré  desodorante          15\n",
              "7       Nordeste                    pré        batom          11\n",
              "8       Nordeste                    pós       sombra           9\n",
              "9       Nordeste                    pós      perfume           8\n",
              "10      Nordeste                    pós         base           4\n",
              "11      Nordeste                    pós  antissinais           3\n",
              "12      Nordeste                    pós  desodorante           1\n",
              "13         Norte                    pré  antissinais           8\n",
              "14         Norte                    pós  antissinais           9\n",
              "15       Sudeste                    pré        batom          21\n",
              "16       Sudeste                    pós        batom          14\n",
              "17       Sudeste                    pós  desodorante           4\n",
              "18           Sul                    pré        batom          29\n",
              "19           Sul                    pós  desodorante          41\n",
              "20           Sul                    pós        batom           1"
            ],
            "text/html": [
              "\n",
              "  <div id=\"df-f595f00e-3071-4258-803b-499179b0f0a1\" class=\"colab-df-container\">\n",
              "    <div>\n",
              "<style scoped>\n",
              "    .dataframe tbody tr th:only-of-type {\n",
              "        vertical-align: middle;\n",
              "    }\n",
              "\n",
              "    .dataframe tbody tr th {\n",
              "        vertical-align: top;\n",
              "    }\n",
              "\n",
              "    .dataframe thead th {\n",
              "        text-align: right;\n",
              "    }\n",
              "</style>\n",
              "<table border=\"1\" class=\"dataframe\">\n",
              "  <thead>\n",
              "    <tr style=\"text-align: right;\">\n",
              "      <th></th>\n",
              "      <th>regiao-BR</th>\n",
              "      <th>pandemia_identificador</th>\n",
              "      <th>produto</th>\n",
              "      <th>quantidade</th>\n",
              "    </tr>\n",
              "  </thead>\n",
              "  <tbody>\n",
              "    <tr>\n",
              "      <th>0</th>\n",
              "      <td>Centro-Oeste</td>\n",
              "      <td>pré</td>\n",
              "      <td>desodorante</td>\n",
              "      <td>5</td>\n",
              "    </tr>\n",
              "    <tr>\n",
              "      <th>1</th>\n",
              "      <td>Centro-Oeste</td>\n",
              "      <td>pré</td>\n",
              "      <td>perfume</td>\n",
              "      <td>4</td>\n",
              "    </tr>\n",
              "    <tr>\n",
              "      <th>2</th>\n",
              "      <td>Centro-Oeste</td>\n",
              "      <td>pré</td>\n",
              "      <td>sombra</td>\n",
              "      <td>4</td>\n",
              "    </tr>\n",
              "    <tr>\n",
              "      <th>3</th>\n",
              "      <td>Centro-Oeste</td>\n",
              "      <td>pré</td>\n",
              "      <td>base</td>\n",
              "      <td>3</td>\n",
              "    </tr>\n",
              "    <tr>\n",
              "      <th>4</th>\n",
              "      <td>Centro-Oeste</td>\n",
              "      <td>pré</td>\n",
              "      <td>antissinais</td>\n",
              "      <td>1</td>\n",
              "    </tr>\n",
              "    <tr>\n",
              "      <th>5</th>\n",
              "      <td>Centro-Oeste</td>\n",
              "      <td>pós</td>\n",
              "      <td>antissinais</td>\n",
              "      <td>8</td>\n",
              "    </tr>\n",
              "    <tr>\n",
              "      <th>6</th>\n",
              "      <td>Nordeste</td>\n",
              "      <td>pré</td>\n",
              "      <td>desodorante</td>\n",
              "      <td>15</td>\n",
              "    </tr>\n",
              "    <tr>\n",
              "      <th>7</th>\n",
              "      <td>Nordeste</td>\n",
              "      <td>pré</td>\n",
              "      <td>batom</td>\n",
              "      <td>11</td>\n",
              "    </tr>\n",
              "    <tr>\n",
              "      <th>8</th>\n",
              "      <td>Nordeste</td>\n",
              "      <td>pós</td>\n",
              "      <td>sombra</td>\n",
              "      <td>9</td>\n",
              "    </tr>\n",
              "    <tr>\n",
              "      <th>9</th>\n",
              "      <td>Nordeste</td>\n",
              "      <td>pós</td>\n",
              "      <td>perfume</td>\n",
              "      <td>8</td>\n",
              "    </tr>\n",
              "    <tr>\n",
              "      <th>10</th>\n",
              "      <td>Nordeste</td>\n",
              "      <td>pós</td>\n",
              "      <td>base</td>\n",
              "      <td>4</td>\n",
              "    </tr>\n",
              "    <tr>\n",
              "      <th>11</th>\n",
              "      <td>Nordeste</td>\n",
              "      <td>pós</td>\n",
              "      <td>antissinais</td>\n",
              "      <td>3</td>\n",
              "    </tr>\n",
              "    <tr>\n",
              "      <th>12</th>\n",
              "      <td>Nordeste</td>\n",
              "      <td>pós</td>\n",
              "      <td>desodorante</td>\n",
              "      <td>1</td>\n",
              "    </tr>\n",
              "    <tr>\n",
              "      <th>13</th>\n",
              "      <td>Norte</td>\n",
              "      <td>pré</td>\n",
              "      <td>antissinais</td>\n",
              "      <td>8</td>\n",
              "    </tr>\n",
              "    <tr>\n",
              "      <th>14</th>\n",
              "      <td>Norte</td>\n",
              "      <td>pós</td>\n",
              "      <td>antissinais</td>\n",
              "      <td>9</td>\n",
              "    </tr>\n",
              "    <tr>\n",
              "      <th>15</th>\n",
              "      <td>Sudeste</td>\n",
              "      <td>pré</td>\n",
              "      <td>batom</td>\n",
              "      <td>21</td>\n",
              "    </tr>\n",
              "    <tr>\n",
              "      <th>16</th>\n",
              "      <td>Sudeste</td>\n",
              "      <td>pós</td>\n",
              "      <td>batom</td>\n",
              "      <td>14</td>\n",
              "    </tr>\n",
              "    <tr>\n",
              "      <th>17</th>\n",
              "      <td>Sudeste</td>\n",
              "      <td>pós</td>\n",
              "      <td>desodorante</td>\n",
              "      <td>4</td>\n",
              "    </tr>\n",
              "    <tr>\n",
              "      <th>18</th>\n",
              "      <td>Sul</td>\n",
              "      <td>pré</td>\n",
              "      <td>batom</td>\n",
              "      <td>29</td>\n",
              "    </tr>\n",
              "    <tr>\n",
              "      <th>19</th>\n",
              "      <td>Sul</td>\n",
              "      <td>pós</td>\n",
              "      <td>desodorante</td>\n",
              "      <td>41</td>\n",
              "    </tr>\n",
              "    <tr>\n",
              "      <th>20</th>\n",
              "      <td>Sul</td>\n",
              "      <td>pós</td>\n",
              "      <td>batom</td>\n",
              "      <td>1</td>\n",
              "    </tr>\n",
              "  </tbody>\n",
              "</table>\n",
              "</div>\n",
              "    <div class=\"colab-df-buttons\">\n",
              "\n",
              "  <div class=\"colab-df-container\">\n",
              "    <button class=\"colab-df-convert\" onclick=\"convertToInteractive('df-f595f00e-3071-4258-803b-499179b0f0a1')\"\n",
              "            title=\"Convert this dataframe to an interactive table.\"\n",
              "            style=\"display:none;\">\n",
              "\n",
              "  <svg xmlns=\"http://www.w3.org/2000/svg\" height=\"24px\" viewBox=\"0 -960 960 960\">\n",
              "    <path d=\"M120-120v-720h720v720H120Zm60-500h600v-160H180v160Zm220 220h160v-160H400v160Zm0 220h160v-160H400v160ZM180-400h160v-160H180v160Zm440 0h160v-160H620v160ZM180-180h160v-160H180v160Zm440 0h160v-160H620v160Z\"/>\n",
              "  </svg>\n",
              "    </button>\n",
              "\n",
              "  <style>\n",
              "    .colab-df-container {\n",
              "      display:flex;\n",
              "      gap: 12px;\n",
              "    }\n",
              "\n",
              "    .colab-df-convert {\n",
              "      background-color: #E8F0FE;\n",
              "      border: none;\n",
              "      border-radius: 50%;\n",
              "      cursor: pointer;\n",
              "      display: none;\n",
              "      fill: #1967D2;\n",
              "      height: 32px;\n",
              "      padding: 0 0 0 0;\n",
              "      width: 32px;\n",
              "    }\n",
              "\n",
              "    .colab-df-convert:hover {\n",
              "      background-color: #E2EBFA;\n",
              "      box-shadow: 0px 1px 2px rgba(60, 64, 67, 0.3), 0px 1px 3px 1px rgba(60, 64, 67, 0.15);\n",
              "      fill: #174EA6;\n",
              "    }\n",
              "\n",
              "    .colab-df-buttons div {\n",
              "      margin-bottom: 4px;\n",
              "    }\n",
              "\n",
              "    [theme=dark] .colab-df-convert {\n",
              "      background-color: #3B4455;\n",
              "      fill: #D2E3FC;\n",
              "    }\n",
              "\n",
              "    [theme=dark] .colab-df-convert:hover {\n",
              "      background-color: #434B5C;\n",
              "      box-shadow: 0px 1px 3px 1px rgba(0, 0, 0, 0.15);\n",
              "      filter: drop-shadow(0px 1px 2px rgba(0, 0, 0, 0.3));\n",
              "      fill: #FFFFFF;\n",
              "    }\n",
              "  </style>\n",
              "\n",
              "    <script>\n",
              "      const buttonEl =\n",
              "        document.querySelector('#df-f595f00e-3071-4258-803b-499179b0f0a1 button.colab-df-convert');\n",
              "      buttonEl.style.display =\n",
              "        google.colab.kernel.accessAllowed ? 'block' : 'none';\n",
              "\n",
              "      async function convertToInteractive(key) {\n",
              "        const element = document.querySelector('#df-f595f00e-3071-4258-803b-499179b0f0a1');\n",
              "        const dataTable =\n",
              "          await google.colab.kernel.invokeFunction('convertToInteractive',\n",
              "                                                    [key], {});\n",
              "        if (!dataTable) return;\n",
              "\n",
              "        const docLinkHtml = 'Like what you see? Visit the ' +\n",
              "          '<a target=\"_blank\" href=https://colab.research.google.com/notebooks/data_table.ipynb>data table notebook</a>'\n",
              "          + ' to learn more about interactive tables.';\n",
              "        element.innerHTML = '';\n",
              "        dataTable['output_type'] = 'display_data';\n",
              "        await google.colab.output.renderOutput(dataTable, element);\n",
              "        const docLink = document.createElement('div');\n",
              "        docLink.innerHTML = docLinkHtml;\n",
              "        element.appendChild(docLink);\n",
              "      }\n",
              "    </script>\n",
              "  </div>\n",
              "\n",
              "\n",
              "<div id=\"df-5b96b2a8-7b63-4cc2-a096-efdfaeab4d1b\">\n",
              "  <button class=\"colab-df-quickchart\" onclick=\"quickchart('df-5b96b2a8-7b63-4cc2-a096-efdfaeab4d1b')\"\n",
              "            title=\"Suggest charts.\"\n",
              "            style=\"display:none;\">\n",
              "\n",
              "<svg xmlns=\"http://www.w3.org/2000/svg\" height=\"24px\"viewBox=\"0 0 24 24\"\n",
              "     width=\"24px\">\n",
              "    <g>\n",
              "        <path d=\"M19 3H5c-1.1 0-2 .9-2 2v14c0 1.1.9 2 2 2h14c1.1 0 2-.9 2-2V5c0-1.1-.9-2-2-2zM9 17H7v-7h2v7zm4 0h-2V7h2v10zm4 0h-2v-4h2v4z\"/>\n",
              "    </g>\n",
              "</svg>\n",
              "  </button>\n",
              "\n",
              "<style>\n",
              "  .colab-df-quickchart {\n",
              "      --bg-color: #E8F0FE;\n",
              "      --fill-color: #1967D2;\n",
              "      --hover-bg-color: #E2EBFA;\n",
              "      --hover-fill-color: #174EA6;\n",
              "      --disabled-fill-color: #AAA;\n",
              "      --disabled-bg-color: #DDD;\n",
              "  }\n",
              "\n",
              "  [theme=dark] .colab-df-quickchart {\n",
              "      --bg-color: #3B4455;\n",
              "      --fill-color: #D2E3FC;\n",
              "      --hover-bg-color: #434B5C;\n",
              "      --hover-fill-color: #FFFFFF;\n",
              "      --disabled-bg-color: #3B4455;\n",
              "      --disabled-fill-color: #666;\n",
              "  }\n",
              "\n",
              "  .colab-df-quickchart {\n",
              "    background-color: var(--bg-color);\n",
              "    border: none;\n",
              "    border-radius: 50%;\n",
              "    cursor: pointer;\n",
              "    display: none;\n",
              "    fill: var(--fill-color);\n",
              "    height: 32px;\n",
              "    padding: 0;\n",
              "    width: 32px;\n",
              "  }\n",
              "\n",
              "  .colab-df-quickchart:hover {\n",
              "    background-color: var(--hover-bg-color);\n",
              "    box-shadow: 0 1px 2px rgba(60, 64, 67, 0.3), 0 1px 3px 1px rgba(60, 64, 67, 0.15);\n",
              "    fill: var(--button-hover-fill-color);\n",
              "  }\n",
              "\n",
              "  .colab-df-quickchart-complete:disabled,\n",
              "  .colab-df-quickchart-complete:disabled:hover {\n",
              "    background-color: var(--disabled-bg-color);\n",
              "    fill: var(--disabled-fill-color);\n",
              "    box-shadow: none;\n",
              "  }\n",
              "\n",
              "  .colab-df-spinner {\n",
              "    border: 2px solid var(--fill-color);\n",
              "    border-color: transparent;\n",
              "    border-bottom-color: var(--fill-color);\n",
              "    animation:\n",
              "      spin 1s steps(1) infinite;\n",
              "  }\n",
              "\n",
              "  @keyframes spin {\n",
              "    0% {\n",
              "      border-color: transparent;\n",
              "      border-bottom-color: var(--fill-color);\n",
              "      border-left-color: var(--fill-color);\n",
              "    }\n",
              "    20% {\n",
              "      border-color: transparent;\n",
              "      border-left-color: var(--fill-color);\n",
              "      border-top-color: var(--fill-color);\n",
              "    }\n",
              "    30% {\n",
              "      border-color: transparent;\n",
              "      border-left-color: var(--fill-color);\n",
              "      border-top-color: var(--fill-color);\n",
              "      border-right-color: var(--fill-color);\n",
              "    }\n",
              "    40% {\n",
              "      border-color: transparent;\n",
              "      border-right-color: var(--fill-color);\n",
              "      border-top-color: var(--fill-color);\n",
              "    }\n",
              "    60% {\n",
              "      border-color: transparent;\n",
              "      border-right-color: var(--fill-color);\n",
              "    }\n",
              "    80% {\n",
              "      border-color: transparent;\n",
              "      border-right-color: var(--fill-color);\n",
              "      border-bottom-color: var(--fill-color);\n",
              "    }\n",
              "    90% {\n",
              "      border-color: transparent;\n",
              "      border-bottom-color: var(--fill-color);\n",
              "    }\n",
              "  }\n",
              "</style>\n",
              "\n",
              "  <script>\n",
              "    async function quickchart(key) {\n",
              "      const quickchartButtonEl =\n",
              "        document.querySelector('#' + key + ' button');\n",
              "      quickchartButtonEl.disabled = true;  // To prevent multiple clicks.\n",
              "      quickchartButtonEl.classList.add('colab-df-spinner');\n",
              "      try {\n",
              "        const charts = await google.colab.kernel.invokeFunction(\n",
              "            'suggestCharts', [key], {});\n",
              "      } catch (error) {\n",
              "        console.error('Error during call to suggestCharts:', error);\n",
              "      }\n",
              "      quickchartButtonEl.classList.remove('colab-df-spinner');\n",
              "      quickchartButtonEl.classList.add('colab-df-quickchart-complete');\n",
              "    }\n",
              "    (() => {\n",
              "      let quickchartButtonEl =\n",
              "        document.querySelector('#df-5b96b2a8-7b63-4cc2-a096-efdfaeab4d1b button');\n",
              "      quickchartButtonEl.style.display =\n",
              "        google.colab.kernel.accessAllowed ? 'block' : 'none';\n",
              "    })();\n",
              "  </script>\n",
              "</div>\n",
              "    </div>\n",
              "  </div>\n"
            ]
          },
          "metadata": {},
          "execution_count": 26
        }
      ],
      "source": [
        "produto_por_regiao = round(df1.groupby(['regiao-BR','pandemia_identificador'])['produto'].value_counts(ascending=False),2).reset_index(name='quantidade')\n",
        "produto_por_regiao"
      ]
    },
    {
      "cell_type": "code",
      "execution_count": null,
      "metadata": {
        "colab": {
          "base_uri": "https://localhost:8080/",
          "height": 582
        },
        "id": "FRHOCqy04vNc",
        "outputId": "b8d6deae-58de-4617-b09a-3b8a515a1e47"
      },
      "outputs": [
        {
          "output_type": "execute_result",
          "data": {
            "text/plain": [
              "pandemia_identificador    Quantidade Pré-Pandemia  Quantidade Pós-Pandemia\n",
              "regiao-BR    produto                                                      \n",
              "Centro-Oeste antissinais                      1.0                      8.0\n",
              "             base                             3.0                      0.0\n",
              "             desodorante                      5.0                      0.0\n",
              "             perfume                          4.0                      0.0\n",
              "             sombra                           4.0                      0.0\n",
              "Nordeste     antissinais                      0.0                      3.0\n",
              "             base                             0.0                      4.0\n",
              "             batom                           11.0                      0.0\n",
              "             desodorante                     15.0                      1.0\n",
              "             perfume                          0.0                      8.0\n",
              "             sombra                           0.0                      9.0\n",
              "Norte        antissinais                      8.0                      9.0\n",
              "Sudeste      batom                           21.0                     14.0\n",
              "             desodorante                      0.0                      4.0\n",
              "Sul          batom                           29.0                      1.0\n",
              "             desodorante                      0.0                     41.0"
            ],
            "text/html": [
              "\n",
              "  <div id=\"df-e95315cb-902a-4a77-9aa7-212264c51109\" class=\"colab-df-container\">\n",
              "    <div>\n",
              "<style scoped>\n",
              "    .dataframe tbody tr th:only-of-type {\n",
              "        vertical-align: middle;\n",
              "    }\n",
              "\n",
              "    .dataframe tbody tr th {\n",
              "        vertical-align: top;\n",
              "    }\n",
              "\n",
              "    .dataframe thead th {\n",
              "        text-align: right;\n",
              "    }\n",
              "</style>\n",
              "<table border=\"1\" class=\"dataframe\">\n",
              "  <thead>\n",
              "    <tr style=\"text-align: right;\">\n",
              "      <th></th>\n",
              "      <th>pandemia_identificador</th>\n",
              "      <th>Quantidade Pré-Pandemia</th>\n",
              "      <th>Quantidade Pós-Pandemia</th>\n",
              "    </tr>\n",
              "    <tr>\n",
              "      <th>regiao-BR</th>\n",
              "      <th>produto</th>\n",
              "      <th></th>\n",
              "      <th></th>\n",
              "    </tr>\n",
              "  </thead>\n",
              "  <tbody>\n",
              "    <tr>\n",
              "      <th rowspan=\"5\" valign=\"top\">Centro-Oeste</th>\n",
              "      <th>antissinais</th>\n",
              "      <td>1.0</td>\n",
              "      <td>8.0</td>\n",
              "    </tr>\n",
              "    <tr>\n",
              "      <th>base</th>\n",
              "      <td>3.0</td>\n",
              "      <td>0.0</td>\n",
              "    </tr>\n",
              "    <tr>\n",
              "      <th>desodorante</th>\n",
              "      <td>5.0</td>\n",
              "      <td>0.0</td>\n",
              "    </tr>\n",
              "    <tr>\n",
              "      <th>perfume</th>\n",
              "      <td>4.0</td>\n",
              "      <td>0.0</td>\n",
              "    </tr>\n",
              "    <tr>\n",
              "      <th>sombra</th>\n",
              "      <td>4.0</td>\n",
              "      <td>0.0</td>\n",
              "    </tr>\n",
              "    <tr>\n",
              "      <th rowspan=\"6\" valign=\"top\">Nordeste</th>\n",
              "      <th>antissinais</th>\n",
              "      <td>0.0</td>\n",
              "      <td>3.0</td>\n",
              "    </tr>\n",
              "    <tr>\n",
              "      <th>base</th>\n",
              "      <td>0.0</td>\n",
              "      <td>4.0</td>\n",
              "    </tr>\n",
              "    <tr>\n",
              "      <th>batom</th>\n",
              "      <td>11.0</td>\n",
              "      <td>0.0</td>\n",
              "    </tr>\n",
              "    <tr>\n",
              "      <th>desodorante</th>\n",
              "      <td>15.0</td>\n",
              "      <td>1.0</td>\n",
              "    </tr>\n",
              "    <tr>\n",
              "      <th>perfume</th>\n",
              "      <td>0.0</td>\n",
              "      <td>8.0</td>\n",
              "    </tr>\n",
              "    <tr>\n",
              "      <th>sombra</th>\n",
              "      <td>0.0</td>\n",
              "      <td>9.0</td>\n",
              "    </tr>\n",
              "    <tr>\n",
              "      <th>Norte</th>\n",
              "      <th>antissinais</th>\n",
              "      <td>8.0</td>\n",
              "      <td>9.0</td>\n",
              "    </tr>\n",
              "    <tr>\n",
              "      <th rowspan=\"2\" valign=\"top\">Sudeste</th>\n",
              "      <th>batom</th>\n",
              "      <td>21.0</td>\n",
              "      <td>14.0</td>\n",
              "    </tr>\n",
              "    <tr>\n",
              "      <th>desodorante</th>\n",
              "      <td>0.0</td>\n",
              "      <td>4.0</td>\n",
              "    </tr>\n",
              "    <tr>\n",
              "      <th rowspan=\"2\" valign=\"top\">Sul</th>\n",
              "      <th>batom</th>\n",
              "      <td>29.0</td>\n",
              "      <td>1.0</td>\n",
              "    </tr>\n",
              "    <tr>\n",
              "      <th>desodorante</th>\n",
              "      <td>0.0</td>\n",
              "      <td>41.0</td>\n",
              "    </tr>\n",
              "  </tbody>\n",
              "</table>\n",
              "</div>\n",
              "    <div class=\"colab-df-buttons\">\n",
              "\n",
              "  <div class=\"colab-df-container\">\n",
              "    <button class=\"colab-df-convert\" onclick=\"convertToInteractive('df-e95315cb-902a-4a77-9aa7-212264c51109')\"\n",
              "            title=\"Convert this dataframe to an interactive table.\"\n",
              "            style=\"display:none;\">\n",
              "\n",
              "  <svg xmlns=\"http://www.w3.org/2000/svg\" height=\"24px\" viewBox=\"0 -960 960 960\">\n",
              "    <path d=\"M120-120v-720h720v720H120Zm60-500h600v-160H180v160Zm220 220h160v-160H400v160Zm0 220h160v-160H400v160ZM180-400h160v-160H180v160Zm440 0h160v-160H620v160ZM180-180h160v-160H180v160Zm440 0h160v-160H620v160Z\"/>\n",
              "  </svg>\n",
              "    </button>\n",
              "\n",
              "  <style>\n",
              "    .colab-df-container {\n",
              "      display:flex;\n",
              "      gap: 12px;\n",
              "    }\n",
              "\n",
              "    .colab-df-convert {\n",
              "      background-color: #E8F0FE;\n",
              "      border: none;\n",
              "      border-radius: 50%;\n",
              "      cursor: pointer;\n",
              "      display: none;\n",
              "      fill: #1967D2;\n",
              "      height: 32px;\n",
              "      padding: 0 0 0 0;\n",
              "      width: 32px;\n",
              "    }\n",
              "\n",
              "    .colab-df-convert:hover {\n",
              "      background-color: #E2EBFA;\n",
              "      box-shadow: 0px 1px 2px rgba(60, 64, 67, 0.3), 0px 1px 3px 1px rgba(60, 64, 67, 0.15);\n",
              "      fill: #174EA6;\n",
              "    }\n",
              "\n",
              "    .colab-df-buttons div {\n",
              "      margin-bottom: 4px;\n",
              "    }\n",
              "\n",
              "    [theme=dark] .colab-df-convert {\n",
              "      background-color: #3B4455;\n",
              "      fill: #D2E3FC;\n",
              "    }\n",
              "\n",
              "    [theme=dark] .colab-df-convert:hover {\n",
              "      background-color: #434B5C;\n",
              "      box-shadow: 0px 1px 3px 1px rgba(0, 0, 0, 0.15);\n",
              "      filter: drop-shadow(0px 1px 2px rgba(0, 0, 0, 0.3));\n",
              "      fill: #FFFFFF;\n",
              "    }\n",
              "  </style>\n",
              "\n",
              "    <script>\n",
              "      const buttonEl =\n",
              "        document.querySelector('#df-e95315cb-902a-4a77-9aa7-212264c51109 button.colab-df-convert');\n",
              "      buttonEl.style.display =\n",
              "        google.colab.kernel.accessAllowed ? 'block' : 'none';\n",
              "\n",
              "      async function convertToInteractive(key) {\n",
              "        const element = document.querySelector('#df-e95315cb-902a-4a77-9aa7-212264c51109');\n",
              "        const dataTable =\n",
              "          await google.colab.kernel.invokeFunction('convertToInteractive',\n",
              "                                                    [key], {});\n",
              "        if (!dataTable) return;\n",
              "\n",
              "        const docLinkHtml = 'Like what you see? Visit the ' +\n",
              "          '<a target=\"_blank\" href=https://colab.research.google.com/notebooks/data_table.ipynb>data table notebook</a>'\n",
              "          + ' to learn more about interactive tables.';\n",
              "        element.innerHTML = '';\n",
              "        dataTable['output_type'] = 'display_data';\n",
              "        await google.colab.output.renderOutput(dataTable, element);\n",
              "        const docLink = document.createElement('div');\n",
              "        docLink.innerHTML = docLinkHtml;\n",
              "        element.appendChild(docLink);\n",
              "      }\n",
              "    </script>\n",
              "  </div>\n",
              "\n",
              "\n",
              "<div id=\"df-a22b6d24-e183-4655-9f93-0f0b34c07cdb\">\n",
              "  <button class=\"colab-df-quickchart\" onclick=\"quickchart('df-a22b6d24-e183-4655-9f93-0f0b34c07cdb')\"\n",
              "            title=\"Suggest charts.\"\n",
              "            style=\"display:none;\">\n",
              "\n",
              "<svg xmlns=\"http://www.w3.org/2000/svg\" height=\"24px\"viewBox=\"0 0 24 24\"\n",
              "     width=\"24px\">\n",
              "    <g>\n",
              "        <path d=\"M19 3H5c-1.1 0-2 .9-2 2v14c0 1.1.9 2 2 2h14c1.1 0 2-.9 2-2V5c0-1.1-.9-2-2-2zM9 17H7v-7h2v7zm4 0h-2V7h2v10zm4 0h-2v-4h2v4z\"/>\n",
              "    </g>\n",
              "</svg>\n",
              "  </button>\n",
              "\n",
              "<style>\n",
              "  .colab-df-quickchart {\n",
              "      --bg-color: #E8F0FE;\n",
              "      --fill-color: #1967D2;\n",
              "      --hover-bg-color: #E2EBFA;\n",
              "      --hover-fill-color: #174EA6;\n",
              "      --disabled-fill-color: #AAA;\n",
              "      --disabled-bg-color: #DDD;\n",
              "  }\n",
              "\n",
              "  [theme=dark] .colab-df-quickchart {\n",
              "      --bg-color: #3B4455;\n",
              "      --fill-color: #D2E3FC;\n",
              "      --hover-bg-color: #434B5C;\n",
              "      --hover-fill-color: #FFFFFF;\n",
              "      --disabled-bg-color: #3B4455;\n",
              "      --disabled-fill-color: #666;\n",
              "  }\n",
              "\n",
              "  .colab-df-quickchart {\n",
              "    background-color: var(--bg-color);\n",
              "    border: none;\n",
              "    border-radius: 50%;\n",
              "    cursor: pointer;\n",
              "    display: none;\n",
              "    fill: var(--fill-color);\n",
              "    height: 32px;\n",
              "    padding: 0;\n",
              "    width: 32px;\n",
              "  }\n",
              "\n",
              "  .colab-df-quickchart:hover {\n",
              "    background-color: var(--hover-bg-color);\n",
              "    box-shadow: 0 1px 2px rgba(60, 64, 67, 0.3), 0 1px 3px 1px rgba(60, 64, 67, 0.15);\n",
              "    fill: var(--button-hover-fill-color);\n",
              "  }\n",
              "\n",
              "  .colab-df-quickchart-complete:disabled,\n",
              "  .colab-df-quickchart-complete:disabled:hover {\n",
              "    background-color: var(--disabled-bg-color);\n",
              "    fill: var(--disabled-fill-color);\n",
              "    box-shadow: none;\n",
              "  }\n",
              "\n",
              "  .colab-df-spinner {\n",
              "    border: 2px solid var(--fill-color);\n",
              "    border-color: transparent;\n",
              "    border-bottom-color: var(--fill-color);\n",
              "    animation:\n",
              "      spin 1s steps(1) infinite;\n",
              "  }\n",
              "\n",
              "  @keyframes spin {\n",
              "    0% {\n",
              "      border-color: transparent;\n",
              "      border-bottom-color: var(--fill-color);\n",
              "      border-left-color: var(--fill-color);\n",
              "    }\n",
              "    20% {\n",
              "      border-color: transparent;\n",
              "      border-left-color: var(--fill-color);\n",
              "      border-top-color: var(--fill-color);\n",
              "    }\n",
              "    30% {\n",
              "      border-color: transparent;\n",
              "      border-left-color: var(--fill-color);\n",
              "      border-top-color: var(--fill-color);\n",
              "      border-right-color: var(--fill-color);\n",
              "    }\n",
              "    40% {\n",
              "      border-color: transparent;\n",
              "      border-right-color: var(--fill-color);\n",
              "      border-top-color: var(--fill-color);\n",
              "    }\n",
              "    60% {\n",
              "      border-color: transparent;\n",
              "      border-right-color: var(--fill-color);\n",
              "    }\n",
              "    80% {\n",
              "      border-color: transparent;\n",
              "      border-right-color: var(--fill-color);\n",
              "      border-bottom-color: var(--fill-color);\n",
              "    }\n",
              "    90% {\n",
              "      border-color: transparent;\n",
              "      border-bottom-color: var(--fill-color);\n",
              "    }\n",
              "  }\n",
              "</style>\n",
              "\n",
              "  <script>\n",
              "    async function quickchart(key) {\n",
              "      const quickchartButtonEl =\n",
              "        document.querySelector('#' + key + ' button');\n",
              "      quickchartButtonEl.disabled = true;  // To prevent multiple clicks.\n",
              "      quickchartButtonEl.classList.add('colab-df-spinner');\n",
              "      try {\n",
              "        const charts = await google.colab.kernel.invokeFunction(\n",
              "            'suggestCharts', [key], {});\n",
              "      } catch (error) {\n",
              "        console.error('Error during call to suggestCharts:', error);\n",
              "      }\n",
              "      quickchartButtonEl.classList.remove('colab-df-spinner');\n",
              "      quickchartButtonEl.classList.add('colab-df-quickchart-complete');\n",
              "    }\n",
              "    (() => {\n",
              "      let quickchartButtonEl =\n",
              "        document.querySelector('#df-a22b6d24-e183-4655-9f93-0f0b34c07cdb button');\n",
              "      quickchartButtonEl.style.display =\n",
              "        google.colab.kernel.accessAllowed ? 'block' : 'none';\n",
              "    })();\n",
              "  </script>\n",
              "</div>\n",
              "    </div>\n",
              "  </div>\n"
            ]
          },
          "metadata": {},
          "execution_count": 27
        }
      ],
      "source": [
        "tabela_regiao = produto_por_regiao.set_index(['regiao-BR', 'produto', 'pandemia_identificador'])['quantidade'].unstack().fillna(0) #unstack é utilizado para desempilhar os dados, transformando-os em um formato de tabela.\n",
        "tabela_regiao.rename(columns={'pré': 'Quantidade Pré-Pandemia', 'pós': 'Quantidade Pós-Pandemia'}, inplace=True)\n",
        "tabela_regiao"
      ]
    },
    {
      "cell_type": "code",
      "execution_count": null,
      "metadata": {
        "id": "qdrOsX295rJz"
      },
      "outputs": [],
      "source": [
        "pre_pandemia_prod = produto_por_regiao[produto_por_regiao['pandemia_identificador'] == 'pré']\n",
        "pos_pandemia_prod = produto_por_regiao[produto_por_regiao['pandemia_identificador'] == 'pós']"
      ]
    },
    {
      "cell_type": "code",
      "execution_count": null,
      "metadata": {
        "colab": {
          "base_uri": "https://localhost:8080/",
          "height": 501
        },
        "id": "Zw7Z0aZLwWvE",
        "outputId": "363db253-1ac6-4fe9-b594-b5d34ed4d628"
      },
      "outputs": [
        {
          "output_type": "display_data",
          "data": {
            "text/plain": [
              "<Figure size 1200x500 with 2 Axes>"
            ],
            "image/png": "[encoded data removed]"
          },
          "metadata": {}
        }
      ],
      "source": [
        "fig, axs = plt.subplots(nrows=1, ncols=2, figsize=(12, 5))\n",
        "\n",
        "# Gráfico para pré-pandemia\n",
        "sns.barplot(\n",
        "    x='produto',\n",
        "    y='quantidade',\n",
        "    hue='regiao-BR',\n",
        "    data=pre_pandemia_prod,\n",
        "    ax=axs[0]  # Especifica o primeiro subplot\n",
        ")\n",
        "axs[0].set_xlabel('Tipo de Produto')\n",
        "axs[0].set_ylabel('Quantidade de Produtos')\n",
        "axs[0].set_title('Pré-Pandemia')\n",
        "axs[0].legend(title='Região do Brasil', bbox_to_anchor=(1.05, 1), loc='upper left')\n",
        "axs[0].grid(True)\n",
        "axs[0].tick_params(axis='x', rotation=45)\n",
        "\n",
        "# Gráfico para pós-pandemia\n",
        "sns.barplot(\n",
        "    x='produto',\n",
        "    y='quantidade',\n",
        "    hue='regiao-BR',\n",
        "    data=pos_pandemia_prod,\n",
        "    ax=axs[1]  # Especifica o segundo subplot\n",
        ")\n",
        "axs[1].set_xlabel('Tipo de Produto')\n",
        "axs[1].set_ylabel('Quantidade de Produtos')\n",
        "axs[1].set_title('Pós-Pandemia')\n",
        "axs[1].legend(title='Região do Brasil', bbox_to_anchor=(1.05, 1), loc='upper left')\n",
        "axs[1].grid(True)\n",
        "axs[1].tick_params(axis='x', rotation=45)\n",
        "\n",
        "\n",
        "plt.tight_layout()\n",
        "plt.show()"
      ]
    },
    {
      "cell_type": "markdown",
      "source": [
        "Ao comparar a quantidade de produtos vendidos por tipo de produto e por região, podemos verificar algumas mudanças.\n",
        "Para a Região Centro-oeste, a diversidade de produtos comprados era maior na pré-pandemia. No pós-pandemia, nota-se a aquisição de antissinais.\n",
        "No Nordeste, ocorre maior variedade dos produtos consumidos no pós-pandemia.\n",
        "No Norte, nota-se apenas que o consumo de antissinais aumentou.\n",
        "No Sudeste, nota-se a redução da quantidade de batom vendido e o aumento da quantidade de desodorante.\n",
        "No sul, também ocorre a redução da quantidade de batom vendido no pós-pandemia e um grande aumento da quantidade de desodorante vencido.  "
      ],
      "metadata": {
        "id": "hFub2mpEB_7a"
      }
    },
    {
      "cell_type": "markdown",
      "metadata": {
        "id": "PlSyAa7U6CY6"
      },
      "source": [
        "2. Você notou diferenças nítidas pré e pós pandemia? Como você poderia\n",
        "provar estatisticamente que essas diferenças são significativas ? (pergunta\n",
        "extra)"
      ]
    },
    {
      "cell_type": "markdown",
      "metadata": {
        "id": "BRXJR6rLWfQ8"
      },
      "source": [
        "Conforme dados do exercício anterior é possível notar diferenças nítidas no pré e pós pandemia. Para provar essas diferenças primeiramente fizemos uma análise das médias e desvio padrão dos dados de idade e renda pré e pós pandemia."
      ]
    },
    {
      "cell_type": "code",
      "execution_count": null,
      "metadata": {
        "colab": {
          "base_uri": "https://localhost:8080/"
        },
        "id": "TX3fvnnPjCNC",
        "outputId": "aa31d128-3ef0-4cdf-aec8-b02fa26f5da9"
      },
      "outputs": [
        {
          "output_type": "execute_result",
          "data": {
            "text/plain": [
              "39.881188118811885"
            ]
          },
          "metadata": {},
          "execution_count": 30
        }
      ],
      "source": [
        "# Calculando as médias e os desvios padrão ponderados para ambos ambos os periodos e por grupos idade e renda\n",
        "media_idade_pre = df1[df1['periodo'] == 1]['idade'].mean()\n",
        "media_idade_pre"
      ]
    },
    {
      "cell_type": "code",
      "execution_count": null,
      "metadata": {
        "colab": {
          "base_uri": "https://localhost:8080/"
        },
        "id": "Dxc611Sior61",
        "outputId": "55332971-2c52-4965-faca-ce57ffaefb76"
      },
      "outputs": [
        {
          "output_type": "execute_result",
          "data": {
            "text/plain": [
              "44.90196078431372"
            ]
          },
          "metadata": {},
          "execution_count": 31
        }
      ],
      "source": [
        "media_idade_pos = df1[df1['periodo'] == 0]['idade'].mean()\n",
        "media_idade_pos"
      ]
    },
    {
      "cell_type": "code",
      "execution_count": null,
      "metadata": {
        "colab": {
          "base_uri": "https://localhost:8080/"
        },
        "id": "Kdss39OjSqEw",
        "outputId": "b97d1113-b7c1-4317-e42f-09318587e5c0"
      },
      "outputs": [
        {
          "output_type": "execute_result",
          "data": {
            "text/plain": [
              "15.016182689826913"
            ]
          },
          "metadata": {},
          "execution_count": 32
        }
      ],
      "source": [
        "desvio_idade_pre = df1[df1['periodo'] == 1]['idade'].std()\n",
        "desvio_idade_pre"
      ]
    },
    {
      "cell_type": "code",
      "execution_count": null,
      "metadata": {
        "colab": {
          "base_uri": "https://localhost:8080/"
        },
        "id": "RaGOr6PeSv46",
        "outputId": "923fd1f6-7c9b-45b2-e292-5a7b32f91b78"
      },
      "outputs": [
        {
          "output_type": "execute_result",
          "data": {
            "text/plain": [
              "13.37317383030209"
            ]
          },
          "metadata": {},
          "execution_count": 33
        }
      ],
      "source": [
        "desvio_idade_pos = df1[df1['periodo'] == 0]['idade'].std()\n",
        "desvio_idade_pos"
      ]
    },
    {
      "cell_type": "code",
      "execution_count": null,
      "metadata": {
        "id": "JJgXbFI3T_kG"
      },
      "outputs": [],
      "source": [
        "#calculando o tamnho da amostra de pré e pós pandemia\n",
        "tamanho_pre = 101\n",
        "tamanho_pos = 102"
      ]
    },
    {
      "cell_type": "markdown",
      "source": [
        "Adotamos o nível de significância de 5% e calculamos o valor z usando o nível de significância e a distribuição normal padrão."
      ],
      "metadata": {
        "id": "d6UvWpXwj6xE"
      }
    },
    {
      "cell_type": "code",
      "execution_count": null,
      "metadata": {
        "id": "Xr9DzF8RVNIc"
      },
      "outputs": [],
      "source": [
        "import scipy.stats as stats"
      ]
    },
    {
      "cell_type": "code",
      "source": [
        "significancia = 0.05\n",
        "confianca = 1 - significancia\n",
        "z = norm.ppf(0.975)\n",
        "z"
      ],
      "metadata": {
        "colab": {
          "base_uri": "https://localhost:8080/"
        },
        "id": "aACvt94JIQmQ",
        "outputId": "fea7285f-cbb7-486a-8d26-14ea75d80332"
      },
      "execution_count": null,
      "outputs": [
        {
          "output_type": "execute_result",
          "data": {
            "text/plain": [
              "1.959963984540054"
            ]
          },
          "metadata": {},
          "execution_count": 36
        }
      ]
    },
    {
      "cell_type": "markdown",
      "source": [
        "Primeiramente, assumimos que os desvios padrão populacionais são os mesmos em cada grupo, $\\sigma_1=\\sigma_2=\\sigma$."
      ],
      "metadata": {
        "id": "gjpTKTXBp5vY"
      }
    },
    {
      "cell_type": "code",
      "source": [
        "#Calculamos o desvio combinado das amostras\n",
        "desvio_combinado = np.sqrt(((tamanho_pre - 1)*desvio_idade_pre**2 + (tamanho_pos - 1)*desvio_idade_pos**2)/(tamanho_pre + tamanho_pos - 2))\n",
        "desvio_combinado"
      ],
      "metadata": {
        "colab": {
          "base_uri": "https://localhost:8080/"
        },
        "id": "i-lBdTFztydP",
        "outputId": "843577eb-a043-427e-b65f-4dd1fbef89c6"
      },
      "execution_count": null,
      "outputs": [
        {
          "output_type": "execute_result",
          "data": {
            "text/plain": [
              "14.214349463587123"
            ]
          },
          "metadata": {},
          "execution_count": 37
        }
      ]
    },
    {
      "cell_type": "code",
      "source": [
        "#Calculamos o erro padrão das diferenças das médias.\n",
        "erro_padrao = desvio_combinado * np.sqrt((1/tamanho_pre)+(1/tamanho_pos))\n",
        "erro_padrao"
      ],
      "metadata": {
        "colab": {
          "base_uri": "https://localhost:8080/"
        },
        "id": "b_BEo-1XqM72",
        "outputId": "ba70499e-c54a-46a2-bfb5-1d172cb4c3ae"
      },
      "execution_count": null,
      "outputs": [
        {
          "output_type": "execute_result",
          "data": {
            "text/plain": [
              "1.9953277138248855"
            ]
          },
          "metadata": {},
          "execution_count": 38
        }
      ]
    },
    {
      "cell_type": "markdown",
      "source": [
        "Fizemos também um teste assumindo desvios diferentes. O resultado foi parecido."
      ],
      "metadata": {
        "id": "KFk11K_ougdg"
      }
    },
    {
      "cell_type": "code",
      "execution_count": null,
      "metadata": {
        "colab": {
          "base_uri": "https://localhost:8080/"
        },
        "id": "Zi86QCS-TrcO",
        "outputId": "a4d70dbb-bda4-49a2-805d-f6d8c4029156"
      },
      "outputs": [
        {
          "output_type": "execute_result",
          "data": {
            "text/plain": [
              "1.9964675986096871"
            ]
          },
          "metadata": {},
          "execution_count": 39
        }
      ],
      "source": [
        "erro_padrao2 = np.sqrt((desvio_idade_pre**2 / tamanho_pre) + (desvio_idade_pos**2 / tamanho_pos))\n",
        "erro_padrao2"
      ]
    },
    {
      "cell_type": "markdown",
      "source": [
        "Calculamos então os limites inferior e superior com o erro calculado"
      ],
      "metadata": {
        "id": "dRqQMAqIvMGw"
      }
    },
    {
      "cell_type": "code",
      "source": [
        "limite_inferior = (media_idade_pos - media_idade_pre) - z * erro_padrao\n",
        "limite_inferior"
      ],
      "metadata": {
        "colab": {
          "base_uri": "https://localhost:8080/"
        },
        "id": "vd6mbCIrHpbE",
        "outputId": "1e94f1aa-bc75-4209-e0a5-31541cb6f6f3"
      },
      "execution_count": null,
      "outputs": [
        {
          "output_type": "execute_result",
          "data": {
            "text/plain": [
              "1.1100022090504185"
            ]
          },
          "metadata": {},
          "execution_count": 40
        }
      ]
    },
    {
      "cell_type": "code",
      "source": [
        "limite_superior = (media_idade_pos - media_idade_pre) + z * erro_padrao\n",
        "limite_superior"
      ],
      "metadata": {
        "colab": {
          "base_uri": "https://localhost:8080/"
        },
        "id": "m9iHXM1mJ0tL",
        "outputId": "68e82c10-f614-456b-83c2-f277c48ca091"
      },
      "execution_count": null,
      "outputs": [
        {
          "output_type": "execute_result",
          "data": {
            "text/plain": [
              "8.931543121953258"
            ]
          },
          "metadata": {},
          "execution_count": 41
        }
      ]
    },
    {
      "cell_type": "code",
      "source": [
        "intervalo = (\n",
        "    (media_idade_pos - media_idade_pre) - z * erro_padrao,\n",
        "    (media_idade_pos - media_idade_pre) + z * erro_padrao\n",
        ")\n",
        "intervalo"
      ],
      "metadata": {
        "id": "yDifG4nPy4jj",
        "colab": {
          "base_uri": "https://localhost:8080/"
        },
        "outputId": "ac41f0d4-c7e4-41e6-cd02-cd990db1ff3a"
      },
      "execution_count": null,
      "outputs": [
        {
          "output_type": "execute_result",
          "data": {
            "text/plain": [
              "(1.1100022090504185, 8.931543121953258)"
            ]
          },
          "metadata": {},
          "execution_count": 42
        }
      ]
    },
    {
      "cell_type": "markdown",
      "source": [
        "Como o intervalo de confiança não está próximo de zero, podemos concluir que as médias de idade são estatisticamente diferentes com um nível de confiança de 95%. Além disso, a diferença é positiva, o que indica que a média de idade no grupo pré pandemia é menor do que no grupo pós pandemia."
      ],
      "metadata": {
        "id": "6kB7DjaiNMDM"
      }
    },
    {
      "cell_type": "markdown",
      "metadata": {
        "id": "Fi7b0yz-jNdU"
      },
      "source": [
        "3. Suponha agora que os dados recebidos são somente uma amostra da sua\n",
        "população total de clientes. Suponha que a sua \"população\" de clientes\n",
        "verdadeira é de 100000. Qual o tamanho da amostra necessária para\n",
        "chegarmos a conclusões com 95% de confiança e 2% de margem de erro? A\n",
        "base informada é suficiente? E com uma margem de erro de 10%?"
      ]
    },
    {
      "cell_type": "code",
      "execution_count": null,
      "metadata": {
        "id": "bMTvAlG-jRr_"
      },
      "outputs": [],
      "source": [
        "from scipy.stats import norm\n",
        "import math"
      ]
    },
    {
      "cell_type": "code",
      "execution_count": null,
      "metadata": {
        "colab": {
          "base_uri": "https://localhost:8080/"
        },
        "id": "9nkLoE-GjUaT",
        "outputId": "145e5127-07be-4ce1-8e14-977240ddbdb7"
      },
      "outputs": [
        {
          "output_type": "stream",
          "name": "stdout",
          "text": [
            "N = 100000 (Tamanho da população)\n",
            "Z = 1.959963984540054 (Valor crítico)\n",
            "sigma = 1.9953277138248855 (Estimativa da característica)\n",
            "e = 0.02 (Margem de erro)\n"
          ]
        }
      ],
      "source": [
        "#Organizando os dados\n",
        "N = 100000\n",
        "Z = norm.ppf((0.5 + (0.95 / 2)))\n",
        "sigma = erro_padrao\n",
        "e = 0.02\n",
        "print((\n",
        "    f'N = {N} (Tamanho da população)\\n'\n",
        "    f'Z = {Z} (Valor crítico)\\n'\n",
        "    f'sigma = {sigma} (Estimativa da característica)\\n'\n",
        "    f'e = {e} (Margem de erro)'\n",
        "))"
      ]
    },
    {
      "cell_type": "code",
      "execution_count": null,
      "metadata": {
        "colab": {
          "base_uri": "https://localhost:8080/"
        },
        "id": "XCq9Zm_OjXwh",
        "outputId": "cfb61739-ddef-4e96-ff51-cb97bc869ab6"
      },
      "outputs": [
        {
          "output_type": "stream",
          "name": "stdout",
          "text": [
            "Tamanho da amostra necessário: 27660\n"
          ]
        }
      ],
      "source": [
        "#Cálculo do tamanho da amostra necessária para conclusão de 95% de confiança e 2% de margem de erro\n",
        "n = math.ceil(((Z**2)*(sigma**2)*N) /((Z**2)*(sigma**2)+(e**2)*(N-1)))\n",
        "print(f\"Tamanho da amostra necessário: {n}\")"
      ]
    },
    {
      "cell_type": "markdown",
      "metadata": {
        "id": "AJCYIVJ0jv0m"
      },
      "source": [
        "A base informada é suficiente?\n",
        "\n",
        "R: O tamanho não é suficiente, visto que seria necessário uma amostra de 27660 considerando 95% de confiança e 2% de margem de erro."
      ]
    },
    {
      "cell_type": "markdown",
      "metadata": {
        "id": "BefO7P0Tj1GI"
      },
      "source": [
        "E com uma margem de erro de 10%?"
      ]
    },
    {
      "cell_type": "code",
      "execution_count": null,
      "metadata": {
        "colab": {
          "base_uri": "https://localhost:8080/"
        },
        "id": "kviFfVKUj4p-",
        "outputId": "36708f9b-4799-4e78-960d-97b497a0bad9"
      },
      "outputs": [
        {
          "output_type": "stream",
          "name": "stdout",
          "text": [
            "Tamanho da amostra necessário: 1507\n"
          ]
        }
      ],
      "source": [
        "# Valores conhecidos\n",
        "nível_confiança = 0.95  # 95% de confiança\n",
        "margem_erro = 0.1  # 10% de margem de erro\n",
        "proporção_estimada = 0.5  # Estimativa conservadora\n",
        "\n",
        "# Valor crítico para o nível de confiança (95%)\n",
        "z = 1.96  # Para um nível de confiança de 95%\n",
        "\n",
        "# Cálculo do tamanho da amostra necessário\n",
        "n_2 = math.ceil(((Z**2)*(sigma**2)*N) /((Z**2)*(sigma**2)+(margem_erro**2)*(N-1)))\n",
        "n_2\n",
        "print(f\"Tamanho da amostra necessário: {n_2}\")"
      ]
    },
    {
      "cell_type": "markdown",
      "metadata": {
        "id": "hS8RKyUij8-B"
      },
      "source": [
        "Conclusão: O tamanho da amostra de 203 continua não sendo suficiente, visto que seria necessário uma amostra de 1507 considerando 95% de confiança e 10% de margem de erro. Alé disso, com uma margem de 10% ocorrea a redução da amostra e equívocos de tomada de decisão podem ocorrer por conta dessa margem de erro relativamente elevada."
      ]
    },
    {
      "cell_type": "markdown",
      "metadata": {
        "id": "nkyfoaIyynki"
      },
      "source": [
        "### DESAFIO 2"
      ]
    },
    {
      "cell_type": "markdown",
      "metadata": {
        "id": "it8-LgpdyuVI"
      },
      "source": [
        "### Importação e descrição das bibliotecas e pacotes utilizados\n"
      ]
    },
    {
      "cell_type": "code",
      "execution_count": null,
      "metadata": {
        "id": "YMbAPwUXy3yp"
      },
      "outputs": [],
      "source": [
        "# Carregando os dados\n",
        "df= pd.read_csv('/content/desafio_02_estoque-230829-103603.csv')"
      ]
    },
    {
      "cell_type": "code",
      "execution_count": null,
      "metadata": {
        "id": "9rcsWVE6y8iv"
      },
      "outputs": [],
      "source": [
        "#from google.colab import drive\n",
        "#drive.mount('/content/drive')"
      ]
    },
    {
      "cell_type": "markdown",
      "metadata": {
        "id": "RrY_6F61zCiW"
      },
      "source": [
        "1 - Analise os dados das vendas e do lead time. Eles seguem uma distribuição normal? Que características você identificou para chegar a essa conclusão?\n"
      ]
    },
    {
      "cell_type": "code",
      "execution_count": null,
      "metadata": {
        "id": "SiF7oYjkzHPR",
        "colab": {
          "base_uri": "https://localhost:8080/",
          "height": 300
        },
        "outputId": "79cddc50-51ed-4b25-ce41-4ac38abd6ed5"
      },
      "outputs": [
        {
          "output_type": "execute_result",
          "data": {
            "text/plain": [
              "       vendas-iogurte   lead-time\n",
              "count      370.000000  370.000000\n",
              "mean      4999.170270    5.094595\n",
              "std         77.285068    1.578728\n",
              "min       4811.000000    1.000000\n",
              "25%       4947.000000    4.000000\n",
              "50%       4996.000000    5.000000\n",
              "75%       5054.000000    6.000000\n",
              "max       5233.000000    9.000000"
            ],
            "text/html": [
              "\n",
              "  <div id=\"df-bb08f2cd-4024-455d-beb0-269660f85b81\" class=\"colab-df-container\">\n",
              "    <div>\n",
              "<style scoped>\n",
              "    .dataframe tbody tr th:only-of-type {\n",
              "        vertical-align: middle;\n",
              "    }\n",
              "\n",
              "    .dataframe tbody tr th {\n",
              "        vertical-align: top;\n",
              "    }\n",
              "\n",
              "    .dataframe thead th {\n",
              "        text-align: right;\n",
              "    }\n",
              "</style>\n",
              "<table border=\"1\" class=\"dataframe\">\n",
              "  <thead>\n",
              "    <tr style=\"text-align: right;\">\n",
              "      <th></th>\n",
              "      <th>vendas-iogurte</th>\n",
              "      <th>lead-time</th>\n",
              "    </tr>\n",
              "  </thead>\n",
              "  <tbody>\n",
              "    <tr>\n",
              "      <th>count</th>\n",
              "      <td>370.000000</td>\n",
              "      <td>370.000000</td>\n",
              "    </tr>\n",
              "    <tr>\n",
              "      <th>mean</th>\n",
              "      <td>4999.170270</td>\n",
              "      <td>5.094595</td>\n",
              "    </tr>\n",
              "    <tr>\n",
              "      <th>std</th>\n",
              "      <td>77.285068</td>\n",
              "      <td>1.578728</td>\n",
              "    </tr>\n",
              "    <tr>\n",
              "      <th>min</th>\n",
              "      <td>4811.000000</td>\n",
              "      <td>1.000000</td>\n",
              "    </tr>\n",
              "    <tr>\n",
              "      <th>25%</th>\n",
              "      <td>4947.000000</td>\n",
              "      <td>4.000000</td>\n",
              "    </tr>\n",
              "    <tr>\n",
              "      <th>50%</th>\n",
              "      <td>4996.000000</td>\n",
              "      <td>5.000000</td>\n",
              "    </tr>\n",
              "    <tr>\n",
              "      <th>75%</th>\n",
              "      <td>5054.000000</td>\n",
              "      <td>6.000000</td>\n",
              "    </tr>\n",
              "    <tr>\n",
              "      <th>max</th>\n",
              "      <td>5233.000000</td>\n",
              "      <td>9.000000</td>\n",
              "    </tr>\n",
              "  </tbody>\n",
              "</table>\n",
              "</div>\n",
              "    <div class=\"colab-df-buttons\">\n",
              "\n",
              "  <div class=\"colab-df-container\">\n",
              "    <button class=\"colab-df-convert\" onclick=\"convertToInteractive('df-bb08f2cd-4024-455d-beb0-269660f85b81')\"\n",
              "            title=\"Convert this dataframe to an interactive table.\"\n",
              "            style=\"display:none;\">\n",
              "\n",
              "  <svg xmlns=\"http://www.w3.org/2000/svg\" height=\"24px\" viewBox=\"0 -960 960 960\">\n",
              "    <path d=\"M120-120v-720h720v720H120Zm60-500h600v-160H180v160Zm220 220h160v-160H400v160Zm0 220h160v-160H400v160ZM180-400h160v-160H180v160Zm440 0h160v-160H620v160ZM180-180h160v-160H180v160Zm440 0h160v-160H620v160Z\"/>\n",
              "  </svg>\n",
              "    </button>\n",
              "\n",
              "  <style>\n",
              "    .colab-df-container {\n",
              "      display:flex;\n",
              "      gap: 12px;\n",
              "    }\n",
              "\n",
              "    .colab-df-convert {\n",
              "      background-color: #E8F0FE;\n",
              "      border: none;\n",
              "      border-radius: 50%;\n",
              "      cursor: pointer;\n",
              "      display: none;\n",
              "      fill: #1967D2;\n",
              "      height: 32px;\n",
              "      padding: 0 0 0 0;\n",
              "      width: 32px;\n",
              "    }\n",
              "\n",
              "    .colab-df-convert:hover {\n",
              "      background-color: #E2EBFA;\n",
              "      box-shadow: 0px 1px 2px rgba(60, 64, 67, 0.3), 0px 1px 3px 1px rgba(60, 64, 67, 0.15);\n",
              "      fill: #174EA6;\n",
              "    }\n",
              "\n",
              "    .colab-df-buttons div {\n",
              "      margin-bottom: 4px;\n",
              "    }\n",
              "\n",
              "    [theme=dark] .colab-df-convert {\n",
              "      background-color: #3B4455;\n",
              "      fill: #D2E3FC;\n",
              "    }\n",
              "\n",
              "    [theme=dark] .colab-df-convert:hover {\n",
              "      background-color: #434B5C;\n",
              "      box-shadow: 0px 1px 3px 1px rgba(0, 0, 0, 0.15);\n",
              "      filter: drop-shadow(0px 1px 2px rgba(0, 0, 0, 0.3));\n",
              "      fill: #FFFFFF;\n",
              "    }\n",
              "  </style>\n",
              "\n",
              "    <script>\n",
              "      const buttonEl =\n",
              "        document.querySelector('#df-bb08f2cd-4024-455d-beb0-269660f85b81 button.colab-df-convert');\n",
              "      buttonEl.style.display =\n",
              "        google.colab.kernel.accessAllowed ? 'block' : 'none';\n",
              "\n",
              "      async function convertToInteractive(key) {\n",
              "        const element = document.querySelector('#df-bb08f2cd-4024-455d-beb0-269660f85b81');\n",
              "        const dataTable =\n",
              "          await google.colab.kernel.invokeFunction('convertToInteractive',\n",
              "                                                    [key], {});\n",
              "        if (!dataTable) return;\n",
              "\n",
              "        const docLinkHtml = 'Like what you see? Visit the ' +\n",
              "          '<a target=\"_blank\" href=https://colab.research.google.com/notebooks/data_table.ipynb>data table notebook</a>'\n",
              "          + ' to learn more about interactive tables.';\n",
              "        element.innerHTML = '';\n",
              "        dataTable['output_type'] = 'display_data';\n",
              "        await google.colab.output.renderOutput(dataTable, element);\n",
              "        const docLink = document.createElement('div');\n",
              "        docLink.innerHTML = docLinkHtml;\n",
              "        element.appendChild(docLink);\n",
              "      }\n",
              "    </script>\n",
              "  </div>\n",
              "\n",
              "\n",
              "<div id=\"df-7df8be9d-23b9-472d-829e-fdd64430b8f7\">\n",
              "  <button class=\"colab-df-quickchart\" onclick=\"quickchart('df-7df8be9d-23b9-472d-829e-fdd64430b8f7')\"\n",
              "            title=\"Suggest charts.\"\n",
              "            style=\"display:none;\">\n",
              "\n",
              "<svg xmlns=\"http://www.w3.org/2000/svg\" height=\"24px\"viewBox=\"0 0 24 24\"\n",
              "     width=\"24px\">\n",
              "    <g>\n",
              "        <path d=\"M19 3H5c-1.1 0-2 .9-2 2v14c0 1.1.9 2 2 2h14c1.1 0 2-.9 2-2V5c0-1.1-.9-2-2-2zM9 17H7v-7h2v7zm4 0h-2V7h2v10zm4 0h-2v-4h2v4z\"/>\n",
              "    </g>\n",
              "</svg>\n",
              "  </button>\n",
              "\n",
              "<style>\n",
              "  .colab-df-quickchart {\n",
              "      --bg-color: #E8F0FE;\n",
              "      --fill-color: #1967D2;\n",
              "      --hover-bg-color: #E2EBFA;\n",
              "      --hover-fill-color: #174EA6;\n",
              "      --disabled-fill-color: #AAA;\n",
              "      --disabled-bg-color: #DDD;\n",
              "  }\n",
              "\n",
              "  [theme=dark] .colab-df-quickchart {\n",
              "      --bg-color: #3B4455;\n",
              "      --fill-color: #D2E3FC;\n",
              "      --hover-bg-color: #434B5C;\n",
              "      --hover-fill-color: #FFFFFF;\n",
              "      --disabled-bg-color: #3B4455;\n",
              "      --disabled-fill-color: #666;\n",
              "  }\n",
              "\n",
              "  .colab-df-quickchart {\n",
              "    background-color: var(--bg-color);\n",
              "    border: none;\n",
              "    border-radius: 50%;\n",
              "    cursor: pointer;\n",
              "    display: none;\n",
              "    fill: var(--fill-color);\n",
              "    height: 32px;\n",
              "    padding: 0;\n",
              "    width: 32px;\n",
              "  }\n",
              "\n",
              "  .colab-df-quickchart:hover {\n",
              "    background-color: var(--hover-bg-color);\n",
              "    box-shadow: 0 1px 2px rgba(60, 64, 67, 0.3), 0 1px 3px 1px rgba(60, 64, 67, 0.15);\n",
              "    fill: var(--button-hover-fill-color);\n",
              "  }\n",
              "\n",
              "  .colab-df-quickchart-complete:disabled,\n",
              "  .colab-df-quickchart-complete:disabled:hover {\n",
              "    background-color: var(--disabled-bg-color);\n",
              "    fill: var(--disabled-fill-color);\n",
              "    box-shadow: none;\n",
              "  }\n",
              "\n",
              "  .colab-df-spinner {\n",
              "    border: 2px solid var(--fill-color);\n",
              "    border-color: transparent;\n",
              "    border-bottom-color: var(--fill-color);\n",
              "    animation:\n",
              "      spin 1s steps(1) infinite;\n",
              "  }\n",
              "\n",
              "  @keyframes spin {\n",
              "    0% {\n",
              "      border-color: transparent;\n",
              "      border-bottom-color: var(--fill-color);\n",
              "      border-left-color: var(--fill-color);\n",
              "    }\n",
              "    20% {\n",
              "      border-color: transparent;\n",
              "      border-left-color: var(--fill-color);\n",
              "      border-top-color: var(--fill-color);\n",
              "    }\n",
              "    30% {\n",
              "      border-color: transparent;\n",
              "      border-left-color: var(--fill-color);\n",
              "      border-top-color: var(--fill-color);\n",
              "      border-right-color: var(--fill-color);\n",
              "    }\n",
              "    40% {\n",
              "      border-color: transparent;\n",
              "      border-right-color: var(--fill-color);\n",
              "      border-top-color: var(--fill-color);\n",
              "    }\n",
              "    60% {\n",
              "      border-color: transparent;\n",
              "      border-right-color: var(--fill-color);\n",
              "    }\n",
              "    80% {\n",
              "      border-color: transparent;\n",
              "      border-right-color: var(--fill-color);\n",
              "      border-bottom-color: var(--fill-color);\n",
              "    }\n",
              "    90% {\n",
              "      border-color: transparent;\n",
              "      border-bottom-color: var(--fill-color);\n",
              "    }\n",
              "  }\n",
              "</style>\n",
              "\n",
              "  <script>\n",
              "    async function quickchart(key) {\n",
              "      const quickchartButtonEl =\n",
              "        document.querySelector('#' + key + ' button');\n",
              "      quickchartButtonEl.disabled = true;  // To prevent multiple clicks.\n",
              "      quickchartButtonEl.classList.add('colab-df-spinner');\n",
              "      try {\n",
              "        const charts = await google.colab.kernel.invokeFunction(\n",
              "            'suggestCharts', [key], {});\n",
              "      } catch (error) {\n",
              "        console.error('Error during call to suggestCharts:', error);\n",
              "      }\n",
              "      quickchartButtonEl.classList.remove('colab-df-spinner');\n",
              "      quickchartButtonEl.classList.add('colab-df-quickchart-complete');\n",
              "    }\n",
              "    (() => {\n",
              "      let quickchartButtonEl =\n",
              "        document.querySelector('#df-7df8be9d-23b9-472d-829e-fdd64430b8f7 button');\n",
              "      quickchartButtonEl.style.display =\n",
              "        google.colab.kernel.accessAllowed ? 'block' : 'none';\n",
              "    })();\n",
              "  </script>\n",
              "</div>\n",
              "    </div>\n",
              "  </div>\n"
            ]
          },
          "metadata": {},
          "execution_count": 50
        }
      ],
      "source": [
        "# O método describe() é uma função muito útil em análise de dados do Pandas. Ele fornece estatísticas descritivas das colunas numéricas de um DataFrame, permitindo uma rápida visão geral das características desses dados.\n",
        "df.describe()"
      ]
    },
    {
      "cell_type": "code",
      "execution_count": null,
      "metadata": {
        "id": "I3rVnoxUzTHM",
        "colab": {
          "base_uri": "https://localhost:8080/"
        },
        "outputId": "7b6159bc-80e0-4c03-d1c5-32d6263c5cd2"
      },
      "outputs": [
        {
          "output_type": "execute_result",
          "data": {
            "text/plain": [
              "0    5020\n",
              "Name: vendas-iogurte, dtype: int64"
            ]
          },
          "metadata": {},
          "execution_count": 51
        }
      ],
      "source": [
        "# O método .mode() é um método do Pandas que calcula a moda de uma série de dados. A moda é o valor que ocorre com mais frequência em um conjunto de dados, ou seja, que tem a maior contagem de ocorrências. Nesse caso, esta sendo calculado a moda da coluna 'vendas-iogurte' e o retorno do resultado.\n",
        "df['vendas-iogurte'].mode()"
      ]
    },
    {
      "cell_type": "code",
      "execution_count": null,
      "metadata": {
        "id": "7EJ94tZkzVpS",
        "colab": {
          "base_uri": "https://localhost:8080/"
        },
        "outputId": "52a8456d-2e7d-4d16-9447-0ef982762e2c"
      },
      "outputs": [
        {
          "output_type": "execute_result",
          "data": {
            "text/plain": [
              "0    5\n",
              "Name: lead-time, dtype: int64"
            ]
          },
          "metadata": {},
          "execution_count": 52
        }
      ],
      "source": [
        "# Cálculo da moda da coluna 'lead-time' e o retorno do resultado.\n",
        "df['lead-time'].mode()"
      ]
    },
    {
      "cell_type": "markdown",
      "source": [
        "Os dados de vendas (vendas-iogurte) e lead time (lead-time) mostram algumas características que sugerem que eles podem seguir uma distribuição normal. As estatísticas descritivas indicam que a média (mean), mediana (50%) e moda (mode) estão próximas uma da outra, o que é consistente com uma distribuição normal."
      ],
      "metadata": {
        "id": "eCfVXjy4B6h6"
      }
    },
    {
      "cell_type": "markdown",
      "metadata": {
        "id": "1k7NCEigzcUg"
      },
      "source": [
        "**Plotando o histograma das duas colunas para comparar com uma distribuição normal**"
      ]
    },
    {
      "cell_type": "code",
      "execution_count": null,
      "metadata": {
        "id": "frWHlMoSzdHg",
        "colab": {
          "base_uri": "https://localhost:8080/",
          "height": 501
        },
        "outputId": "f9df8535-76ed-47df-beac-a61423291911"
      },
      "outputs": [
        {
          "output_type": "display_data",
          "data": {
            "text/plain": [
              "<Figure size 1200x500 with 2 Axes>"
            ],
            "image/png": "[encoded data removed]"
          },
          "metadata": {}
        }
      ],
      "source": [
        "fig, ax = plt.subplots(1, 2, figsize=(12, 5))\n",
        "\n",
        "# Histograma da coluna Vendas de Iogurte\n",
        "sns.histplot(df['vendas-iogurte'], kde=True, ax=ax[0], edgecolor=None)\n",
        "ax[0].set_title('Histograma de Vendas de Iogurte')\n",
        "\n",
        "# Histograma da coluna Lead Time\n",
        "sns.histplot(df['lead-time'], kde=True, ax=ax[1], edgecolor=None)\n",
        "ax[1].set_title('Histograma de Lead Time')\n",
        "\n",
        "# Ajusta automaticamente o layout das subtramas para evitar sobreposição de elementos, garantindo que a figura seja exibida de forma limpa.\n",
        "plt.tight_layout()\n",
        "plt.show()"
      ]
    },
    {
      "cell_type": "markdown",
      "source": [
        "Os histogramas não apresentam desvios significativos da forma de sino, embora possa haver algumas pequenas variações. A aparência geral dos histogramas sugere uma possível distribuição normal, especialmente quando se considera que os dados são limitados em termos de desvio em relação à média."
      ],
      "metadata": {
        "id": "QKJuw8_sCQX5"
      }
    },
    {
      "cell_type": "code",
      "execution_count": null,
      "metadata": {
        "id": "CpzuUK9FziHp",
        "colab": {
          "base_uri": "https://localhost:8080/"
        },
        "outputId": "4a51aa37-cc9b-4a2c-a6f4-83f9e01a2f40"
      },
      "outputs": [
        {
          "output_type": "stream",
          "name": "stdout",
          "text": [
            "P-value para vendas: 0.3442\n",
            "P-value para lead time: 0.0000\n"
          ]
        }
      ],
      "source": [
        "# Teste de Normalidade (Shapiro-Wilk) - O teste de normalidade de Shapiro-Wilk retorna dois valores: um valor de estatística de teste e um valor de p. Para verificar se os dados seguem uma distribuição normal, você geralmente olha para o valor de p.\n",
        "# Se o valor de p for menor que o seu nível de significância escolhido (por exemplo, 0.05), você rejeita a hipótese nula de que os dados seguem uma distribuição normal. Isso significa que os dados não se encaixam bem em uma distribuição normal.\n",
        "# Se o valor de p for maior que o seu nível de significância, você não pode rejeitar a hipótese nula, o que sugere que os dados podem ser aproximadamente normais.\n",
        "\n",
        "# O p-value para as vendas é 0,3442.\n",
        "# Esse valor de p é maior que um nível de significância comum de 0,05 (ou 5%), então não temos evidências estatísticas para rejeitar a hipótese nula de que a variável \"vendas\" segue uma distribuição normal. Isso sugere que os dados de vendas podem ser aproximadamente normais.\n",
        "# P-value para lead time: 0.0000\n",
        "# Esse valor de p é muito menor que 0,05 (ou 5%), então temos evidências estatísticas para rejeitar a hipótese nula de que a variável \"lead-time\" segue uma distribuição normal. Isso sugere que os dados de lead time não se encaixam bem em uma distribuição normal.\n",
        "\n",
        "_, p_value_vendas = shapiro(df['vendas-iogurte'])\n",
        "_, p_value_lead_time = shapiro(df['lead-time'])\n",
        "\n",
        "print(f'P-value para vendas: {p_value_vendas:.4f}')\n",
        "print(f'P-value para lead time: {p_value_lead_time:.4f}')"
      ]
    },
    {
      "cell_type": "code",
      "execution_count": null,
      "metadata": {
        "id": "_FLiDjY2zlcO",
        "colab": {
          "base_uri": "https://localhost:8080/",
          "height": 514
        },
        "outputId": "c870f5ca-0a99-46b5-ae21-fd23938aac54"
      },
      "outputs": [
        {
          "output_type": "execute_result",
          "data": {
            "text/plain": [
              "Text(0.5, 1.0, 'Gráfico Q-Q para Lead Time')"
            ]
          },
          "metadata": {},
          "execution_count": 55
        },
        {
          "output_type": "display_data",
          "data": {
            "text/plain": [
              "<Figure size 1200x500 with 2 Axes>"
            ],
            "image/png": "[encoded data removed]"
          },
          "metadata": {}
        }
      ],
      "source": [
        "# Gráficos Q-Q - Um gráfico Q-Q (Quantile-Quantile) é uma ferramenta de visualização estatística usada para determinar se um conjunto de dados segue ou se aproxima de uma distribuição de probabilidade específica, geralmente a distribuição normal.\n",
        "# O gráfico Q-Q compara os quantis teóricos esperados de uma distribuição com os quantis observados dos dados reais.\n",
        "# A interpretação dos gráficos Q-Q é que, quanto mais os pontos se aproximam da linha diagonal, mais os dados reais se assemelham à distribuição normal. Se os pontos estiverem fora da linha diagonal, isso sugere desvios da normalidade.\n",
        "\n",
        "fig, axes = plt.subplots(1, 2, figsize=(12, 5))\n",
        "probplot(df['vendas-iogurte'], plot=axes[0])\n",
        "axes[0].set_title('Gráfico Q-Q para Vendas de Iogurte')\n",
        "\n",
        "probplot(df['lead-time'], plot=axes[1])\n",
        "axes[1].set_title('Gráfico Q-Q para Lead Time')"
      ]
    },
    {
      "cell_type": "code",
      "execution_count": null,
      "metadata": {
        "id": "-5FHpGW5zp2b",
        "colab": {
          "base_uri": "https://localhost:8080/",
          "height": 496
        },
        "outputId": "5bd87be4-2f2f-4e9f-862a-7c6e2e2ed63e"
      },
      "outputs": [
        {
          "output_type": "display_data",
          "data": {
            "text/plain": [
              "<Figure size 1200x500 with 2 Axes>"
            ],
            "image/png": "[encoded data removed]"
          },
          "metadata": {}
        }
      ],
      "source": [
        "fig, axes = plt.subplots(1, 2, figsize=(12, 5))\n",
        "sns.boxplot(x=df['vendas-iogurte'], ax=axes[0])\n",
        "axes[0].set_title('Boxplot para Vendas de Iogurte')\n",
        "\n",
        "sns.boxplot(x=df['lead-time'], ax=axes[1])\n",
        "axes[1].set_title('Boxplot para Lead Time')\n",
        "plt.show()"
      ]
    },
    {
      "cell_type": "markdown",
      "metadata": {
        "id": "jVoIXR4Szu2i"
      },
      "source": [
        "### 2 - Calcule, com os dados fornecidos, o estoque de segurança desejado."
      ]
    },
    {
      "cell_type": "markdown",
      "metadata": {
        "id": "96gV2c8Izvnl"
      },
      "source": [
        "a. Os dados seguem uma distribuição normal.\n",
        "\n",
        "b. O time de vendas utiliza para o produto em questão o nível de serviço\n",
        "de 99,87%\n",
        "\n",
        "c. O produto não tem sazonalidade (todos os meses vende valores\n",
        "próximos) e a demanda média passada é uma boa estimativa para a\n",
        "projetada, de acordo com o time de planejamento de demanda."
      ]
    },
    {
      "cell_type": "markdown",
      "metadata": {
        "id": "-9u7RbPz0GDm"
      },
      "source": [
        "![formula.jpg](data:image/jpeg;base64,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)"
      ]
    },
    {
      "cell_type": "markdown",
      "source": [
        "Optamos por não utilizar a fórmula simplificada do Estoque de segurança pois interpretamos que a variabilidade de leadtime de 1 a 9 dias era considerável e a fórmula simplificada é recomendada para baixa variabilidade."
      ],
      "metadata": {
        "id": "JfMhCM2NAG_g"
      }
    },
    {
      "cell_type": "code",
      "execution_count": null,
      "metadata": {
        "id": "t_co9rGV0HKo",
        "colab": {
          "base_uri": "https://localhost:8080/"
        },
        "outputId": "1f8b5a32-5e7f-44a0-bce6-724e1befc2f9"
      },
      "outputs": [
        {
          "output_type": "execute_result",
          "data": {
            "text/plain": [
              "3.011453758499792"
            ]
          },
          "metadata": {},
          "execution_count": 57
        }
      ],
      "source": [
        "# Calculando o Z\n",
        "# Aqui, está usando a função norm.ppf da biblioteca SciPy (assumindo que norm se refere a uma distribuição normal padrão) para calcular o valor de Z associado ao nível de serviço desejado. O valor de Z representa quantos desvios padrão acima da média da distribuição normal você precisa considerar para alcançar o nível de serviço desejado.\n",
        "nivel_servico = 0.9987\n",
        "Z = norm.ppf(nivel_servico)\n",
        "Z"
      ]
    },
    {
      "cell_type": "code",
      "execution_count": null,
      "metadata": {
        "id": "7qTtm67M0NWx",
        "colab": {
          "base_uri": "https://localhost:8080/"
        },
        "outputId": "b68400f5-9f9d-47fa-d7f0-3dc25a609e8f"
      },
      "outputs": [
        {
          "output_type": "stream",
          "name": "stdout",
          "text": [
            "Z = fator de segurança para nível de serviço de 99,87% (3.011)\n",
            "d = demanda média (4999.170)\n",
            "t = lead time médio (5.095)\n",
            "sigma_d = desvio padrão da demanda(77.285)\n",
            "sigma_t = desvio padrão do lead-time(1.579)\n",
            "\n"
          ]
        }
      ],
      "source": [
        "# Organizando os dados necessários para calcular o estoque de segurança\n",
        "d = df['vendas-iogurte'].mean() # Demanda média passada\n",
        "t = df['lead-time'].mean() # Lead time médio\n",
        "sigma_d = df['vendas-iogurte'].std() # Calcula o desvio padrão da demanda do produto de iogurte\n",
        "sigma_t = df['lead-time'].std() # Calcula o desvio padrão do lead time\n",
        "\n",
        "print(\n",
        "    f'Z = fator de segurança para nível de serviço de 99,87% ({Z:.3f})\\n'\n",
        "    f'd = demanda média ({d:.3f})\\n'\n",
        "    f't = lead time médio ({t:.3f})\\n'\n",
        "    f'sigma_d = desvio padrão da demanda({sigma_d:.3f})\\n'\n",
        "    f'sigma_t = desvio padrão do lead-time({sigma_t:.3f})\\n'\n",
        ")"
      ]
    },
    {
      "cell_type": "code",
      "execution_count": null,
      "metadata": {
        "id": "WW9W3rXtz1_O",
        "colab": {
          "base_uri": "https://localhost:8080/"
        },
        "outputId": "ced4d6b5-91a2-428e-9c47-8b3178e5f99c"
      },
      "outputs": [
        {
          "output_type": "execute_result",
          "data": {
            "text/plain": [
              "623.6673894415902"
            ]
          },
          "metadata": {},
          "execution_count": 59
        }
      ],
      "source": [
        "#Aplicando os dados da fórmula fornecida no desafio\n",
        "\n",
        "estoque_seg = Z * np.sqrt(((sigma_d**2) * t) + ((sigma_t**2) * d))\n",
        "estoque_seg"
      ]
    },
    {
      "cell_type": "code",
      "execution_count": null,
      "metadata": {
        "id": "KF-822Rq0TVc",
        "colab": {
          "base_uri": "https://localhost:8080/"
        },
        "outputId": "d347b465-99a2-4ef6-d2cb-6bfc90ba0e38"
      },
      "outputs": [
        {
          "output_type": "execute_result",
          "data": {
            "text/plain": [
              "624"
            ]
          },
          "metadata": {},
          "execution_count": 60
        }
      ],
      "source": [
        "# O valor deve sempre ser arredondado para cima\n",
        "estoque_seguranca = math.ceil(estoque_seg)\n",
        "estoque_seguranca"
      ]
    },
    {
      "cell_type": "code",
      "execution_count": null,
      "metadata": {
        "id": "p-SPHxeT0UEg",
        "colab": {
          "base_uri": "https://localhost:8080/"
        },
        "outputId": "46eeb9b4-6d90-4e64-e537-a0051009ecb9"
      },
      "outputs": [
        {
          "output_type": "stream",
          "name": "stdout",
          "text": [
            "Estoque de Segurança: 624 iogurtes\n"
          ]
        }
      ],
      "source": [
        "print(f\"Estoque de Segurança: {estoque_seguranca} iogurtes\")"
      ]
    }
  ],
  "metadata": {
    "colab": {
      "provenance": [],
      "include_colab_link": true
    },
    "kernelspec": {
      "display_name": "Python 3",
      "name": "python3"
    },
    "language_info": {
      "name": "python"
    }
  },
  "nbformat": 4,
  "nbformat_minor": 0
}