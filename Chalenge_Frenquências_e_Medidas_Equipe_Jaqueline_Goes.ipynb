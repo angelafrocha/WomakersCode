{
  "nbformat": 4,
  "nbformat_minor": 0,
  "metadata": {
    "colab": {
      "provenance": [],
      "include_colab_link": true
    },
    "kernelspec": {
      "name": "python3",
      "display_name": "Python 3"
    },
    "language_info": {
      "name": "python"
    }
  },
  "cells": [
    {
      "cell_type": "markdown",
      "metadata": {
        "id": "view-in-github",
        "colab_type": "text"
      },
      "source": [
        "<a href=\"https://colab.research.google.com/github/angelafrocha/WomakersCode/blob/main/Chalenge_Frenqu%C3%AAncias_e_Medidas_Equipe_Jaqueline_Goes.ipynb\" target=\"_parent\"><img src=\"https://colab.research.google.com/assets/colab-badge.svg\" alt=\"Open In Colab\"/></a>"
      ]
    },
    {
      "cell_type": "markdown",
      "source": [
        "#Equipe Jaqueline Goes: Chalenge Frenquências e Medidas - Bootcamp Data Analytics\n"
      ],
      "metadata": {
        "id": "EpZXgQ77JShP"
      }
    },
    {
      "cell_type": "markdown",
      "source": [
        "## Integrantes\n",
        "- Ana Claudia Caloi\n",
        "- Ângela Fernandes Rocha\n",
        "- Bruna Bernardo Pivotto\n",
        "- Deise Somaya Gomes da Silva\n",
        "- Juliana Alves Oliveira Pereira\n",
        "- Marlana Portilho Rodrigues Santos\n",
        "- Talita de Lana Nacimento\n",
        "- Tatiane Pereira\n",
        "\n",
        "## Como nos organizamos\n",
        "\n",
        "Nós marcamos um encontro inicial para discutir as questões do desafio, a forma como iríamos responder e entender o que cada questão queria. Paralelamente, enquanto discutíamos cada questão nós já aproveitamos para resolver e escolher o melhor código em comum acordo com TODAS do grupo.\n",
        "\n",
        "Feito isso, nós nos revezamos para acrescentar os comentários pertinentes, explicar o uso de alguns métodos e fazer as atividades extras, sendo que todas tieram a oportunidade de contribuir igualmente em cada etapa da resolução desse desafio.\n",
        "\n",
        "## Nossas Dificuldades\n",
        "\n",
        "Encontrar um dia e horário no qual todas estivesse disponíveis para fazer a reunião\n",
        "\n",
        "## Nossas facilidades\n",
        "\n",
        "O grupo inteiro teve muito interesse em ajudar a resolver os problemas e acrescentar novas soluções ao desafio. Também todas contribuíram com os comentários e com as análises das informações encontradas"
      ],
      "metadata": {
        "id": "2d9ECL18zVEW"
      }
    },
    {
      "cell_type": "code",
      "source": [
        "# Importação das bibliotecas que serão utilizadas na análise\n",
        "import pandas as pd\n",
        "import seaborn as sns\n",
        "import numpy as np\n",
        "import matplotlib.pyplot as plt"
      ],
      "metadata": {
        "id": "92mBPZ2QJaIg"
      },
      "execution_count": 258,
      "outputs": []
    },
    {
      "cell_type": "markdown",
      "source": [
        "###1.Leitura da base de dados e análise inicial"
      ],
      "metadata": {
        "id": "sr5Hp4m_6O-X"
      }
    },
    {
      "cell_type": "code",
      "source": [
        "# Pegando o arguivo csv e colocando dentro de uma variável\n",
        "df = pd.read_csv(\"/content/StudentsPerformance.csv\")"
      ],
      "metadata": {
        "id": "weJwpFi0JeA9"
      },
      "execution_count": 220,
      "outputs": []
    },
    {
      "cell_type": "code",
      "source": [
        "  # Verificando a quantidade de linhas e colunas\n",
        "  df.shape"
      ],
      "metadata": {
        "colab": {
          "base_uri": "https://localhost:8080/"
        },
        "id": "bcH7ZePCK-v_",
        "outputId": "6823e0ff-81fe-4019-8055-c27251c81f82"
      },
      "execution_count": 221,
      "outputs": [
        {
          "output_type": "execute_result",
          "data": {
            "text/plain": [
              "(1000, 8)"
            ]
          },
          "metadata": {},
          "execution_count": 221
        }
      ]
    },
    {
      "cell_type": "code",
      "source": [
        "# Verificando a existência de valores nulos\n",
        "df.isnull().any()"
      ],
      "metadata": {
        "colab": {
          "base_uri": "https://localhost:8080/"
        },
        "id": "O0GzmUnr_hWw",
        "outputId": "0604fe1b-6f6b-4a93-fecf-fceebb1da035"
      },
      "execution_count": 222,
      "outputs": [
        {
          "output_type": "execute_result",
          "data": {
            "text/plain": [
              "gender                         False\n",
              "race/ethnicity                 False\n",
              "parental level of education    False\n",
              "lunch                          False\n",
              "test preparation course        False\n",
              "math score                     False\n",
              "reading score                  False\n",
              "writing score                  False\n",
              "dtype: bool"
            ]
          },
          "metadata": {},
          "execution_count": 222
        }
      ]
    },
    {
      "cell_type": "markdown",
      "source": [
        "OBS: o método \"isnull( )\" retorna **True** para a existência de valores nulos e o método e False quando não existe valor nulo, ou seja, substitui os dados por True ou False. Já o método \"any( )\" verifica cada coluna.\n",
        "\n",
        "**O DATASET ANALISADO NÃO APRESENTA DADOS NULOS**"
      ],
      "metadata": {
        "id": "1MdM6vFvASRA"
      }
    },
    {
      "cell_type": "code",
      "source": [
        "# Verificando o DataFrame por completo\n",
        "df"
      ],
      "metadata": {
        "colab": {
          "base_uri": "https://localhost:8080/",
          "height": 423
        },
        "id": "VnsYAVpCJddR",
        "outputId": "a973335b-f28b-4cbc-9d0e-b07897b772fb"
      },
      "execution_count": 223,
      "outputs": [
        {
          "output_type": "execute_result",
          "data": {
            "text/plain": [
              "     gender race/ethnicity parental level of education         lunch  \\\n",
              "0    female        group B           bachelor's degree      standard   \n",
              "1    female        group C                some college      standard   \n",
              "2    female        group B             master's degree      standard   \n",
              "3      male        group A          associate's degree  free/reduced   \n",
              "4      male        group C                some college      standard   \n",
              "..      ...            ...                         ...           ...   \n",
              "995  female        group E             master's degree      standard   \n",
              "996    male        group C                 high school  free/reduced   \n",
              "997  female        group C                 high school  free/reduced   \n",
              "998  female        group D                some college      standard   \n",
              "999  female        group D                some college  free/reduced   \n",
              "\n",
              "    test preparation course  math score  reading score  writing score  \n",
              "0                      none          72             72             74  \n",
              "1                 completed          69             90             88  \n",
              "2                      none          90             95             93  \n",
              "3                      none          47             57             44  \n",
              "4                      none          76             78             75  \n",
              "..                      ...         ...            ...            ...  \n",
              "995               completed          88             99             95  \n",
              "996                    none          62             55             55  \n",
              "997               completed          59             71             65  \n",
              "998               completed          68             78             77  \n",
              "999                    none          77             86             86  \n",
              "\n",
              "[1000 rows x 8 columns]"
            ],
            "text/html": [
              "\n",
              "  <div id=\"df-0163d5ae-3342-4c92-ad08-384679fb2a36\" class=\"colab-df-container\">\n",
              "    <div>\n",
              "<style scoped>\n",
              "    .dataframe tbody tr th:only-of-type {\n",
              "        vertical-align: middle;\n",
              "    }\n",
              "\n",
              "    .dataframe tbody tr th {\n",
              "        vertical-align: top;\n",
              "    }\n",
              "\n",
              "    .dataframe thead th {\n",
              "        text-align: right;\n",
              "    }\n",
              "</style>\n",
              "<table border=\"1\" class=\"dataframe\">\n",
              "  <thead>\n",
              "    <tr style=\"text-align: right;\">\n",
              "      <th></th>\n",
              "      <th>gender</th>\n",
              "      <th>race/ethnicity</th>\n",
              "      <th>parental level of education</th>\n",
              "      <th>lunch</th>\n",
              "      <th>test preparation course</th>\n",
              "      <th>math score</th>\n",
              "      <th>reading score</th>\n",
              "      <th>writing score</th>\n",
              "    </tr>\n",
              "  </thead>\n",
              "  <tbody>\n",
              "    <tr>\n",
              "      <th>0</th>\n",
              "      <td>female</td>\n",
              "      <td>group B</td>\n",
              "      <td>bachelor's degree</td>\n",
              "      <td>standard</td>\n",
              "      <td>none</td>\n",
              "      <td>72</td>\n",
              "      <td>72</td>\n",
              "      <td>74</td>\n",
              "    </tr>\n",
              "    <tr>\n",
              "      <th>1</th>\n",
              "      <td>female</td>\n",
              "      <td>group C</td>\n",
              "      <td>some college</td>\n",
              "      <td>standard</td>\n",
              "      <td>completed</td>\n",
              "      <td>69</td>\n",
              "      <td>90</td>\n",
              "      <td>88</td>\n",
              "    </tr>\n",
              "    <tr>\n",
              "      <th>2</th>\n",
              "      <td>female</td>\n",
              "      <td>group B</td>\n",
              "      <td>master's degree</td>\n",
              "      <td>standard</td>\n",
              "      <td>none</td>\n",
              "      <td>90</td>\n",
              "      <td>95</td>\n",
              "      <td>93</td>\n",
              "    </tr>\n",
              "    <tr>\n",
              "      <th>3</th>\n",
              "      <td>male</td>\n",
              "      <td>group A</td>\n",
              "      <td>associate's degree</td>\n",
              "      <td>free/reduced</td>\n",
              "      <td>none</td>\n",
              "      <td>47</td>\n",
              "      <td>57</td>\n",
              "      <td>44</td>\n",
              "    </tr>\n",
              "    <tr>\n",
              "      <th>4</th>\n",
              "      <td>male</td>\n",
              "      <td>group C</td>\n",
              "      <td>some college</td>\n",
              "      <td>standard</td>\n",
              "      <td>none</td>\n",
              "      <td>76</td>\n",
              "      <td>78</td>\n",
              "      <td>75</td>\n",
              "    </tr>\n",
              "    <tr>\n",
              "      <th>...</th>\n",
              "      <td>...</td>\n",
              "      <td>...</td>\n",
              "      <td>...</td>\n",
              "      <td>...</td>\n",
              "      <td>...</td>\n",
              "      <td>...</td>\n",
              "      <td>...</td>\n",
              "      <td>...</td>\n",
              "    </tr>\n",
              "    <tr>\n",
              "      <th>995</th>\n",
              "      <td>female</td>\n",
              "      <td>group E</td>\n",
              "      <td>master's degree</td>\n",
              "      <td>standard</td>\n",
              "      <td>completed</td>\n",
              "      <td>88</td>\n",
              "      <td>99</td>\n",
              "      <td>95</td>\n",
              "    </tr>\n",
              "    <tr>\n",
              "      <th>996</th>\n",
              "      <td>male</td>\n",
              "      <td>group C</td>\n",
              "      <td>high school</td>\n",
              "      <td>free/reduced</td>\n",
              "      <td>none</td>\n",
              "      <td>62</td>\n",
              "      <td>55</td>\n",
              "      <td>55</td>\n",
              "    </tr>\n",
              "    <tr>\n",
              "      <th>997</th>\n",
              "      <td>female</td>\n",
              "      <td>group C</td>\n",
              "      <td>high school</td>\n",
              "      <td>free/reduced</td>\n",
              "      <td>completed</td>\n",
              "      <td>59</td>\n",
              "      <td>71</td>\n",
              "      <td>65</td>\n",
              "    </tr>\n",
              "    <tr>\n",
              "      <th>998</th>\n",
              "      <td>female</td>\n",
              "      <td>group D</td>\n",
              "      <td>some college</td>\n",
              "      <td>standard</td>\n",
              "      <td>completed</td>\n",
              "      <td>68</td>\n",
              "      <td>78</td>\n",
              "      <td>77</td>\n",
              "    </tr>\n",
              "    <tr>\n",
              "      <th>999</th>\n",
              "      <td>female</td>\n",
              "      <td>group D</td>\n",
              "      <td>some college</td>\n",
              "      <td>free/reduced</td>\n",
              "      <td>none</td>\n",
              "      <td>77</td>\n",
              "      <td>86</td>\n",
              "      <td>86</td>\n",
              "    </tr>\n",
              "  </tbody>\n",
              "</table>\n",
              "<p>1000 rows × 8 columns</p>\n",
              "</div>\n",
              "    <div class=\"colab-df-buttons\">\n",
              "\n",
              "  <div class=\"colab-df-container\">\n",
              "    <button class=\"colab-df-convert\" onclick=\"convertToInteractive('df-0163d5ae-3342-4c92-ad08-384679fb2a36')\"\n",
              "            title=\"Convert this dataframe to an interactive table.\"\n",
              "            style=\"display:none;\">\n",
              "\n",
              "  <svg xmlns=\"http://www.w3.org/2000/svg\" height=\"24px\" viewBox=\"0 -960 960 960\">\n",
              "    <path d=\"M120-120v-720h720v720H120Zm60-500h600v-160H180v160Zm220 220h160v-160H400v160Zm0 220h160v-160H400v160ZM180-400h160v-160H180v160Zm440 0h160v-160H620v160ZM180-180h160v-160H180v160Zm440 0h160v-160H620v160Z\"/>\n",
              "  </svg>\n",
              "    </button>\n",
              "\n",
              "  <style>\n",
              "    .colab-df-container {\n",
              "      display:flex;\n",
              "      gap: 12px;\n",
              "    }\n",
              "\n",
              "    .colab-df-convert {\n",
              "      background-color: #E8F0FE;\n",
              "      border: none;\n",
              "      border-radius: 50%;\n",
              "      cursor: pointer;\n",
              "      display: none;\n",
              "      fill: #1967D2;\n",
              "      height: 32px;\n",
              "      padding: 0 0 0 0;\n",
              "      width: 32px;\n",
              "    }\n",
              "\n",
              "    .colab-df-convert:hover {\n",
              "      background-color: #E2EBFA;\n",
              "      box-shadow: 0px 1px 2px rgba(60, 64, 67, 0.3), 0px 1px 3px 1px rgba(60, 64, 67, 0.15);\n",
              "      fill: #174EA6;\n",
              "    }\n",
              "\n",
              "    .colab-df-buttons div {\n",
              "      margin-bottom: 4px;\n",
              "    }\n",
              "\n",
              "    [theme=dark] .colab-df-convert {\n",
              "      background-color: #3B4455;\n",
              "      fill: #D2E3FC;\n",
              "    }\n",
              "\n",
              "    [theme=dark] .colab-df-convert:hover {\n",
              "      background-color: #434B5C;\n",
              "      box-shadow: 0px 1px 3px 1px rgba(0, 0, 0, 0.15);\n",
              "      filter: drop-shadow(0px 1px 2px rgba(0, 0, 0, 0.3));\n",
              "      fill: #FFFFFF;\n",
              "    }\n",
              "  </style>\n",
              "\n",
              "    <script>\n",
              "      const buttonEl =\n",
              "        document.querySelector('#df-0163d5ae-3342-4c92-ad08-384679fb2a36 button.colab-df-convert');\n",
              "      buttonEl.style.display =\n",
              "        google.colab.kernel.accessAllowed ? 'block' : 'none';\n",
              "\n",
              "      async function convertToInteractive(key) {\n",
              "        const element = document.querySelector('#df-0163d5ae-3342-4c92-ad08-384679fb2a36');\n",
              "        const dataTable =\n",
              "          await google.colab.kernel.invokeFunction('convertToInteractive',\n",
              "                                                    [key], {});\n",
              "        if (!dataTable) return;\n",
              "\n",
              "        const docLinkHtml = 'Like what you see? Visit the ' +\n",
              "          '<a target=\"_blank\" href=https://colab.research.google.com/notebooks/data_table.ipynb>data table notebook</a>'\n",
              "          + ' to learn more about interactive tables.';\n",
              "        element.innerHTML = '';\n",
              "        dataTable['output_type'] = 'display_data';\n",
              "        await google.colab.output.renderOutput(dataTable, element);\n",
              "        const docLink = document.createElement('div');\n",
              "        docLink.innerHTML = docLinkHtml;\n",
              "        element.appendChild(docLink);\n",
              "      }\n",
              "    </script>\n",
              "  </div>\n",
              "\n",
              "\n",
              "<div id=\"df-7331e51d-5034-4498-ae6b-c5508ae482e1\">\n",
              "  <button class=\"colab-df-quickchart\" onclick=\"quickchart('df-7331e51d-5034-4498-ae6b-c5508ae482e1')\"\n",
              "            title=\"Suggest charts.\"\n",
              "            style=\"display:none;\">\n",
              "\n",
              "<svg xmlns=\"http://www.w3.org/2000/svg\" height=\"24px\"viewBox=\"0 0 24 24\"\n",
              "     width=\"24px\">\n",
              "    <g>\n",
              "        <path d=\"M19 3H5c-1.1 0-2 .9-2 2v14c0 1.1.9 2 2 2h14c1.1 0 2-.9 2-2V5c0-1.1-.9-2-2-2zM9 17H7v-7h2v7zm4 0h-2V7h2v10zm4 0h-2v-4h2v4z\"/>\n",
              "    </g>\n",
              "</svg>\n",
              "  </button>\n",
              "\n",
              "<style>\n",
              "  .colab-df-quickchart {\n",
              "      --bg-color: #E8F0FE;\n",
              "      --fill-color: #1967D2;\n",
              "      --hover-bg-color: #E2EBFA;\n",
              "      --hover-fill-color: #174EA6;\n",
              "      --disabled-fill-color: #AAA;\n",
              "      --disabled-bg-color: #DDD;\n",
              "  }\n",
              "\n",
              "  [theme=dark] .colab-df-quickchart {\n",
              "      --bg-color: #3B4455;\n",
              "      --fill-color: #D2E3FC;\n",
              "      --hover-bg-color: #434B5C;\n",
              "      --hover-fill-color: #FFFFFF;\n",
              "      --disabled-bg-color: #3B4455;\n",
              "      --disabled-fill-color: #666;\n",
              "  }\n",
              "\n",
              "  .colab-df-quickchart {\n",
              "    background-color: var(--bg-color);\n",
              "    border: none;\n",
              "    border-radius: 50%;\n",
              "    cursor: pointer;\n",
              "    display: none;\n",
              "    fill: var(--fill-color);\n",
              "    height: 32px;\n",
              "    padding: 0;\n",
              "    width: 32px;\n",
              "  }\n",
              "\n",
              "  .colab-df-quickchart:hover {\n",
              "    background-color: var(--hover-bg-color);\n",
              "    box-shadow: 0 1px 2px rgba(60, 64, 67, 0.3), 0 1px 3px 1px rgba(60, 64, 67, 0.15);\n",
              "    fill: var(--button-hover-fill-color);\n",
              "  }\n",
              "\n",
              "  .colab-df-quickchart-complete:disabled,\n",
              "  .colab-df-quickchart-complete:disabled:hover {\n",
              "    background-color: var(--disabled-bg-color);\n",
              "    fill: var(--disabled-fill-color);\n",
              "    box-shadow: none;\n",
              "  }\n",
              "\n",
              "  .colab-df-spinner {\n",
              "    border: 2px solid var(--fill-color);\n",
              "    border-color: transparent;\n",
              "    border-bottom-color: var(--fill-color);\n",
              "    animation:\n",
              "      spin 1s steps(1) infinite;\n",
              "  }\n",
              "\n",
              "  @keyframes spin {\n",
              "    0% {\n",
              "      border-color: transparent;\n",
              "      border-bottom-color: var(--fill-color);\n",
              "      border-left-color: var(--fill-color);\n",
              "    }\n",
              "    20% {\n",
              "      border-color: transparent;\n",
              "      border-left-color: var(--fill-color);\n",
              "      border-top-color: var(--fill-color);\n",
              "    }\n",
              "    30% {\n",
              "      border-color: transparent;\n",
              "      border-left-color: var(--fill-color);\n",
              "      border-top-color: var(--fill-color);\n",
              "      border-right-color: var(--fill-color);\n",
              "    }\n",
              "    40% {\n",
              "      border-color: transparent;\n",
              "      border-right-color: var(--fill-color);\n",
              "      border-top-color: var(--fill-color);\n",
              "    }\n",
              "    60% {\n",
              "      border-color: transparent;\n",
              "      border-right-color: var(--fill-color);\n",
              "    }\n",
              "    80% {\n",
              "      border-color: transparent;\n",
              "      border-right-color: var(--fill-color);\n",
              "      border-bottom-color: var(--fill-color);\n",
              "    }\n",
              "    90% {\n",
              "      border-color: transparent;\n",
              "      border-bottom-color: var(--fill-color);\n",
              "    }\n",
              "  }\n",
              "</style>\n",
              "\n",
              "  <script>\n",
              "    async function quickchart(key) {\n",
              "      const quickchartButtonEl =\n",
              "        document.querySelector('#' + key + ' button');\n",
              "      quickchartButtonEl.disabled = true;  // To prevent multiple clicks.\n",
              "      quickchartButtonEl.classList.add('colab-df-spinner');\n",
              "      try {\n",
              "        const charts = await google.colab.kernel.invokeFunction(\n",
              "            'suggestCharts', [key], {});\n",
              "      } catch (error) {\n",
              "        console.error('Error during call to suggestCharts:', error);\n",
              "      }\n",
              "      quickchartButtonEl.classList.remove('colab-df-spinner');\n",
              "      quickchartButtonEl.classList.add('colab-df-quickchart-complete');\n",
              "    }\n",
              "    (() => {\n",
              "      let quickchartButtonEl =\n",
              "        document.querySelector('#df-7331e51d-5034-4498-ae6b-c5508ae482e1 button');\n",
              "      quickchartButtonEl.style.display =\n",
              "        google.colab.kernel.accessAllowed ? 'block' : 'none';\n",
              "    })();\n",
              "  </script>\n",
              "</div>\n",
              "    </div>\n",
              "  </div>\n"
            ]
          },
          "metadata": {},
          "execution_count": 223
        }
      ]
    },
    {
      "cell_type": "markdown",
      "source": [
        "#### Tipo dos dados de cada coluna (Visão estatística)\n",
        "\n",
        "Raça/ Etinia = Qualitativa Nominal\n",
        "\n",
        "Grau de Escolariade dos pais = Qualitativa Ordinal\n",
        "\n",
        "Tipo de almoço = Qualitativa Nominal\n",
        "\n",
        "Curso Preparatório = Qualitativo Nominal\n",
        "\n",
        "Nota de Matemática = Quantitativa Discreta\n",
        "\n",
        "Nota de Leitura = Quantitativa Discreta\n",
        "\n",
        "Nota de Escrita = Quantitativa Discreta"
      ],
      "metadata": {
        "id": "IL6hiWhhL3oT"
      }
    },
    {
      "cell_type": "code",
      "source": [
        "# Verificando os tipos (em python) dos dados de cada coluna\n",
        "df.dtypes"
      ],
      "metadata": {
        "colab": {
          "base_uri": "https://localhost:8080/"
        },
        "id": "Ipj1BriWLCp0",
        "outputId": "1585c158-9c96-4cc4-b6c0-2c8b7de783dd"
      },
      "execution_count": 224,
      "outputs": [
        {
          "output_type": "execute_result",
          "data": {
            "text/plain": [
              "gender                         object\n",
              "race/ethnicity                 object\n",
              "parental level of education    object\n",
              "lunch                          object\n",
              "test preparation course        object\n",
              "math score                      int64\n",
              "reading score                   int64\n",
              "writing score                   int64\n",
              "dtype: object"
            ]
          },
          "metadata": {},
          "execution_count": 224
        }
      ]
    },
    {
      "cell_type": "markdown",
      "source": [
        "Os dados relacionados a notas são Inteiros e as damais colunas possuem dados em String"
      ],
      "metadata": {
        "id": "cSI_T3zt9SGU"
      }
    },
    {
      "cell_type": "markdown",
      "source": [
        "##### **Analisando cada coluna**"
      ],
      "metadata": {
        "id": "47c8N6qZ79zH"
      }
    },
    {
      "cell_type": "markdown",
      "source": [
        "Optamos pro verificar os dados únicos das colunas com dados qualitativos utilizando o método \"unique( )\" do pandas para ver apenas os valores único e combinamos com a função \"sorted( )\" para vermos esees dados organizados de forma crescente( no caso dos dados qualitativos - em ordem alfabética)"
      ],
      "metadata": {
        "id": "6soDFxtL8HOb"
      }
    },
    {
      "cell_type": "code",
      "source": [
        "sorted(df['gender'].unique())"
      ],
      "metadata": {
        "colab": {
          "base_uri": "https://localhost:8080/"
        },
        "id": "qxaPtsrvNWT9",
        "outputId": "0c9c9987-cf57-4561-ce07-d3e31c578721"
      },
      "execution_count": 225,
      "outputs": [
        {
          "output_type": "execute_result",
          "data": {
            "text/plain": [
              "['female', 'male']"
            ]
          },
          "metadata": {},
          "execution_count": 225
        }
      ]
    },
    {
      "cell_type": "code",
      "source": [
        "sorted(df['race/ethnicity'].unique())"
      ],
      "metadata": {
        "colab": {
          "base_uri": "https://localhost:8080/"
        },
        "id": "oiJosv9WN73z",
        "outputId": "dd27b8c5-4a05-4b74-cfeb-5190b340c1c3"
      },
      "execution_count": 226,
      "outputs": [
        {
          "output_type": "execute_result",
          "data": {
            "text/plain": [
              "['group A', 'group B', 'group C', 'group D', 'group E']"
            ]
          },
          "metadata": {},
          "execution_count": 226
        }
      ]
    },
    {
      "cell_type": "code",
      "source": [
        "sorted(df['parental level of education'].unique())"
      ],
      "metadata": {
        "colab": {
          "base_uri": "https://localhost:8080/"
        },
        "id": "RLVT9xWVOCaA",
        "outputId": "166f5c65-d4a4-4837-ba3c-694a16834373"
      },
      "execution_count": 227,
      "outputs": [
        {
          "output_type": "execute_result",
          "data": {
            "text/plain": [
              "[\"associate's degree\",\n",
              " \"bachelor's degree\",\n",
              " 'high school',\n",
              " \"master's degree\",\n",
              " 'some college',\n",
              " 'some high school']"
            ]
          },
          "metadata": {},
          "execution_count": 227
        }
      ]
    },
    {
      "cell_type": "code",
      "source": [
        "sorted(df['lunch'].unique())"
      ],
      "metadata": {
        "colab": {
          "base_uri": "https://localhost:8080/"
        },
        "id": "byjEAq-GOJ6B",
        "outputId": "54cd8318-699e-4f97-ae6f-6ce5f7bfbe18"
      },
      "execution_count": 228,
      "outputs": [
        {
          "output_type": "execute_result",
          "data": {
            "text/plain": [
              "['free/reduced', 'standard']"
            ]
          },
          "metadata": {},
          "execution_count": 228
        }
      ]
    },
    {
      "cell_type": "code",
      "source": [
        "sorted(df['test preparation course'].unique())"
      ],
      "metadata": {
        "colab": {
          "base_uri": "https://localhost:8080/"
        },
        "id": "9YVppki6OSxE",
        "outputId": "b5581a6f-0d5a-45cb-e8bb-d2e681930153"
      },
      "execution_count": 229,
      "outputs": [
        {
          "output_type": "execute_result",
          "data": {
            "text/plain": [
              "['completed', 'none']"
            ]
          },
          "metadata": {},
          "execution_count": 229
        }
      ]
    },
    {
      "cell_type": "markdown",
      "source": [
        "**Para as variáveis quantitativas discretas optamos por mostrar o range de cada coluna.**"
      ],
      "metadata": {
        "id": "iF1Wg-xZO0Py"
      }
    },
    {
      "cell_type": "markdown",
      "source": [
        "Escolhemos usar o recurso de formatação f-string onde incluímos já dentro do print os comandos para calcular o valor mínimo e o máximo."
      ],
      "metadata": {
        "id": "SrXh8k-Ml3H6"
      }
    },
    {
      "cell_type": "code",
      "source": [
        "print(f\"As notas de matemática vão de {df['math score'].min()} até {df['math score'].max()}\")"
      ],
      "metadata": {
        "colab": {
          "base_uri": "https://localhost:8080/"
        },
        "id": "53jpVg46OX40",
        "outputId": "0988d73d-0325-42c3-e22e-92e92c4ab2b5"
      },
      "execution_count": 230,
      "outputs": [
        {
          "output_type": "stream",
          "name": "stdout",
          "text": [
            "As notas de matemática vão de 0 até 100\n"
          ]
        }
      ]
    },
    {
      "cell_type": "code",
      "source": [
        "print(f\"As notas de leitura vão de {df['reading score'].min()} até {df['reading score'].max()}\")"
      ],
      "metadata": {
        "colab": {
          "base_uri": "https://localhost:8080/"
        },
        "id": "__0zRMvSOijs",
        "outputId": "3eddc073-5e0b-43eb-eff8-808020d70332"
      },
      "execution_count": 231,
      "outputs": [
        {
          "output_type": "stream",
          "name": "stdout",
          "text": [
            "As notas de leitura vão de 17 até 100\n"
          ]
        }
      ]
    },
    {
      "cell_type": "code",
      "source": [
        "print(f\"As notas de escrita vão de {df['writing score'].min()} até {df['writing score'].max()}\")"
      ],
      "metadata": {
        "colab": {
          "base_uri": "https://localhost:8080/"
        },
        "id": "qTo1JMwCOuW8",
        "outputId": "f13b15a3-e90d-4876-966f-13bcebe1ee75"
      },
      "execution_count": 232,
      "outputs": [
        {
          "output_type": "stream",
          "name": "stdout",
          "text": [
            "As notas de escrita vão de 10 até 100\n"
          ]
        }
      ]
    },
    {
      "cell_type": "markdown",
      "source": [
        "### 2. Alteração das variáveis"
      ],
      "metadata": {
        "id": "sohOh-iu-K-x"
      }
    },
    {
      "cell_type": "markdown",
      "source": [
        "Para facilitar o entendimento dos dados nós resolvemos fazer a tradução das colunas e dos dados contidos nelas.\n",
        "\n",
        "OBS: O dicionário dos dados foi encontrado em ...\n",
        "\n",
        "\n",
        "**Para renomear as colunasm utilizamos o método \"rename\"**"
      ],
      "metadata": {
        "id": "hfBDlS876dC2"
      }
    },
    {
      "cell_type": "code",
      "source": [
        "df = df.rename(columns={'gender': 'genero',\n",
        "                        'race/ethnicity': 'raca/etnia',\n",
        "                        'parental level of education': 'escolaridade_dos_pais',\n",
        "                        'lunch': 'tipo_de_almoco',\n",
        "                        'test preparation course': 'curso_preparatorio',\n",
        "                        'math score': 'nota_matematica',\n",
        "                        'reading score': 'nota_leitura',\n",
        "                        'writing score': 'nota_escrita'})"
      ],
      "metadata": {
        "id": "PdT-KjUI7iHD"
      },
      "execution_count": 233,
      "outputs": []
    },
    {
      "cell_type": "markdown",
      "source": [
        "**Para renomear os dados das colunas utilizamos o método replace para subsituir valores**"
      ],
      "metadata": {
        "id": "SSdKmCE3_As6"
      }
    },
    {
      "cell_type": "code",
      "source": [
        "# Traduzindo os dados da coluna \"genero\"\n",
        "df['genero'] = df['genero'].replace({'female': 'feminino',\n",
        "                                     'male': 'masculino'})"
      ],
      "metadata": {
        "id": "AGG_8JCt_b1G"
      },
      "execution_count": 234,
      "outputs": []
    },
    {
      "cell_type": "code",
      "source": [
        "# Traduzindo o s dados da coluna \"raca/etnia\"\n",
        "df['raca/etnia'] = df['raca/etnia'].replace({'group A': 'Branco_Britanico',\n",
        "                                                     'group B': 'Branco_Irlandes',\n",
        "                                                     'group C': 'Branco_outros',\n",
        "                                                     'group D': 'M_B_Caribenho',\n",
        "                                                     'group E': 'M_B_Negro_Afr',\n",
        "                                                     'group F': 'M_B_Asiático',\n",
        "                                                     'group G': 'M_Outros'})"
      ],
      "metadata": {
        "id": "OWHO6fBGAArX"
      },
      "execution_count": 235,
      "outputs": []
    },
    {
      "cell_type": "code",
      "source": [
        "# Traduzindo os dados da coluna \"escolaridade_dos pais\"\n",
        "df['escolaridade_dos_pais'] = df['escolaridade_dos_pais'].replace({'some high school': 'nao_concluiu_EM',\n",
        "                                                                   'high school': 'EM_completo',\n",
        "                                                                   'some college': 'superior_incompleto',\n",
        "                                                                   \"associate's degree\": \"tecnólogo\",\n",
        "                                                                   \"bachelor's degree\": \"bacharelado\",\n",
        "                                                                   \"master's degree\": 'mestrado'})"
      ],
      "metadata": {
        "id": "H2xKcYx6BcIC"
      },
      "execution_count": 236,
      "outputs": []
    },
    {
      "cell_type": "code",
      "source": [
        "# Traduzindo a coluna \"tipo_de_almoço\"\n",
        "df['tipo_de_almoco'] = df['tipo_de_almoco'].replace({'standard':'padrao',\n",
        "                                                     'free/reduced':'reduzido'})"
      ],
      "metadata": {
        "id": "Zm_bTjHQDtYZ"
      },
      "execution_count": 237,
      "outputs": []
    },
    {
      "cell_type": "code",
      "source": [
        "# Traduzindo os dados da coluna \"curso_preparatorio\"\n",
        "df['curso_preparatorio']=df['curso_preparatorio'].replace({'none':'nenhum',\n",
        "                                                           'completed':'completo'})"
      ],
      "metadata": {
        "id": "j-8T-jZdEmbb"
      },
      "execution_count": 238,
      "outputs": []
    },
    {
      "cell_type": "code",
      "source": [
        "# Observando se as mudanças foram efetuadas corretamente\n",
        "df"
      ],
      "metadata": {
        "colab": {
          "base_uri": "https://localhost:8080/",
          "height": 423
        },
        "id": "1PMZen2Z7uvc",
        "outputId": "bf2e8f10-1669-4d8b-b23e-0677e9a0bfc8"
      },
      "execution_count": 239,
      "outputs": [
        {
          "output_type": "execute_result",
          "data": {
            "text/plain": [
              "        genero        raca/etnia escolaridade_dos_pais tipo_de_almoco  \\\n",
              "0     feminino   Branco_Irlandes           bacharelado         padrao   \n",
              "1     feminino     Branco_outros   superior_incompleto         padrao   \n",
              "2     feminino   Branco_Irlandes              mestrado         padrao   \n",
              "3    masculino  Branco_Britanico             tecnólogo       reduzido   \n",
              "4    masculino     Branco_outros   superior_incompleto         padrao   \n",
              "..         ...               ...                   ...            ...   \n",
              "995   feminino     M_B_Negro_Afr              mestrado         padrao   \n",
              "996  masculino     Branco_outros           EM_completo       reduzido   \n",
              "997   feminino     Branco_outros           EM_completo       reduzido   \n",
              "998   feminino     M_B_Caribenho   superior_incompleto         padrao   \n",
              "999   feminino     M_B_Caribenho   superior_incompleto       reduzido   \n",
              "\n",
              "    curso_preparatorio  nota_matematica  nota_leitura  nota_escrita  \n",
              "0               nenhum               72            72            74  \n",
              "1             completo               69            90            88  \n",
              "2               nenhum               90            95            93  \n",
              "3               nenhum               47            57            44  \n",
              "4               nenhum               76            78            75  \n",
              "..                 ...              ...           ...           ...  \n",
              "995           completo               88            99            95  \n",
              "996             nenhum               62            55            55  \n",
              "997           completo               59            71            65  \n",
              "998           completo               68            78            77  \n",
              "999             nenhum               77            86            86  \n",
              "\n",
              "[1000 rows x 8 columns]"
            ],
            "text/html": [
              "\n",
              "  <div id=\"df-205b2a55-f073-4eaa-9bcd-f1eef006a9f4\" class=\"colab-df-container\">\n",
              "    <div>\n",
              "<style scoped>\n",
              "    .dataframe tbody tr th:only-of-type {\n",
              "        vertical-align: middle;\n",
              "    }\n",
              "\n",
              "    .dataframe tbody tr th {\n",
              "        vertical-align: top;\n",
              "    }\n",
              "\n",
              "    .dataframe thead th {\n",
              "        text-align: right;\n",
              "    }\n",
              "</style>\n",
              "<table border=\"1\" class=\"dataframe\">\n",
              "  <thead>\n",
              "    <tr style=\"text-align: right;\">\n",
              "      <th></th>\n",
              "      <th>genero</th>\n",
              "      <th>raca/etnia</th>\n",
              "      <th>escolaridade_dos_pais</th>\n",
              "      <th>tipo_de_almoco</th>\n",
              "      <th>curso_preparatorio</th>\n",
              "      <th>nota_matematica</th>\n",
              "      <th>nota_leitura</th>\n",
              "      <th>nota_escrita</th>\n",
              "    </tr>\n",
              "  </thead>\n",
              "  <tbody>\n",
              "    <tr>\n",
              "      <th>0</th>\n",
              "      <td>feminino</td>\n",
              "      <td>Branco_Irlandes</td>\n",
              "      <td>bacharelado</td>\n",
              "      <td>padrao</td>\n",
              "      <td>nenhum</td>\n",
              "      <td>72</td>\n",
              "      <td>72</td>\n",
              "      <td>74</td>\n",
              "    </tr>\n",
              "    <tr>\n",
              "      <th>1</th>\n",
              "      <td>feminino</td>\n",
              "      <td>Branco_outros</td>\n",
              "      <td>superior_incompleto</td>\n",
              "      <td>padrao</td>\n",
              "      <td>completo</td>\n",
              "      <td>69</td>\n",
              "      <td>90</td>\n",
              "      <td>88</td>\n",
              "    </tr>\n",
              "    <tr>\n",
              "      <th>2</th>\n",
              "      <td>feminino</td>\n",
              "      <td>Branco_Irlandes</td>\n",
              "      <td>mestrado</td>\n",
              "      <td>padrao</td>\n",
              "      <td>nenhum</td>\n",
              "      <td>90</td>\n",
              "      <td>95</td>\n",
              "      <td>93</td>\n",
              "    </tr>\n",
              "    <tr>\n",
              "      <th>3</th>\n",
              "      <td>masculino</td>\n",
              "      <td>Branco_Britanico</td>\n",
              "      <td>tecnólogo</td>\n",
              "      <td>reduzido</td>\n",
              "      <td>nenhum</td>\n",
              "      <td>47</td>\n",
              "      <td>57</td>\n",
              "      <td>44</td>\n",
              "    </tr>\n",
              "    <tr>\n",
              "      <th>4</th>\n",
              "      <td>masculino</td>\n",
              "      <td>Branco_outros</td>\n",
              "      <td>superior_incompleto</td>\n",
              "      <td>padrao</td>\n",
              "      <td>nenhum</td>\n",
              "      <td>76</td>\n",
              "      <td>78</td>\n",
              "      <td>75</td>\n",
              "    </tr>\n",
              "    <tr>\n",
              "      <th>...</th>\n",
              "      <td>...</td>\n",
              "      <td>...</td>\n",
              "      <td>...</td>\n",
              "      <td>...</td>\n",
              "      <td>...</td>\n",
              "      <td>...</td>\n",
              "      <td>...</td>\n",
              "      <td>...</td>\n",
              "    </tr>\n",
              "    <tr>\n",
              "      <th>995</th>\n",
              "      <td>feminino</td>\n",
              "      <td>M_B_Negro_Afr</td>\n",
              "      <td>mestrado</td>\n",
              "      <td>padrao</td>\n",
              "      <td>completo</td>\n",
              "      <td>88</td>\n",
              "      <td>99</td>\n",
              "      <td>95</td>\n",
              "    </tr>\n",
              "    <tr>\n",
              "      <th>996</th>\n",
              "      <td>masculino</td>\n",
              "      <td>Branco_outros</td>\n",
              "      <td>EM_completo</td>\n",
              "      <td>reduzido</td>\n",
              "      <td>nenhum</td>\n",
              "      <td>62</td>\n",
              "      <td>55</td>\n",
              "      <td>55</td>\n",
              "    </tr>\n",
              "    <tr>\n",
              "      <th>997</th>\n",
              "      <td>feminino</td>\n",
              "      <td>Branco_outros</td>\n",
              "      <td>EM_completo</td>\n",
              "      <td>reduzido</td>\n",
              "      <td>completo</td>\n",
              "      <td>59</td>\n",
              "      <td>71</td>\n",
              "      <td>65</td>\n",
              "    </tr>\n",
              "    <tr>\n",
              "      <th>998</th>\n",
              "      <td>feminino</td>\n",
              "      <td>M_B_Caribenho</td>\n",
              "      <td>superior_incompleto</td>\n",
              "      <td>padrao</td>\n",
              "      <td>completo</td>\n",
              "      <td>68</td>\n",
              "      <td>78</td>\n",
              "      <td>77</td>\n",
              "    </tr>\n",
              "    <tr>\n",
              "      <th>999</th>\n",
              "      <td>feminino</td>\n",
              "      <td>M_B_Caribenho</td>\n",
              "      <td>superior_incompleto</td>\n",
              "      <td>reduzido</td>\n",
              "      <td>nenhum</td>\n",
              "      <td>77</td>\n",
              "      <td>86</td>\n",
              "      <td>86</td>\n",
              "    </tr>\n",
              "  </tbody>\n",
              "</table>\n",
              "<p>1000 rows × 8 columns</p>\n",
              "</div>\n",
              "    <div class=\"colab-df-buttons\">\n",
              "\n",
              "  <div class=\"colab-df-container\">\n",
              "    <button class=\"colab-df-convert\" onclick=\"convertToInteractive('df-205b2a55-f073-4eaa-9bcd-f1eef006a9f4')\"\n",
              "            title=\"Convert this dataframe to an interactive table.\"\n",
              "            style=\"display:none;\">\n",
              "\n",
              "  <svg xmlns=\"http://www.w3.org/2000/svg\" height=\"24px\" viewBox=\"0 -960 960 960\">\n",
              "    <path d=\"M120-120v-720h720v720H120Zm60-500h600v-160H180v160Zm220 220h160v-160H400v160Zm0 220h160v-160H400v160ZM180-400h160v-160H180v160Zm440 0h160v-160H620v160ZM180-180h160v-160H180v160Zm440 0h160v-160H620v160Z\"/>\n",
              "  </svg>\n",
              "    </button>\n",
              "\n",
              "  <style>\n",
              "    .colab-df-container {\n",
              "      display:flex;\n",
              "      gap: 12px;\n",
              "    }\n",
              "\n",
              "    .colab-df-convert {\n",
              "      background-color: #E8F0FE;\n",
              "      border: none;\n",
              "      border-radius: 50%;\n",
              "      cursor: pointer;\n",
              "      display: none;\n",
              "      fill: #1967D2;\n",
              "      height: 32px;\n",
              "      padding: 0 0 0 0;\n",
              "      width: 32px;\n",
              "    }\n",
              "\n",
              "    .colab-df-convert:hover {\n",
              "      background-color: #E2EBFA;\n",
              "      box-shadow: 0px 1px 2px rgba(60, 64, 67, 0.3), 0px 1px 3px 1px rgba(60, 64, 67, 0.15);\n",
              "      fill: #174EA6;\n",
              "    }\n",
              "\n",
              "    .colab-df-buttons div {\n",
              "      margin-bottom: 4px;\n",
              "    }\n",
              "\n",
              "    [theme=dark] .colab-df-convert {\n",
              "      background-color: #3B4455;\n",
              "      fill: #D2E3FC;\n",
              "    }\n",
              "\n",
              "    [theme=dark] .colab-df-convert:hover {\n",
              "      background-color: #434B5C;\n",
              "      box-shadow: 0px 1px 3px 1px rgba(0, 0, 0, 0.15);\n",
              "      filter: drop-shadow(0px 1px 2px rgba(0, 0, 0, 0.3));\n",
              "      fill: #FFFFFF;\n",
              "    }\n",
              "  </style>\n",
              "\n",
              "    <script>\n",
              "      const buttonEl =\n",
              "        document.querySelector('#df-205b2a55-f073-4eaa-9bcd-f1eef006a9f4 button.colab-df-convert');\n",
              "      buttonEl.style.display =\n",
              "        google.colab.kernel.accessAllowed ? 'block' : 'none';\n",
              "\n",
              "      async function convertToInteractive(key) {\n",
              "        const element = document.querySelector('#df-205b2a55-f073-4eaa-9bcd-f1eef006a9f4');\n",
              "        const dataTable =\n",
              "          await google.colab.kernel.invokeFunction('convertToInteractive',\n",
              "                                                    [key], {});\n",
              "        if (!dataTable) return;\n",
              "\n",
              "        const docLinkHtml = 'Like what you see? Visit the ' +\n",
              "          '<a target=\"_blank\" href=https://colab.research.google.com/notebooks/data_table.ipynb>data table notebook</a>'\n",
              "          + ' to learn more about interactive tables.';\n",
              "        element.innerHTML = '';\n",
              "        dataTable['output_type'] = 'display_data';\n",
              "        await google.colab.output.renderOutput(dataTable, element);\n",
              "        const docLink = document.createElement('div');\n",
              "        docLink.innerHTML = docLinkHtml;\n",
              "        element.appendChild(docLink);\n",
              "      }\n",
              "    </script>\n",
              "  </div>\n",
              "\n",
              "\n",
              "<div id=\"df-ee337a28-e7f6-4069-bc0b-0fc06224cfd5\">\n",
              "  <button class=\"colab-df-quickchart\" onclick=\"quickchart('df-ee337a28-e7f6-4069-bc0b-0fc06224cfd5')\"\n",
              "            title=\"Suggest charts.\"\n",
              "            style=\"display:none;\">\n",
              "\n",
              "<svg xmlns=\"http://www.w3.org/2000/svg\" height=\"24px\"viewBox=\"0 0 24 24\"\n",
              "     width=\"24px\">\n",
              "    <g>\n",
              "        <path d=\"M19 3H5c-1.1 0-2 .9-2 2v14c0 1.1.9 2 2 2h14c1.1 0 2-.9 2-2V5c0-1.1-.9-2-2-2zM9 17H7v-7h2v7zm4 0h-2V7h2v10zm4 0h-2v-4h2v4z\"/>\n",
              "    </g>\n",
              "</svg>\n",
              "  </button>\n",
              "\n",
              "<style>\n",
              "  .colab-df-quickchart {\n",
              "      --bg-color: #E8F0FE;\n",
              "      --fill-color: #1967D2;\n",
              "      --hover-bg-color: #E2EBFA;\n",
              "      --hover-fill-color: #174EA6;\n",
              "      --disabled-fill-color: #AAA;\n",
              "      --disabled-bg-color: #DDD;\n",
              "  }\n",
              "\n",
              "  [theme=dark] .colab-df-quickchart {\n",
              "      --bg-color: #3B4455;\n",
              "      --fill-color: #D2E3FC;\n",
              "      --hover-bg-color: #434B5C;\n",
              "      --hover-fill-color: #FFFFFF;\n",
              "      --disabled-bg-color: #3B4455;\n",
              "      --disabled-fill-color: #666;\n",
              "  }\n",
              "\n",
              "  .colab-df-quickchart {\n",
              "    background-color: var(--bg-color);\n",
              "    border: none;\n",
              "    border-radius: 50%;\n",
              "    cursor: pointer;\n",
              "    display: none;\n",
              "    fill: var(--fill-color);\n",
              "    height: 32px;\n",
              "    padding: 0;\n",
              "    width: 32px;\n",
              "  }\n",
              "\n",
              "  .colab-df-quickchart:hover {\n",
              "    background-color: var(--hover-bg-color);\n",
              "    box-shadow: 0 1px 2px rgba(60, 64, 67, 0.3), 0 1px 3px 1px rgba(60, 64, 67, 0.15);\n",
              "    fill: var(--button-hover-fill-color);\n",
              "  }\n",
              "\n",
              "  .colab-df-quickchart-complete:disabled,\n",
              "  .colab-df-quickchart-complete:disabled:hover {\n",
              "    background-color: var(--disabled-bg-color);\n",
              "    fill: var(--disabled-fill-color);\n",
              "    box-shadow: none;\n",
              "  }\n",
              "\n",
              "  .colab-df-spinner {\n",
              "    border: 2px solid var(--fill-color);\n",
              "    border-color: transparent;\n",
              "    border-bottom-color: var(--fill-color);\n",
              "    animation:\n",
              "      spin 1s steps(1) infinite;\n",
              "  }\n",
              "\n",
              "  @keyframes spin {\n",
              "    0% {\n",
              "      border-color: transparent;\n",
              "      border-bottom-color: var(--fill-color);\n",
              "      border-left-color: var(--fill-color);\n",
              "    }\n",
              "    20% {\n",
              "      border-color: transparent;\n",
              "      border-left-color: var(--fill-color);\n",
              "      border-top-color: var(--fill-color);\n",
              "    }\n",
              "    30% {\n",
              "      border-color: transparent;\n",
              "      border-left-color: var(--fill-color);\n",
              "      border-top-color: var(--fill-color);\n",
              "      border-right-color: var(--fill-color);\n",
              "    }\n",
              "    40% {\n",
              "      border-color: transparent;\n",
              "      border-right-color: var(--fill-color);\n",
              "      border-top-color: var(--fill-color);\n",
              "    }\n",
              "    60% {\n",
              "      border-color: transparent;\n",
              "      border-right-color: var(--fill-color);\n",
              "    }\n",
              "    80% {\n",
              "      border-color: transparent;\n",
              "      border-right-color: var(--fill-color);\n",
              "      border-bottom-color: var(--fill-color);\n",
              "    }\n",
              "    90% {\n",
              "      border-color: transparent;\n",
              "      border-bottom-color: var(--fill-color);\n",
              "    }\n",
              "  }\n",
              "</style>\n",
              "\n",
              "  <script>\n",
              "    async function quickchart(key) {\n",
              "      const quickchartButtonEl =\n",
              "        document.querySelector('#' + key + ' button');\n",
              "      quickchartButtonEl.disabled = true;  // To prevent multiple clicks.\n",
              "      quickchartButtonEl.classList.add('colab-df-spinner');\n",
              "      try {\n",
              "        const charts = await google.colab.kernel.invokeFunction(\n",
              "            'suggestCharts', [key], {});\n",
              "      } catch (error) {\n",
              "        console.error('Error during call to suggestCharts:', error);\n",
              "      }\n",
              "      quickchartButtonEl.classList.remove('colab-df-spinner');\n",
              "      quickchartButtonEl.classList.add('colab-df-quickchart-complete');\n",
              "    }\n",
              "    (() => {\n",
              "      let quickchartButtonEl =\n",
              "        document.querySelector('#df-ee337a28-e7f6-4069-bc0b-0fc06224cfd5 button');\n",
              "      quickchartButtonEl.style.display =\n",
              "        google.colab.kernel.accessAllowed ? 'block' : 'none';\n",
              "    })();\n",
              "  </script>\n",
              "</div>\n",
              "    </div>\n",
              "  </div>\n"
            ]
          },
          "metadata": {},
          "execution_count": 239
        }
      ]
    },
    {
      "cell_type": "markdown",
      "source": [
        "### 3.Determinação da quantidade de alunos em cada grupo racial/étnico"
      ],
      "metadata": {
        "id": "akmEykXOg4LY"
      }
    },
    {
      "cell_type": "markdown",
      "source": [
        "Utilizamos o método 'value_counts()' para fazer a contagem dos dados dentro da coluna"
      ],
      "metadata": {
        "id": "p4iYUTerFsI_"
      }
    },
    {
      "cell_type": "code",
      "source": [
        "df['raca/etnia'].value_counts()"
      ],
      "metadata": {
        "id": "rwwQj6kpUdjJ",
        "colab": {
          "base_uri": "https://localhost:8080/"
        },
        "outputId": "51f20cb5-9973-4121-e441-21f050d89dc8"
      },
      "execution_count": 240,
      "outputs": [
        {
          "output_type": "execute_result",
          "data": {
            "text/plain": [
              "Branco_outros       319\n",
              "M_B_Caribenho       262\n",
              "Branco_Irlandes     190\n",
              "M_B_Negro_Afr       140\n",
              "Branco_Britanico     89\n",
              "Name: raca/etnia, dtype: int64"
            ]
          },
          "metadata": {},
          "execution_count": 240
        }
      ]
    },
    {
      "cell_type": "markdown",
      "source": [
        "Utilizamos o parâmetro \"normalize\" porque ele calcular a proporção"
      ],
      "metadata": {
        "id": "nDDV_XWWGA21"
      }
    },
    {
      "cell_type": "code",
      "source": [
        "df['raca/etnia'].value_counts(normalize=True)"
      ],
      "metadata": {
        "id": "AiJLLVowhGZY",
        "colab": {
          "base_uri": "https://localhost:8080/"
        },
        "outputId": "3ee9e9fa-8b14-4968-a660-16ea2ab6311a"
      },
      "execution_count": 241,
      "outputs": [
        {
          "output_type": "execute_result",
          "data": {
            "text/plain": [
              "Branco_outros       0.319\n",
              "M_B_Caribenho       0.262\n",
              "Branco_Irlandes     0.190\n",
              "M_B_Negro_Afr       0.140\n",
              "Branco_Britanico    0.089\n",
              "Name: raca/etnia, dtype: float64"
            ]
          },
          "metadata": {},
          "execution_count": 241
        }
      ]
    },
    {
      "cell_type": "code",
      "source": [
        "# Fazendo a tabela de distribuição de frequência\n",
        "frequencia_raca = df['raca/etnia'].value_counts()\n",
        "percentual_raca = df['raca/etnia'].value_counts(normalize=True) *100\n",
        "dist_freq_raca = pd.DataFrame({'Frequência': frequencia_raca, 'Porcentagem (%)': percentual_raca})\n",
        "dist_freq_raca.rename_axis('Raça/Etnia', axis= 'columns', inplace = True)"
      ],
      "metadata": {
        "id": "_pOQbwMqjRlv"
      },
      "execution_count": 242,
      "outputs": []
    },
    {
      "cell_type": "markdown",
      "source": [
        "No código acima foram designadas variáveis para a frequencia absoluta e relativa(percentual), nas quais colocamos os códigos anteriores, depois criamos um novo DataFrame para receber esses dados e ao final renomeamos o título da coluna que contém os dados únicos respectivos."
      ],
      "metadata": {
        "id": "GVn64mGvo33i"
      }
    },
    {
      "cell_type": "code",
      "source": [
        "#Mostrando a tabela de frequêcia de alunos por raça/etnia\n",
        "dist_freq_raca"
      ],
      "metadata": {
        "id": "W5SHML4WkeEH",
        "colab": {
          "base_uri": "https://localhost:8080/",
          "height": 206
        },
        "outputId": "41e09cd9-c529-408d-d633-04a53a80d676"
      },
      "execution_count": 243,
      "outputs": [
        {
          "output_type": "execute_result",
          "data": {
            "text/plain": [
              "Raça/Etnia        Frequência  Porcentagem (%)\n",
              "Branco_outros            319             31.9\n",
              "M_B_Caribenho            262             26.2\n",
              "Branco_Irlandes          190             19.0\n",
              "M_B_Negro_Afr            140             14.0\n",
              "Branco_Britanico          89              8.9"
            ],
            "text/html": [
              "\n",
              "  <div id=\"df-191ec633-ee37-4ef8-9403-fe1820e7dc46\" class=\"colab-df-container\">\n",
              "    <div>\n",
              "<style scoped>\n",
              "    .dataframe tbody tr th:only-of-type {\n",
              "        vertical-align: middle;\n",
              "    }\n",
              "\n",
              "    .dataframe tbody tr th {\n",
              "        vertical-align: top;\n",
              "    }\n",
              "\n",
              "    .dataframe thead th {\n",
              "        text-align: right;\n",
              "    }\n",
              "</style>\n",
              "<table border=\"1\" class=\"dataframe\">\n",
              "  <thead>\n",
              "    <tr style=\"text-align: right;\">\n",
              "      <th>Raça/Etnia</th>\n",
              "      <th>Frequência</th>\n",
              "      <th>Porcentagem (%)</th>\n",
              "    </tr>\n",
              "  </thead>\n",
              "  <tbody>\n",
              "    <tr>\n",
              "      <th>Branco_outros</th>\n",
              "      <td>319</td>\n",
              "      <td>31.9</td>\n",
              "    </tr>\n",
              "    <tr>\n",
              "      <th>M_B_Caribenho</th>\n",
              "      <td>262</td>\n",
              "      <td>26.2</td>\n",
              "    </tr>\n",
              "    <tr>\n",
              "      <th>Branco_Irlandes</th>\n",
              "      <td>190</td>\n",
              "      <td>19.0</td>\n",
              "    </tr>\n",
              "    <tr>\n",
              "      <th>M_B_Negro_Afr</th>\n",
              "      <td>140</td>\n",
              "      <td>14.0</td>\n",
              "    </tr>\n",
              "    <tr>\n",
              "      <th>Branco_Britanico</th>\n",
              "      <td>89</td>\n",
              "      <td>8.9</td>\n",
              "    </tr>\n",
              "  </tbody>\n",
              "</table>\n",
              "</div>\n",
              "    <div class=\"colab-df-buttons\">\n",
              "\n",
              "  <div class=\"colab-df-container\">\n",
              "    <button class=\"colab-df-convert\" onclick=\"convertToInteractive('df-191ec633-ee37-4ef8-9403-fe1820e7dc46')\"\n",
              "            title=\"Convert this dataframe to an interactive table.\"\n",
              "            style=\"display:none;\">\n",
              "\n",
              "  <svg xmlns=\"http://www.w3.org/2000/svg\" height=\"24px\" viewBox=\"0 -960 960 960\">\n",
              "    <path d=\"M120-120v-720h720v720H120Zm60-500h600v-160H180v160Zm220 220h160v-160H400v160Zm0 220h160v-160H400v160ZM180-400h160v-160H180v160Zm440 0h160v-160H620v160ZM180-180h160v-160H180v160Zm440 0h160v-160H620v160Z\"/>\n",
              "  </svg>\n",
              "    </button>\n",
              "\n",
              "  <style>\n",
              "    .colab-df-container {\n",
              "      display:flex;\n",
              "      gap: 12px;\n",
              "    }\n",
              "\n",
              "    .colab-df-convert {\n",
              "      background-color: #E8F0FE;\n",
              "      border: none;\n",
              "      border-radius: 50%;\n",
              "      cursor: pointer;\n",
              "      display: none;\n",
              "      fill: #1967D2;\n",
              "      height: 32px;\n",
              "      padding: 0 0 0 0;\n",
              "      width: 32px;\n",
              "    }\n",
              "\n",
              "    .colab-df-convert:hover {\n",
              "      background-color: #E2EBFA;\n",
              "      box-shadow: 0px 1px 2px rgba(60, 64, 67, 0.3), 0px 1px 3px 1px rgba(60, 64, 67, 0.15);\n",
              "      fill: #174EA6;\n",
              "    }\n",
              "\n",
              "    .colab-df-buttons div {\n",
              "      margin-bottom: 4px;\n",
              "    }\n",
              "\n",
              "    [theme=dark] .colab-df-convert {\n",
              "      background-color: #3B4455;\n",
              "      fill: #D2E3FC;\n",
              "    }\n",
              "\n",
              "    [theme=dark] .colab-df-convert:hover {\n",
              "      background-color: #434B5C;\n",
              "      box-shadow: 0px 1px 3px 1px rgba(0, 0, 0, 0.15);\n",
              "      filter: drop-shadow(0px 1px 2px rgba(0, 0, 0, 0.3));\n",
              "      fill: #FFFFFF;\n",
              "    }\n",
              "  </style>\n",
              "\n",
              "    <script>\n",
              "      const buttonEl =\n",
              "        document.querySelector('#df-191ec633-ee37-4ef8-9403-fe1820e7dc46 button.colab-df-convert');\n",
              "      buttonEl.style.display =\n",
              "        google.colab.kernel.accessAllowed ? 'block' : 'none';\n",
              "\n",
              "      async function convertToInteractive(key) {\n",
              "        const element = document.querySelector('#df-191ec633-ee37-4ef8-9403-fe1820e7dc46');\n",
              "        const dataTable =\n",
              "          await google.colab.kernel.invokeFunction('convertToInteractive',\n",
              "                                                    [key], {});\n",
              "        if (!dataTable) return;\n",
              "\n",
              "        const docLinkHtml = 'Like what you see? Visit the ' +\n",
              "          '<a target=\"_blank\" href=https://colab.research.google.com/notebooks/data_table.ipynb>data table notebook</a>'\n",
              "          + ' to learn more about interactive tables.';\n",
              "        element.innerHTML = '';\n",
              "        dataTable['output_type'] = 'display_data';\n",
              "        await google.colab.output.renderOutput(dataTable, element);\n",
              "        const docLink = document.createElement('div');\n",
              "        docLink.innerHTML = docLinkHtml;\n",
              "        element.appendChild(docLink);\n",
              "      }\n",
              "    </script>\n",
              "  </div>\n",
              "\n",
              "\n",
              "<div id=\"df-23e224ce-45f2-4600-be91-2030405a37d6\">\n",
              "  <button class=\"colab-df-quickchart\" onclick=\"quickchart('df-23e224ce-45f2-4600-be91-2030405a37d6')\"\n",
              "            title=\"Suggest charts.\"\n",
              "            style=\"display:none;\">\n",
              "\n",
              "<svg xmlns=\"http://www.w3.org/2000/svg\" height=\"24px\"viewBox=\"0 0 24 24\"\n",
              "     width=\"24px\">\n",
              "    <g>\n",
              "        <path d=\"M19 3H5c-1.1 0-2 .9-2 2v14c0 1.1.9 2 2 2h14c1.1 0 2-.9 2-2V5c0-1.1-.9-2-2-2zM9 17H7v-7h2v7zm4 0h-2V7h2v10zm4 0h-2v-4h2v4z\"/>\n",
              "    </g>\n",
              "</svg>\n",
              "  </button>\n",
              "\n",
              "<style>\n",
              "  .colab-df-quickchart {\n",
              "      --bg-color: #E8F0FE;\n",
              "      --fill-color: #1967D2;\n",
              "      --hover-bg-color: #E2EBFA;\n",
              "      --hover-fill-color: #174EA6;\n",
              "      --disabled-fill-color: #AAA;\n",
              "      --disabled-bg-color: #DDD;\n",
              "  }\n",
              "\n",
              "  [theme=dark] .colab-df-quickchart {\n",
              "      --bg-color: #3B4455;\n",
              "      --fill-color: #D2E3FC;\n",
              "      --hover-bg-color: #434B5C;\n",
              "      --hover-fill-color: #FFFFFF;\n",
              "      --disabled-bg-color: #3B4455;\n",
              "      --disabled-fill-color: #666;\n",
              "  }\n",
              "\n",
              "  .colab-df-quickchart {\n",
              "    background-color: var(--bg-color);\n",
              "    border: none;\n",
              "    border-radius: 50%;\n",
              "    cursor: pointer;\n",
              "    display: none;\n",
              "    fill: var(--fill-color);\n",
              "    height: 32px;\n",
              "    padding: 0;\n",
              "    width: 32px;\n",
              "  }\n",
              "\n",
              "  .colab-df-quickchart:hover {\n",
              "    background-color: var(--hover-bg-color);\n",
              "    box-shadow: 0 1px 2px rgba(60, 64, 67, 0.3), 0 1px 3px 1px rgba(60, 64, 67, 0.15);\n",
              "    fill: var(--button-hover-fill-color);\n",
              "  }\n",
              "\n",
              "  .colab-df-quickchart-complete:disabled,\n",
              "  .colab-df-quickchart-complete:disabled:hover {\n",
              "    background-color: var(--disabled-bg-color);\n",
              "    fill: var(--disabled-fill-color);\n",
              "    box-shadow: none;\n",
              "  }\n",
              "\n",
              "  .colab-df-spinner {\n",
              "    border: 2px solid var(--fill-color);\n",
              "    border-color: transparent;\n",
              "    border-bottom-color: var(--fill-color);\n",
              "    animation:\n",
              "      spin 1s steps(1) infinite;\n",
              "  }\n",
              "\n",
              "  @keyframes spin {\n",
              "    0% {\n",
              "      border-color: transparent;\n",
              "      border-bottom-color: var(--fill-color);\n",
              "      border-left-color: var(--fill-color);\n",
              "    }\n",
              "    20% {\n",
              "      border-color: transparent;\n",
              "      border-left-color: var(--fill-color);\n",
              "      border-top-color: var(--fill-color);\n",
              "    }\n",
              "    30% {\n",
              "      border-color: transparent;\n",
              "      border-left-color: var(--fill-color);\n",
              "      border-top-color: var(--fill-color);\n",
              "      border-right-color: var(--fill-color);\n",
              "    }\n",
              "    40% {\n",
              "      border-color: transparent;\n",
              "      border-right-color: var(--fill-color);\n",
              "      border-top-color: var(--fill-color);\n",
              "    }\n",
              "    60% {\n",
              "      border-color: transparent;\n",
              "      border-right-color: var(--fill-color);\n",
              "    }\n",
              "    80% {\n",
              "      border-color: transparent;\n",
              "      border-right-color: var(--fill-color);\n",
              "      border-bottom-color: var(--fill-color);\n",
              "    }\n",
              "    90% {\n",
              "      border-color: transparent;\n",
              "      border-bottom-color: var(--fill-color);\n",
              "    }\n",
              "  }\n",
              "</style>\n",
              "\n",
              "  <script>\n",
              "    async function quickchart(key) {\n",
              "      const quickchartButtonEl =\n",
              "        document.querySelector('#' + key + ' button');\n",
              "      quickchartButtonEl.disabled = true;  // To prevent multiple clicks.\n",
              "      quickchartButtonEl.classList.add('colab-df-spinner');\n",
              "      try {\n",
              "        const charts = await google.colab.kernel.invokeFunction(\n",
              "            'suggestCharts', [key], {});\n",
              "      } catch (error) {\n",
              "        console.error('Error during call to suggestCharts:', error);\n",
              "      }\n",
              "      quickchartButtonEl.classList.remove('colab-df-spinner');\n",
              "      quickchartButtonEl.classList.add('colab-df-quickchart-complete');\n",
              "    }\n",
              "    (() => {\n",
              "      let quickchartButtonEl =\n",
              "        document.querySelector('#df-23e224ce-45f2-4600-be91-2030405a37d6 button');\n",
              "      quickchartButtonEl.style.display =\n",
              "        google.colab.kernel.accessAllowed ? 'block' : 'none';\n",
              "    })();\n",
              "  </script>\n",
              "</div>\n",
              "    </div>\n",
              "  </div>\n"
            ]
          },
          "metadata": {},
          "execution_count": 243
        }
      ]
    },
    {
      "cell_type": "markdown",
      "source": [
        "### 4.Determinação da quantidade de alunos de cada gênero"
      ],
      "metadata": {
        "id": "pwp8womxnSQ7"
      }
    },
    {
      "cell_type": "markdown",
      "source": [
        "Aqui nós optamos por usar o mesmo método que foi utilizado no exercício anterior"
      ],
      "metadata": {
        "id": "VM2yfmZHpsww"
      }
    },
    {
      "cell_type": "code",
      "source": [
        "df['genero'].value_counts().sort_index()"
      ],
      "metadata": {
        "id": "eUVSWQ59VC4F",
        "colab": {
          "base_uri": "https://localhost:8080/"
        },
        "outputId": "a3719d08-cb7e-419d-9cd0-98b014f3c794"
      },
      "execution_count": 244,
      "outputs": [
        {
          "output_type": "execute_result",
          "data": {
            "text/plain": [
              "feminino     518\n",
              "masculino    482\n",
              "Name: genero, dtype: int64"
            ]
          },
          "metadata": {},
          "execution_count": 244
        }
      ]
    },
    {
      "cell_type": "code",
      "source": [
        "df['genero'].value_counts(normalize=True)"
      ],
      "metadata": {
        "id": "NKaWu5lNnqjL",
        "colab": {
          "base_uri": "https://localhost:8080/"
        },
        "outputId": "71fcfef6-d135-4a81-f558-5fdd8e8a0776"
      },
      "execution_count": 245,
      "outputs": [
        {
          "output_type": "execute_result",
          "data": {
            "text/plain": [
              "feminino     0.518\n",
              "masculino    0.482\n",
              "Name: genero, dtype: float64"
            ]
          },
          "metadata": {},
          "execution_count": 245
        }
      ]
    },
    {
      "cell_type": "code",
      "source": [
        "# Fazendo a tabela de distribuição de frequência\n",
        "frequencia_genero = df['genero'].value_counts()\n",
        "percentual_genero = df['genero'].value_counts(normalize=True) *100\n",
        "dist_freq_genero = pd.DataFrame({'Frequência': frequencia_genero, 'Porcentagem (%)': percentual_genero})\n",
        "dist_freq_genero.rename_axis('Gênero', axis= 'columns', inplace = True)"
      ],
      "metadata": {
        "id": "KDJw5Lspn4bj"
      },
      "execution_count": 246,
      "outputs": []
    },
    {
      "cell_type": "code",
      "source": [
        "# Mostrando a tabela de frequência da quantidade de alunos por gênero\n",
        "dist_freq_gender"
      ],
      "metadata": {
        "id": "-atBEZIgoSYb",
        "colab": {
          "base_uri": "https://localhost:8080/",
          "height": 112
        },
        "outputId": "ff5008a1-6582-4ad9-b03e-7f6cd7f18a15"
      },
      "execution_count": 247,
      "outputs": [
        {
          "output_type": "execute_result",
          "data": {
            "text/plain": [
              "Gênero  Frequência  Porcentagem (%)\n",
              "female         518             51.8\n",
              "male           482             48.2"
            ],
            "text/html": [
              "\n",
              "  <div id=\"df-ec554032-9f7d-459f-ae12-461abdd0691d\" class=\"colab-df-container\">\n",
              "    <div>\n",
              "<style scoped>\n",
              "    .dataframe tbody tr th:only-of-type {\n",
              "        vertical-align: middle;\n",
              "    }\n",
              "\n",
              "    .dataframe tbody tr th {\n",
              "        vertical-align: top;\n",
              "    }\n",
              "\n",
              "    .dataframe thead th {\n",
              "        text-align: right;\n",
              "    }\n",
              "</style>\n",
              "<table border=\"1\" class=\"dataframe\">\n",
              "  <thead>\n",
              "    <tr style=\"text-align: right;\">\n",
              "      <th>Gênero</th>\n",
              "      <th>Frequência</th>\n",
              "      <th>Porcentagem (%)</th>\n",
              "    </tr>\n",
              "  </thead>\n",
              "  <tbody>\n",
              "    <tr>\n",
              "      <th>female</th>\n",
              "      <td>518</td>\n",
              "      <td>51.8</td>\n",
              "    </tr>\n",
              "    <tr>\n",
              "      <th>male</th>\n",
              "      <td>482</td>\n",
              "      <td>48.2</td>\n",
              "    </tr>\n",
              "  </tbody>\n",
              "</table>\n",
              "</div>\n",
              "    <div class=\"colab-df-buttons\">\n",
              "\n",
              "  <div class=\"colab-df-container\">\n",
              "    <button class=\"colab-df-convert\" onclick=\"convertToInteractive('df-ec554032-9f7d-459f-ae12-461abdd0691d')\"\n",
              "            title=\"Convert this dataframe to an interactive table.\"\n",
              "            style=\"display:none;\">\n",
              "\n",
              "  <svg xmlns=\"http://www.w3.org/2000/svg\" height=\"24px\" viewBox=\"0 -960 960 960\">\n",
              "    <path d=\"M120-120v-720h720v720H120Zm60-500h600v-160H180v160Zm220 220h160v-160H400v160Zm0 220h160v-160H400v160ZM180-400h160v-160H180v160Zm440 0h160v-160H620v160ZM180-180h160v-160H180v160Zm440 0h160v-160H620v160Z\"/>\n",
              "  </svg>\n",
              "    </button>\n",
              "\n",
              "  <style>\n",
              "    .colab-df-container {\n",
              "      display:flex;\n",
              "      gap: 12px;\n",
              "    }\n",
              "\n",
              "    .colab-df-convert {\n",
              "      background-color: #E8F0FE;\n",
              "      border: none;\n",
              "      border-radius: 50%;\n",
              "      cursor: pointer;\n",
              "      display: none;\n",
              "      fill: #1967D2;\n",
              "      height: 32px;\n",
              "      padding: 0 0 0 0;\n",
              "      width: 32px;\n",
              "    }\n",
              "\n",
              "    .colab-df-convert:hover {\n",
              "      background-color: #E2EBFA;\n",
              "      box-shadow: 0px 1px 2px rgba(60, 64, 67, 0.3), 0px 1px 3px 1px rgba(60, 64, 67, 0.15);\n",
              "      fill: #174EA6;\n",
              "    }\n",
              "\n",
              "    .colab-df-buttons div {\n",
              "      margin-bottom: 4px;\n",
              "    }\n",
              "\n",
              "    [theme=dark] .colab-df-convert {\n",
              "      background-color: #3B4455;\n",
              "      fill: #D2E3FC;\n",
              "    }\n",
              "\n",
              "    [theme=dark] .colab-df-convert:hover {\n",
              "      background-color: #434B5C;\n",
              "      box-shadow: 0px 1px 3px 1px rgba(0, 0, 0, 0.15);\n",
              "      filter: drop-shadow(0px 1px 2px rgba(0, 0, 0, 0.3));\n",
              "      fill: #FFFFFF;\n",
              "    }\n",
              "  </style>\n",
              "\n",
              "    <script>\n",
              "      const buttonEl =\n",
              "        document.querySelector('#df-ec554032-9f7d-459f-ae12-461abdd0691d button.colab-df-convert');\n",
              "      buttonEl.style.display =\n",
              "        google.colab.kernel.accessAllowed ? 'block' : 'none';\n",
              "\n",
              "      async function convertToInteractive(key) {\n",
              "        const element = document.querySelector('#df-ec554032-9f7d-459f-ae12-461abdd0691d');\n",
              "        const dataTable =\n",
              "          await google.colab.kernel.invokeFunction('convertToInteractive',\n",
              "                                                    [key], {});\n",
              "        if (!dataTable) return;\n",
              "\n",
              "        const docLinkHtml = 'Like what you see? Visit the ' +\n",
              "          '<a target=\"_blank\" href=https://colab.research.google.com/notebooks/data_table.ipynb>data table notebook</a>'\n",
              "          + ' to learn more about interactive tables.';\n",
              "        element.innerHTML = '';\n",
              "        dataTable['output_type'] = 'display_data';\n",
              "        await google.colab.output.renderOutput(dataTable, element);\n",
              "        const docLink = document.createElement('div');\n",
              "        docLink.innerHTML = docLinkHtml;\n",
              "        element.appendChild(docLink);\n",
              "      }\n",
              "    </script>\n",
              "  </div>\n",
              "\n",
              "\n",
              "<div id=\"df-6ba7c229-1005-4a2f-be84-8704b9469777\">\n",
              "  <button class=\"colab-df-quickchart\" onclick=\"quickchart('df-6ba7c229-1005-4a2f-be84-8704b9469777')\"\n",
              "            title=\"Suggest charts.\"\n",
              "            style=\"display:none;\">\n",
              "\n",
              "<svg xmlns=\"http://www.w3.org/2000/svg\" height=\"24px\"viewBox=\"0 0 24 24\"\n",
              "     width=\"24px\">\n",
              "    <g>\n",
              "        <path d=\"M19 3H5c-1.1 0-2 .9-2 2v14c0 1.1.9 2 2 2h14c1.1 0 2-.9 2-2V5c0-1.1-.9-2-2-2zM9 17H7v-7h2v7zm4 0h-2V7h2v10zm4 0h-2v-4h2v4z\"/>\n",
              "    </g>\n",
              "</svg>\n",
              "  </button>\n",
              "\n",
              "<style>\n",
              "  .colab-df-quickchart {\n",
              "      --bg-color: #E8F0FE;\n",
              "      --fill-color: #1967D2;\n",
              "      --hover-bg-color: #E2EBFA;\n",
              "      --hover-fill-color: #174EA6;\n",
              "      --disabled-fill-color: #AAA;\n",
              "      --disabled-bg-color: #DDD;\n",
              "  }\n",
              "\n",
              "  [theme=dark] .colab-df-quickchart {\n",
              "      --bg-color: #3B4455;\n",
              "      --fill-color: #D2E3FC;\n",
              "      --hover-bg-color: #434B5C;\n",
              "      --hover-fill-color: #FFFFFF;\n",
              "      --disabled-bg-color: #3B4455;\n",
              "      --disabled-fill-color: #666;\n",
              "  }\n",
              "\n",
              "  .colab-df-quickchart {\n",
              "    background-color: var(--bg-color);\n",
              "    border: none;\n",
              "    border-radius: 50%;\n",
              "    cursor: pointer;\n",
              "    display: none;\n",
              "    fill: var(--fill-color);\n",
              "    height: 32px;\n",
              "    padding: 0;\n",
              "    width: 32px;\n",
              "  }\n",
              "\n",
              "  .colab-df-quickchart:hover {\n",
              "    background-color: var(--hover-bg-color);\n",
              "    box-shadow: 0 1px 2px rgba(60, 64, 67, 0.3), 0 1px 3px 1px rgba(60, 64, 67, 0.15);\n",
              "    fill: var(--button-hover-fill-color);\n",
              "  }\n",
              "\n",
              "  .colab-df-quickchart-complete:disabled,\n",
              "  .colab-df-quickchart-complete:disabled:hover {\n",
              "    background-color: var(--disabled-bg-color);\n",
              "    fill: var(--disabled-fill-color);\n",
              "    box-shadow: none;\n",
              "  }\n",
              "\n",
              "  .colab-df-spinner {\n",
              "    border: 2px solid var(--fill-color);\n",
              "    border-color: transparent;\n",
              "    border-bottom-color: var(--fill-color);\n",
              "    animation:\n",
              "      spin 1s steps(1) infinite;\n",
              "  }\n",
              "\n",
              "  @keyframes spin {\n",
              "    0% {\n",
              "      border-color: transparent;\n",
              "      border-bottom-color: var(--fill-color);\n",
              "      border-left-color: var(--fill-color);\n",
              "    }\n",
              "    20% {\n",
              "      border-color: transparent;\n",
              "      border-left-color: var(--fill-color);\n",
              "      border-top-color: var(--fill-color);\n",
              "    }\n",
              "    30% {\n",
              "      border-color: transparent;\n",
              "      border-left-color: var(--fill-color);\n",
              "      border-top-color: var(--fill-color);\n",
              "      border-right-color: var(--fill-color);\n",
              "    }\n",
              "    40% {\n",
              "      border-color: transparent;\n",
              "      border-right-color: var(--fill-color);\n",
              "      border-top-color: var(--fill-color);\n",
              "    }\n",
              "    60% {\n",
              "      border-color: transparent;\n",
              "      border-right-color: var(--fill-color);\n",
              "    }\n",
              "    80% {\n",
              "      border-color: transparent;\n",
              "      border-right-color: var(--fill-color);\n",
              "      border-bottom-color: var(--fill-color);\n",
              "    }\n",
              "    90% {\n",
              "      border-color: transparent;\n",
              "      border-bottom-color: var(--fill-color);\n",
              "    }\n",
              "  }\n",
              "</style>\n",
              "\n",
              "  <script>\n",
              "    async function quickchart(key) {\n",
              "      const quickchartButtonEl =\n",
              "        document.querySelector('#' + key + ' button');\n",
              "      quickchartButtonEl.disabled = true;  // To prevent multiple clicks.\n",
              "      quickchartButtonEl.classList.add('colab-df-spinner');\n",
              "      try {\n",
              "        const charts = await google.colab.kernel.invokeFunction(\n",
              "            'suggestCharts', [key], {});\n",
              "      } catch (error) {\n",
              "        console.error('Error during call to suggestCharts:', error);\n",
              "      }\n",
              "      quickchartButtonEl.classList.remove('colab-df-spinner');\n",
              "      quickchartButtonEl.classList.add('colab-df-quickchart-complete');\n",
              "    }\n",
              "    (() => {\n",
              "      let quickchartButtonEl =\n",
              "        document.querySelector('#df-6ba7c229-1005-4a2f-be84-8704b9469777 button');\n",
              "      quickchartButtonEl.style.display =\n",
              "        google.colab.kernel.accessAllowed ? 'block' : 'none';\n",
              "    })();\n",
              "  </script>\n",
              "</div>\n",
              "    </div>\n",
              "  </div>\n"
            ]
          },
          "metadata": {},
          "execution_count": 247
        }
      ]
    },
    {
      "cell_type": "markdown",
      "source": [
        "Observa-se na tabela de frequência que no grupo em questão existem mais homens que mulheres sendo que elas representam 51,8% do total de alunos com 518 integrantes."
      ],
      "metadata": {
        "id": "PK9gO_RQqqeU"
      }
    },
    {
      "cell_type": "markdown",
      "source": [
        "###**5.**\n",
        "a)Analisar a nota de matemática dos alunos de forma mais completa possível.\n",
        "\n",
        "Qual a nota média de matemática dos alunos segundo o grau de\n",
        "escolaridade dos pais?\n",
        "\n",
        "b)Fazer também para leitura\n",
        "\n",
        "c)Fazer também para escrita\n",
        "\n",
        "d)Verificar gráficamente a relação da nota de leitura e de escrita"
      ],
      "metadata": {
        "id": "hMppfV0uVfb3"
      }
    },
    {
      "cell_type": "markdown",
      "source": [
        "#### a) Análise da nota de Matemática"
      ],
      "metadata": {
        "id": "qMBghsOKvjSR"
      }
    },
    {
      "cell_type": "code",
      "source": [
        "df['nota_matematica'].describe()"
      ],
      "metadata": {
        "id": "lnOHEOaEVepa",
        "colab": {
          "base_uri": "https://localhost:8080/"
        },
        "outputId": "821a0e44-8626-41e3-88df-d5ba6232c334"
      },
      "execution_count": 248,
      "outputs": [
        {
          "output_type": "execute_result",
          "data": {
            "text/plain": [
              "count    1000.00000\n",
              "mean       66.08900\n",
              "std        15.16308\n",
              "min         0.00000\n",
              "25%        57.00000\n",
              "50%        66.00000\n",
              "75%        77.00000\n",
              "max       100.00000\n",
              "Name: nota_matematica, dtype: float64"
            ]
          },
          "metadata": {},
          "execution_count": 248
        }
      ]
    },
    {
      "cell_type": "markdown",
      "source": [
        "Acima tem os valores da média e mediana(50%) que são bem parecidas indicando que se trata provavelmente de uma curva sem calda. Também é possivel observar os delimitadores dos quartis e os valores máximos e mínimos e o desvio padrão"
      ],
      "metadata": {
        "id": "yu6AR5x69xdK"
      }
    },
    {
      "cell_type": "code",
      "source": [
        "# Descobrindo a moda(nota que mais se repete)\n",
        "df['nota_matematica'].mode()"
      ],
      "metadata": {
        "id": "gcxx9HNz9RND",
        "colab": {
          "base_uri": "https://localhost:8080/"
        },
        "outputId": "02ea8493-ba2d-4eac-bc88-bdffae0ad8a6"
      },
      "execution_count": 249,
      "outputs": [
        {
          "output_type": "execute_result",
          "data": {
            "text/plain": [
              "0    65\n",
              "Name: nota_matematica, dtype: int64"
            ]
          },
          "metadata": {},
          "execution_count": 249
        }
      ]
    },
    {
      "cell_type": "code",
      "source": [
        "# Verificando a distribuição de frequência das notas de matemática\n",
        "fig, ax = sns.histplot(df['nota_matematica'], kde=True, edgecolor=None).figure, plt.gca()\n",
        "fig.set_size_inches(12, 6)\n",
        "ax.set_title('Distribuição de Frequências - Notas de Matemática', fontsize=18)\n",
        "ax.set_xlabel('Notas', fontsize=14)\n",
        "ax.set_ylabel('Frequência', fontsize=14)"
      ],
      "metadata": {
        "id": "NR6BIiWE7vnU",
        "colab": {
          "base_uri": "https://localhost:8080/",
          "height": 593
        },
        "outputId": "b67b297e-1f5f-4268-889b-7130cff414a2"
      },
      "execution_count": 262,
      "outputs": [
        {
          "output_type": "execute_result",
          "data": {
            "text/plain": [
              "Text(0, 0.5, 'Frequência')"
            ]
          },
          "metadata": {},
          "execution_count": 262
        },
        {
          "output_type": "display_data",
          "data": {
            "text/plain": [
              "<Figure size 1200x600 with 1 Axes>"
            ],
            "image/png": "[encoded data removed]"
          },
          "metadata": {}
        }
      ]
    },
    {
      "cell_type": "code",
      "source": [
        "#Calculando a nota média de matemática dos alunos segundo o grau de escolaridade dos pais\n",
        "df.groupby('escolaridade_dos_pais')['nota_matematica'].mean().sort_values(ascending=False)"
      ],
      "metadata": {
        "id": "Vv-pApiXX-Af",
        "colab": {
          "base_uri": "https://localhost:8080/"
        },
        "outputId": "026fa597-d8b9-43e6-ab6e-9fdd4a924d10"
      },
      "execution_count": 251,
      "outputs": [
        {
          "output_type": "execute_result",
          "data": {
            "text/plain": [
              "escolaridade_dos_pais\n",
              "mestrado               69.745763\n",
              "bacharelado            69.389831\n",
              "tecnólogo              67.882883\n",
              "superior_incompleto    67.128319\n",
              "nao_concluiu_EM        63.497207\n",
              "EM_completo            62.137755\n",
              "Name: nota_matematica, dtype: float64"
            ]
          },
          "metadata": {},
          "execution_count": 251
        }
      ]
    },
    {
      "cell_type": "markdown",
      "source": [
        "Nota-se que quanto maior o grau de escolaridade dos pais, maior a nota média de matemática. Com exceção apenas para o fato de que filhos que possuem pais que não concluiram o ensino médio possuem uma média maior que de pais que completaram o ensino médio."
      ],
      "metadata": {
        "id": "1heZC3mT9ry7"
      }
    },
    {
      "cell_type": "code",
      "source": [
        "# Gráfico de barras pra visualizar a análise acima\n",
        "media_mat_pais = df.groupby('escolaridade_dos_pais')['nota_matematica'].mean().sort_values(ascending=False)\n",
        "\n",
        "plt.figure(figsize=(10, 6))\n",
        "sns.barplot(x=media_mat_pais.index, y=media_mat_pais.values, palette=\"Blues_r\")\n",
        "plt.title('Média de matemática pela Escolaridade dos Pais', fontsize=18)\n",
        "plt.xlabel('Escolaridade dos Pais', fontsize=14)\n",
        "plt.ylabel('Média de Notas', fontsize=14)\n",
        "plt.xticks(rotation=45)\n",
        "\n",
        "plt.tight_layout()\n",
        "plt.show()"
      ],
      "metadata": {
        "colab": {
          "base_uri": "https://localhost:8080/",
          "height": 607
        },
        "id": "ouQ-NaV8RNC2",
        "outputId": "cc86bb16-3f0f-47ed-855d-06e626bed33b"
      },
      "execution_count": 267,
      "outputs": [
        {
          "output_type": "display_data",
          "data": {
            "text/plain": [
              "<Figure size 1000x600 with 1 Axes>"
            ],
            "image/png": "[encoded data removed]"
          },
          "metadata": {}
        }
      ]
    },
    {
      "cell_type": "markdown",
      "source": [
        "#### b) Análise da nota de Leitura"
      ],
      "metadata": {
        "id": "KynrPgJ11G3d"
      }
    },
    {
      "cell_type": "code",
      "source": [
        "df['nota_leitura'].describe()"
      ],
      "metadata": {
        "id": "Lv8OdAk63kGG",
        "colab": {
          "base_uri": "https://localhost:8080/"
        },
        "outputId": "467ac22e-9479-457b-fb4c-421c7ad69858"
      },
      "execution_count": 252,
      "outputs": [
        {
          "output_type": "execute_result",
          "data": {
            "text/plain": [
              "count    1000.000000\n",
              "mean       69.169000\n",
              "std        14.600192\n",
              "min        17.000000\n",
              "25%        59.000000\n",
              "50%        70.000000\n",
              "75%        79.000000\n",
              "max       100.000000\n",
              "Name: nota_leitura, dtype: float64"
            ]
          },
          "metadata": {},
          "execution_count": 252
        }
      ]
    },
    {
      "cell_type": "code",
      "source": [
        "# Descobrindo a moda(nota que mais se repete)\n",
        "df['nota_leitura'].mode()"
      ],
      "metadata": {
        "id": "I9uwcIwkNhMz",
        "colab": {
          "base_uri": "https://localhost:8080/"
        },
        "outputId": "33cab0e2-2524-40e4-b88e-0fbdc805b35b"
      },
      "execution_count": 256,
      "outputs": [
        {
          "output_type": "execute_result",
          "data": {
            "text/plain": [
              "0    72\n",
              "Name: nota_leitura, dtype: int64"
            ]
          },
          "metadata": {},
          "execution_count": 256
        }
      ]
    },
    {
      "cell_type": "code",
      "source": [
        "# Verificando a distribuição de frequência das notas de leitura\n",
        "fig, ax = sns.histplot(df['nota_leitura'], kde=True, edgecolor=None).figure, plt.gca()\n",
        "fig.set_size_inches(12, 6)\n",
        "ax.set_title('Distribuição de Frequências - Notas de Leitura', fontsize=18)\n",
        "ax.set_xlabel('Notas', fontsize=14)\n",
        "ax.set_ylabel('Frequência', fontsize=14)"
      ],
      "metadata": {
        "colab": {
          "base_uri": "https://localhost:8080/",
          "height": 593
        },
        "id": "LzE8Kd95QmlX",
        "outputId": "b670da61-f482-4a5c-c3b8-f622ed931eef"
      },
      "execution_count": 261,
      "outputs": [
        {
          "output_type": "execute_result",
          "data": {
            "text/plain": [
              "Text(0, 0.5, 'Frequência')"
            ]
          },
          "metadata": {},
          "execution_count": 261
        },
        {
          "output_type": "display_data",
          "data": {
            "text/plain": [
              "<Figure size 1200x600 with 1 Axes>"
            ],
            "image/png": "[encoded data removed]"
          },
          "metadata": {}
        }
      ]
    },
    {
      "cell_type": "code",
      "source": [
        "#Verificando a nota média de leitura dos alunos segundo o grau de escolaridade dos pais\n",
        "df.groupby('escolaridade_dos_pais')['nota_leitura'].mean().sort_values(ascending=False)"
      ],
      "metadata": {
        "id": "FQjQV9Mf59g2",
        "colab": {
          "base_uri": "https://localhost:8080/"
        },
        "outputId": "b1682096-343b-47eb-c2de-fc52cce22aaa"
      },
      "execution_count": 257,
      "outputs": [
        {
          "output_type": "execute_result",
          "data": {
            "text/plain": [
              "escolaridade_dos_pais\n",
              "mestrado               75.372881\n",
              "bacharelado            73.000000\n",
              "tecnólogo              70.927928\n",
              "superior_incompleto    69.460177\n",
              "nao_concluiu_EM        66.938547\n",
              "EM_completo            64.704082\n",
              "Name: nota_leitura, dtype: float64"
            ]
          },
          "metadata": {},
          "execution_count": 257
        }
      ]
    },
    {
      "cell_type": "markdown",
      "source": [
        "Nota-se que quanto maior o grau de escolaridade dos pais, maior a nota média de leitura. Com exceção apenas para o fato de que filhos que possuem pais que não concluiram o ensino médio possuem uma média maior que de pais que completaram o ensino médio."
      ],
      "metadata": {
        "id": "HfAV3phr-P_F"
      }
    },
    {
      "cell_type": "code",
      "source": [
        "# Gráfico de barras pra visualizar a análise acima\n",
        "media_leit_pais = df.groupby('escolaridade_dos_pais')['nota_leitura'].mean().sort_values(ascending=False)\n",
        "\n",
        "plt.figure(figsize=(10, 6))\n",
        "sns.barplot(x=media_leit_pais.index, y=media_leit_pais.values, palette=\"Blues_r\")\n",
        "plt.title('Média de notas de Leitura pela Escolaridade dos Pais', fontsize=18)\n",
        "plt.xlabel('Escolaridade dos Pais', fontsize=14)\n",
        "plt.ylabel('Média de Notas', fontsize=14)\n",
        "plt.xticks(rotation=45)\n",
        "\n",
        "plt.tight_layout()\n",
        "plt.show()"
      ],
      "metadata": {
        "colab": {
          "base_uri": "https://localhost:8080/",
          "height": 607
        },
        "id": "VULp1rM4RGnD",
        "outputId": "e107ee96-e908-42b4-f6c5-fe74f16032e6"
      },
      "execution_count": 268,
      "outputs": [
        {
          "output_type": "display_data",
          "data": {
            "text/plain": [
              "<Figure size 1000x600 with 1 Axes>"
            ],
            "image/png": "[encoded data removed]"
          },
          "metadata": {}
        }
      ]
    },
    {
      "cell_type": "markdown",
      "source": [
        "#### c) Análise da nota de Escrita"
      ],
      "metadata": {
        "id": "tX3uxG_j1-fJ"
      }
    },
    {
      "cell_type": "code",
      "source": [
        "df['nota_escrita'].describe()"
      ],
      "metadata": {
        "id": "r4wahJ_T3jis",
        "colab": {
          "base_uri": "https://localhost:8080/"
        },
        "outputId": "781bb896-be97-4636-c026-65fec3f53740"
      },
      "execution_count": 269,
      "outputs": [
        {
          "output_type": "execute_result",
          "data": {
            "text/plain": [
              "count    1000.000000\n",
              "mean       68.054000\n",
              "std        15.195657\n",
              "min        10.000000\n",
              "25%        57.750000\n",
              "50%        69.000000\n",
              "75%        79.000000\n",
              "max       100.000000\n",
              "Name: nota_escrita, dtype: float64"
            ]
          },
          "metadata": {},
          "execution_count": 269
        }
      ]
    },
    {
      "cell_type": "code",
      "source": [
        "# Descobrindo a moda(nota que mais se repete)\n",
        "df['nota_escrita'].mode()"
      ],
      "metadata": {
        "id": "lOjzG0SeODUV",
        "colab": {
          "base_uri": "https://localhost:8080/"
        },
        "outputId": "1e8dc03f-9073-420d-b34c-b29530c5af7b"
      },
      "execution_count": 270,
      "outputs": [
        {
          "output_type": "execute_result",
          "data": {
            "text/plain": [
              "0    74\n",
              "Name: nota_escrita, dtype: int64"
            ]
          },
          "metadata": {},
          "execution_count": 270
        }
      ]
    },
    {
      "cell_type": "code",
      "source": [
        "# Verificando a distribuição de frequência das notas de escrita\n",
        "fig, ax = sns.histplot(df['nota_escrita'], kde=True, edgecolor=None).figure, plt.gca()\n",
        "fig.set_size_inches(12, 6)\n",
        "ax.set_title('Distribuição de Frequências - Notas de Escrita', fontsize=18)\n",
        "ax.set_xlabel('Notas', fontsize=14)\n",
        "ax.set_ylabel('Frequência', fontsize=14)"
      ],
      "metadata": {
        "colab": {
          "base_uri": "https://localhost:8080/",
          "height": 593
        },
        "id": "6nsUtxOYVKS3",
        "outputId": "1aee5b75-4512-4926-d6c1-c4c1c8d16454"
      },
      "execution_count": 273,
      "outputs": [
        {
          "output_type": "execute_result",
          "data": {
            "text/plain": [
              "Text(0, 0.5, 'Frequência')"
            ]
          },
          "metadata": {},
          "execution_count": 273
        },
        {
          "output_type": "display_data",
          "data": {
            "text/plain": [
              "<Figure size 1200x600 with 1 Axes>"
            ],
            "image/png": "[encoded data removed]"
          },
          "metadata": {}
        }
      ]
    },
    {
      "cell_type": "code",
      "source": [
        "#Verificando a nota média de escrita dos alunos segundo o grau de escolaridade dos pais`\n",
        "df.groupby('escolaridade_dos_pais')['nota_leitura'].mean().sort_values(ascending=False)"
      ],
      "metadata": {
        "id": "YJ5BjnLc6tF_",
        "colab": {
          "base_uri": "https://localhost:8080/"
        },
        "outputId": "ea8ae6a8-b13a-4231-a087-edb4fab9475b"
      },
      "execution_count": 271,
      "outputs": [
        {
          "output_type": "execute_result",
          "data": {
            "text/plain": [
              "escolaridade_dos_pais\n",
              "mestrado               75.372881\n",
              "bacharelado            73.000000\n",
              "tecnólogo              70.927928\n",
              "superior_incompleto    69.460177\n",
              "nao_concluiu_EM        66.938547\n",
              "EM_completo            64.704082\n",
              "Name: nota_leitura, dtype: float64"
            ]
          },
          "metadata": {},
          "execution_count": 271
        }
      ]
    },
    {
      "cell_type": "markdown",
      "source": [
        "Nota-se que quanto maior o grau de escolaridade dos pais, maior a nota média de escrita. Com exceção apenas para o fato de que filhos que possuem pais que não concluiram o ensino médio possuem uma média maior que de pais que completaram o ensino médio."
      ],
      "metadata": {
        "id": "A52NAj1X-YKA"
      }
    },
    {
      "cell_type": "code",
      "source": [
        "# Gráfico de barras pra visualizar a análise acima\n",
        "media_escr_pais = df.groupby('escolaridade_dos_pais')['nota_escrita'].mean().sort_values(ascending=False)\n",
        "\n",
        "plt.figure(figsize=(10, 6))\n",
        "sns.barplot(x=media_escr_pais.index, y=media_escr_pais.values, palette=\"Blues_r\")\n",
        "plt.title('Média de notas de Leitura pela Escolaridade dos Pais', fontsize=18)\n",
        "plt.xlabel('Escolaridade dos Pais', fontsize=14)\n",
        "plt.ylabel('Média de Notas', fontsize=14)\n",
        "plt.xticks(rotation=45)\n",
        "\n",
        "plt.tight_layout()\n",
        "plt.show()"
      ],
      "metadata": {
        "colab": {
          "base_uri": "https://localhost:8080/",
          "height": 607
        },
        "id": "Uun7szpRVaKJ",
        "outputId": "95debbf1-5333-409e-e248-476cc84a8be5"
      },
      "execution_count": 274,
      "outputs": [
        {
          "output_type": "display_data",
          "data": {
            "text/plain": [
              "<Figure size 1000x600 with 1 Axes>"
            ],
            "image/png": "[encoded data removed]"
          },
          "metadata": {}
        }
      ]
    },
    {
      "cell_type": "markdown",
      "source": [
        "#### d) Gráfico da relação da nota de leitura e de escrita"
      ],
      "metadata": {
        "id": "EhcYg0tT2Gvs"
      }
    },
    {
      "cell_type": "code",
      "source": [
        "#Boxplot da relação das notas de leitura e escrita\n",
        "\n",
        "ax = sns.boxplot(data=df[['nota_leitura', 'nota_escrita']], orient='h')\n",
        "ax.figure.set_size_inches(12, 4)\n",
        "ax.set_title('Relação das Notas de Leitura e Escrita', fontsize=18)\n",
        "ax.set_xlabel('Nota', fontsize=14)\n",
        "ax"
      ],
      "metadata": {
        "id": "H8D3VCRO1GC6",
        "colab": {
          "base_uri": "https://localhost:8080/",
          "height": 437
        },
        "outputId": "dd60f85d-9162-418b-aa10-3958e26b2fcd"
      },
      "execution_count": 276,
      "outputs": [
        {
          "output_type": "execute_result",
          "data": {
            "text/plain": [
              "<Axes: title={'center': 'Relação das Notas de Leitura e Escrita'}, xlabel='Nota'>"
            ]
          },
          "metadata": {},
          "execution_count": 276
        },
        {
          "output_type": "display_data",
          "data": {
            "text/plain": [
              "<Figure size 1200x400 with 1 Axes>"
            ],
            "image/png": "[encoded data removed]"
          },
          "metadata": {}
        }
      ]
    },
    {
      "cell_type": "markdown",
      "source": [
        "Nota-se que as notas de escrita possuem dados mais dispersos em relação as notas de leitura. Os valores da mediana e média são bem próximos e do terceiro quartil são iguais. Ambos apresentam mais valores extremos (outliers), no entanto nota-se que os outliers das notas de escrita se estendem para longe da mediana.\n",
        "Ambos apresentam gráfico de relação entre média, mediana e moda com assimetria a esquerda."
      ],
      "metadata": {
        "id": "oMg_6wSMKRRp"
      }
    },
    {
      "cell_type": "markdown",
      "source": [
        "# Extra - análise de dados e gráfica"
      ],
      "metadata": {
        "id": "Qj7HYBv5vp5F"
      }
    },
    {
      "cell_type": "code",
      "source": [
        "## Qual é a nota média da nota de mulheres e homens em matemática?\n",
        "df.groupby('genero')['nota_matematica'].mean().sort_values(ascending=True)"
      ],
      "metadata": {
        "id": "FZf7ZV_avo-m",
        "colab": {
          "base_uri": "https://localhost:8080/"
        },
        "outputId": "2bf8769d-af08-4b05-acbb-ce2e705a2f25"
      },
      "execution_count": 278,
      "outputs": [
        {
          "output_type": "execute_result",
          "data": {
            "text/plain": [
              "genero\n",
              "feminino     63.633205\n",
              "masculino    68.728216\n",
              "Name: nota_matematica, dtype: float64"
            ]
          },
          "metadata": {},
          "execution_count": 278
        }
      ]
    },
    {
      "cell_type": "code",
      "source": [
        "#Qual o valor do desvio padrão da variável nota de matemática de mulheres\n",
        "std_F = df.groupby('genero')['nota_matematica'].std().loc['feminino']\n",
        "std_F"
      ],
      "metadata": {
        "id": "J7BWb88tv2Yu",
        "colab": {
          "base_uri": "https://localhost:8080/"
        },
        "outputId": "1dc50949-e69b-4801-cd0d-3c69e493dc6b"
      },
      "execution_count": 279,
      "outputs": [
        {
          "output_type": "execute_result",
          "data": {
            "text/plain": [
              "15.491453242339517"
            ]
          },
          "metadata": {},
          "execution_count": 279
        }
      ]
    },
    {
      "cell_type": "code",
      "source": [
        "#Qual o valor do desvio padrão da variável nota de matemática de homens\n",
        "std_M = df.groupby('genero')['nota_matematica'].std().loc['masculino']\n",
        "std_M"
      ],
      "metadata": {
        "id": "vUaFhmCuv6H-",
        "colab": {
          "base_uri": "https://localhost:8080/"
        },
        "outputId": "7a92b2be-312c-4d8e-e792-59ca8f14dc59"
      },
      "execution_count": 281,
      "outputs": [
        {
          "output_type": "execute_result",
          "data": {
            "text/plain": [
              "14.356277196362376"
            ]
          },
          "metadata": {},
          "execution_count": 281
        }
      ]
    },
    {
      "cell_type": "code",
      "source": [
        "#Boxplot das notas de matemática por sexo. O gráfico mostra que as notas de matemática das mulheres possui mais assimetria em relação aos homens.\n",
        "\n",
        "ax = sns.boxplot( x = 'nota_matematica', y = 'genero', data = df, orient = 'h')\n",
        "ax.figure.set_size_inches(12, 4)\n",
        "ax.set_title('Matemática', fontsize=18)\n",
        "ax.set_xlabel('Nota', fontsize=14)\n",
        "ax"
      ],
      "metadata": {
        "id": "OZGsHkxQv8e-",
        "colab": {
          "base_uri": "https://localhost:8080/",
          "height": 437
        },
        "outputId": "3d926075-431e-4e8c-8a9b-af90c7f826f9"
      },
      "execution_count": 282,
      "outputs": [
        {
          "output_type": "execute_result",
          "data": {
            "text/plain": [
              "<Axes: title={'center': 'Matemática'}, xlabel='Nota', ylabel='genero'>"
            ]
          },
          "metadata": {},
          "execution_count": 282
        },
        {
          "output_type": "display_data",
          "data": {
            "text/plain": [
              "<Figure size 1200x400 with 1 Axes>"
            ],
            "image/png": "[encoded data removed]"
          },
          "metadata": {}
        }
      ]
    },
    {
      "cell_type": "markdown",
      "source": [
        "Observa-se que as notas de matemática para o sexo feminino possuem mais valores extremos, em relação as notas do sexo masculino. As notas do sexo feminino possuem maior variabilidade em relação ao sexo masculino. A média e mediana das notas do sexo masculino é também superior ao feminino."
      ],
      "metadata": {
        "id": "hU315i_6QMmT"
      }
    },
    {
      "cell_type": "code",
      "source": [
        "#Obtendo a média, mediana e valor máximo da variável Notas de Matemática segundo Etnia e Genêro\n",
        "notas_estatisticas_por_genero_e_etnia = pd.crosstab(df['raca/etnia'],\n",
        "                                                df['genero'],\n",
        "                                                values = df['nota_matematica'],\n",
        "                                                aggfunc = {'mean', 'median', 'max'})\n",
        "notas_estatisticas_por_genero_e_etnia"
      ],
      "metadata": {
        "id": "54heEIlA7Phl",
        "colab": {
          "base_uri": "https://localhost:8080/",
          "height": 269
        },
        "outputId": "ae51a72e-8ed2-4f45-d4da-0c25274b2ddb"
      },
      "execution_count": 283,
      "outputs": [
        {
          "output_type": "execute_result",
          "data": {
            "text/plain": [
              "                      max                 mean              median          \n",
              "genero           feminino masculino   feminino  masculino feminino masculino\n",
              "raca/etnia                                                                  \n",
              "Branco_Britanico       92       100  58.527778  63.735849     57.0      63.0\n",
              "Branco_Irlandes        97        94  61.403846  65.930233     62.0      65.0\n",
              "Branco_outros          96        98  62.033333  67.611511     63.0      68.0\n",
              "M_B_Caribenho          98       100  65.248062  69.413534     65.0      71.0\n",
              "M_B_Negro_Afr         100       100  70.811594  76.746479     71.0      78.0"
            ],
            "text/html": [
              "\n",
              "  <div id=\"df-ffdc09d9-9452-4785-be12-2422774e6604\" class=\"colab-df-container\">\n",
              "    <div>\n",
              "<style scoped>\n",
              "    .dataframe tbody tr th:only-of-type {\n",
              "        vertical-align: middle;\n",
              "    }\n",
              "\n",
              "    .dataframe tbody tr th {\n",
              "        vertical-align: top;\n",
              "    }\n",
              "\n",
              "    .dataframe thead tr th {\n",
              "        text-align: left;\n",
              "    }\n",
              "\n",
              "    .dataframe thead tr:last-of-type th {\n",
              "        text-align: right;\n",
              "    }\n",
              "</style>\n",
              "<table border=\"1\" class=\"dataframe\">\n",
              "  <thead>\n",
              "    <tr>\n",
              "      <th></th>\n",
              "      <th colspan=\"2\" halign=\"left\">max</th>\n",
              "      <th colspan=\"2\" halign=\"left\">mean</th>\n",
              "      <th colspan=\"2\" halign=\"left\">median</th>\n",
              "    </tr>\n",
              "    <tr>\n",
              "      <th>genero</th>\n",
              "      <th>feminino</th>\n",
              "      <th>masculino</th>\n",
              "      <th>feminino</th>\n",
              "      <th>masculino</th>\n",
              "      <th>feminino</th>\n",
              "      <th>masculino</th>\n",
              "    </tr>\n",
              "    <tr>\n",
              "      <th>raca/etnia</th>\n",
              "      <th></th>\n",
              "      <th></th>\n",
              "      <th></th>\n",
              "      <th></th>\n",
              "      <th></th>\n",
              "      <th></th>\n",
              "    </tr>\n",
              "  </thead>\n",
              "  <tbody>\n",
              "    <tr>\n",
              "      <th>Branco_Britanico</th>\n",
              "      <td>92</td>\n",
              "      <td>100</td>\n",
              "      <td>58.527778</td>\n",
              "      <td>63.735849</td>\n",
              "      <td>57.0</td>\n",
              "      <td>63.0</td>\n",
              "    </tr>\n",
              "    <tr>\n",
              "      <th>Branco_Irlandes</th>\n",
              "      <td>97</td>\n",
              "      <td>94</td>\n",
              "      <td>61.403846</td>\n",
              "      <td>65.930233</td>\n",
              "      <td>62.0</td>\n",
              "      <td>65.0</td>\n",
              "    </tr>\n",
              "    <tr>\n",
              "      <th>Branco_outros</th>\n",
              "      <td>96</td>\n",
              "      <td>98</td>\n",
              "      <td>62.033333</td>\n",
              "      <td>67.611511</td>\n",
              "      <td>63.0</td>\n",
              "      <td>68.0</td>\n",
              "    </tr>\n",
              "    <tr>\n",
              "      <th>M_B_Caribenho</th>\n",
              "      <td>98</td>\n",
              "      <td>100</td>\n",
              "      <td>65.248062</td>\n",
              "      <td>69.413534</td>\n",
              "      <td>65.0</td>\n",
              "      <td>71.0</td>\n",
              "    </tr>\n",
              "    <tr>\n",
              "      <th>M_B_Negro_Afr</th>\n",
              "      <td>100</td>\n",
              "      <td>100</td>\n",
              "      <td>70.811594</td>\n",
              "      <td>76.746479</td>\n",
              "      <td>71.0</td>\n",
              "      <td>78.0</td>\n",
              "    </tr>\n",
              "  </tbody>\n",
              "</table>\n",
              "</div>\n",
              "    <div class=\"colab-df-buttons\">\n",
              "\n",
              "  <div class=\"colab-df-container\">\n",
              "    <button class=\"colab-df-convert\" onclick=\"convertToInteractive('df-ffdc09d9-9452-4785-be12-2422774e6604')\"\n",
              "            title=\"Convert this dataframe to an interactive table.\"\n",
              "            style=\"display:none;\">\n",
              "\n",
              "  <svg xmlns=\"http://www.w3.org/2000/svg\" height=\"24px\" viewBox=\"0 -960 960 960\">\n",
              "    <path d=\"M120-120v-720h720v720H120Zm60-500h600v-160H180v160Zm220 220h160v-160H400v160Zm0 220h160v-160H400v160ZM180-400h160v-160H180v160Zm440 0h160v-160H620v160ZM180-180h160v-160H180v160Zm440 0h160v-160H620v160Z\"/>\n",
              "  </svg>\n",
              "    </button>\n",
              "\n",
              "  <style>\n",
              "    .colab-df-container {\n",
              "      display:flex;\n",
              "      gap: 12px;\n",
              "    }\n",
              "\n",
              "    .colab-df-convert {\n",
              "      background-color: #E8F0FE;\n",
              "      border: none;\n",
              "      border-radius: 50%;\n",
              "      cursor: pointer;\n",
              "      display: none;\n",
              "      fill: #1967D2;\n",
              "      height: 32px;\n",
              "      padding: 0 0 0 0;\n",
              "      width: 32px;\n",
              "    }\n",
              "\n",
              "    .colab-df-convert:hover {\n",
              "      background-color: #E2EBFA;\n",
              "      box-shadow: 0px 1px 2px rgba(60, 64, 67, 0.3), 0px 1px 3px 1px rgba(60, 64, 67, 0.15);\n",
              "      fill: #174EA6;\n",
              "    }\n",
              "\n",
              "    .colab-df-buttons div {\n",
              "      margin-bottom: 4px;\n",
              "    }\n",
              "\n",
              "    [theme=dark] .colab-df-convert {\n",
              "      background-color: #3B4455;\n",
              "      fill: #D2E3FC;\n",
              "    }\n",
              "\n",
              "    [theme=dark] .colab-df-convert:hover {\n",
              "      background-color: #434B5C;\n",
              "      box-shadow: 0px 1px 3px 1px rgba(0, 0, 0, 0.15);\n",
              "      filter: drop-shadow(0px 1px 2px rgba(0, 0, 0, 0.3));\n",
              "      fill: #FFFFFF;\n",
              "    }\n",
              "  </style>\n",
              "\n",
              "    <script>\n",
              "      const buttonEl =\n",
              "        document.querySelector('#df-ffdc09d9-9452-4785-be12-2422774e6604 button.colab-df-convert');\n",
              "      buttonEl.style.display =\n",
              "        google.colab.kernel.accessAllowed ? 'block' : 'none';\n",
              "\n",
              "      async function convertToInteractive(key) {\n",
              "        const element = document.querySelector('#df-ffdc09d9-9452-4785-be12-2422774e6604');\n",
              "        const dataTable =\n",
              "          await google.colab.kernel.invokeFunction('convertToInteractive',\n",
              "                                                    [key], {});\n",
              "        if (!dataTable) return;\n",
              "\n",
              "        const docLinkHtml = 'Like what you see? Visit the ' +\n",
              "          '<a target=\"_blank\" href=https://colab.research.google.com/notebooks/data_table.ipynb>data table notebook</a>'\n",
              "          + ' to learn more about interactive tables.';\n",
              "        element.innerHTML = '';\n",
              "        dataTable['output_type'] = 'display_data';\n",
              "        await google.colab.output.renderOutput(dataTable, element);\n",
              "        const docLink = document.createElement('div');\n",
              "        docLink.innerHTML = docLinkHtml;\n",
              "        element.appendChild(docLink);\n",
              "      }\n",
              "    </script>\n",
              "  </div>\n",
              "\n",
              "\n",
              "<div id=\"df-a24ef5c1-4574-4450-a977-0986da1f2c93\">\n",
              "  <button class=\"colab-df-quickchart\" onclick=\"quickchart('df-a24ef5c1-4574-4450-a977-0986da1f2c93')\"\n",
              "            title=\"Suggest charts.\"\n",
              "            style=\"display:none;\">\n",
              "\n",
              "<svg xmlns=\"http://www.w3.org/2000/svg\" height=\"24px\"viewBox=\"0 0 24 24\"\n",
              "     width=\"24px\">\n",
              "    <g>\n",
              "        <path d=\"M19 3H5c-1.1 0-2 .9-2 2v14c0 1.1.9 2 2 2h14c1.1 0 2-.9 2-2V5c0-1.1-.9-2-2-2zM9 17H7v-7h2v7zm4 0h-2V7h2v10zm4 0h-2v-4h2v4z\"/>\n",
              "    </g>\n",
              "</svg>\n",
              "  </button>\n",
              "\n",
              "<style>\n",
              "  .colab-df-quickchart {\n",
              "      --bg-color: #E8F0FE;\n",
              "      --fill-color: #1967D2;\n",
              "      --hover-bg-color: #E2EBFA;\n",
              "      --hover-fill-color: #174EA6;\n",
              "      --disabled-fill-color: #AAA;\n",
              "      --disabled-bg-color: #DDD;\n",
              "  }\n",
              "\n",
              "  [theme=dark] .colab-df-quickchart {\n",
              "      --bg-color: #3B4455;\n",
              "      --fill-color: #D2E3FC;\n",
              "      --hover-bg-color: #434B5C;\n",
              "      --hover-fill-color: #FFFFFF;\n",
              "      --disabled-bg-color: #3B4455;\n",
              "      --disabled-fill-color: #666;\n",
              "  }\n",
              "\n",
              "  .colab-df-quickchart {\n",
              "    background-color: var(--bg-color);\n",
              "    border: none;\n",
              "    border-radius: 50%;\n",
              "    cursor: pointer;\n",
              "    display: none;\n",
              "    fill: var(--fill-color);\n",
              "    height: 32px;\n",
              "    padding: 0;\n",
              "    width: 32px;\n",
              "  }\n",
              "\n",
              "  .colab-df-quickchart:hover {\n",
              "    background-color: var(--hover-bg-color);\n",
              "    box-shadow: 0 1px 2px rgba(60, 64, 67, 0.3), 0 1px 3px 1px rgba(60, 64, 67, 0.15);\n",
              "    fill: var(--button-hover-fill-color);\n",
              "  }\n",
              "\n",
              "  .colab-df-quickchart-complete:disabled,\n",
              "  .colab-df-quickchart-complete:disabled:hover {\n",
              "    background-color: var(--disabled-bg-color);\n",
              "    fill: var(--disabled-fill-color);\n",
              "    box-shadow: none;\n",
              "  }\n",
              "\n",
              "  .colab-df-spinner {\n",
              "    border: 2px solid var(--fill-color);\n",
              "    border-color: transparent;\n",
              "    border-bottom-color: var(--fill-color);\n",
              "    animation:\n",
              "      spin 1s steps(1) infinite;\n",
              "  }\n",
              "\n",
              "  @keyframes spin {\n",
              "    0% {\n",
              "      border-color: transparent;\n",
              "      border-bottom-color: var(--fill-color);\n",
              "      border-left-color: var(--fill-color);\n",
              "    }\n",
              "    20% {\n",
              "      border-color: transparent;\n",
              "      border-left-color: var(--fill-color);\n",
              "      border-top-color: var(--fill-color);\n",
              "    }\n",
              "    30% {\n",
              "      border-color: transparent;\n",
              "      border-left-color: var(--fill-color);\n",
              "      border-top-color: var(--fill-color);\n",
              "      border-right-color: var(--fill-color);\n",
              "    }\n",
              "    40% {\n",
              "      border-color: transparent;\n",
              "      border-right-color: var(--fill-color);\n",
              "      border-top-color: var(--fill-color);\n",
              "    }\n",
              "    60% {\n",
              "      border-color: transparent;\n",
              "      border-right-color: var(--fill-color);\n",
              "    }\n",
              "    80% {\n",
              "      border-color: transparent;\n",
              "      border-right-color: var(--fill-color);\n",
              "      border-bottom-color: var(--fill-color);\n",
              "    }\n",
              "    90% {\n",
              "      border-color: transparent;\n",
              "      border-bottom-color: var(--fill-color);\n",
              "    }\n",
              "  }\n",
              "</style>\n",
              "\n",
              "  <script>\n",
              "    async function quickchart(key) {\n",
              "      const quickchartButtonEl =\n",
              "        document.querySelector('#' + key + ' button');\n",
              "      quickchartButtonEl.disabled = true;  // To prevent multiple clicks.\n",
              "      quickchartButtonEl.classList.add('colab-df-spinner');\n",
              "      try {\n",
              "        const charts = await google.colab.kernel.invokeFunction(\n",
              "            'suggestCharts', [key], {});\n",
              "      } catch (error) {\n",
              "        console.error('Error during call to suggestCharts:', error);\n",
              "      }\n",
              "      quickchartButtonEl.classList.remove('colab-df-spinner');\n",
              "      quickchartButtonEl.classList.add('colab-df-quickchart-complete');\n",
              "    }\n",
              "    (() => {\n",
              "      let quickchartButtonEl =\n",
              "        document.querySelector('#df-a24ef5c1-4574-4450-a977-0986da1f2c93 button');\n",
              "      quickchartButtonEl.style.display =\n",
              "        google.colab.kernel.accessAllowed ? 'block' : 'none';\n",
              "    })();\n",
              "  </script>\n",
              "</div>\n",
              "    </div>\n",
              "  </div>\n"
            ]
          },
          "metadata": {},
          "execution_count": 283
        }
      ]
    },
    {
      "cell_type": "markdown",
      "source": [
        "Nota-se que as mulheres possuem médias e medianas menores que os homens para todas as etnias. O mesmo comportamento ocorre para as notas máximas, com exceção da nota máxima de pessoas brancas (irlandes) e pessoas ."
      ],
      "metadata": {
        "id": "4F-W_FnM-qXj"
      }
    },
    {
      "cell_type": "code",
      "source": [
        "#Obtendo a média, mediana e valor máximo da variável Notas de Matemática segundo Etnia e Genêro\n",
        "notas_estatisticas_por_grau_educacao = pd.crosstab(df['escolaridade_dos_pais'],\n",
        "                                                df['genero'],\n",
        "                                                values = df['nota_matematica'],\n",
        "                                                aggfunc = {'mean', 'median', 'max'})\n",
        "notas_estatisticas_por_grau_educacao"
      ],
      "metadata": {
        "id": "DvvOp3ygExUu",
        "colab": {
          "base_uri": "https://localhost:8080/",
          "height": 300
        },
        "outputId": "48dd5f2d-3547-4288-fb6c-3ac45d1d6091"
      },
      "execution_count": 284,
      "outputs": [
        {
          "output_type": "execute_result",
          "data": {
            "text/plain": [
              "                           max                 mean              median  \\\n",
              "genero                feminino masculino   feminino  masculino feminino   \n",
              "escolaridade_dos_pais                                                     \n",
              "EM_completo                 99        94  59.351064  64.705882     61.0   \n",
              "bacharelado                100       100  68.349206  70.581818     67.0   \n",
              "mestrado                    94        95  66.500000  74.826087     64.5   \n",
              "nao_concluiu_EM             97        94  59.296703  67.840909     63.0   \n",
              "superior_incompleto        100       100  65.406780  69.009259     65.5   \n",
              "tecnólogo                  100       100  65.250000  70.764151     65.0   \n",
              "\n",
              "                                 \n",
              "genero                masculino  \n",
              "escolaridade_dos_pais            \n",
              "EM_completo                66.0  \n",
              "bacharelado                70.0  \n",
              "mestrado                   79.0  \n",
              "nao_concluiu_EM            68.0  \n",
              "superior_incompleto        69.0  \n",
              "tecnólogo                  72.0  "
            ],
            "text/html": [
              "\n",
              "  <div id=\"df-6ecadcf4-97e5-4126-9725-6cbd3efbc7c1\" class=\"colab-df-container\">\n",
              "    <div>\n",
              "<style scoped>\n",
              "    .dataframe tbody tr th:only-of-type {\n",
              "        vertical-align: middle;\n",
              "    }\n",
              "\n",
              "    .dataframe tbody tr th {\n",
              "        vertical-align: top;\n",
              "    }\n",
              "\n",
              "    .dataframe thead tr th {\n",
              "        text-align: left;\n",
              "    }\n",
              "\n",
              "    .dataframe thead tr:last-of-type th {\n",
              "        text-align: right;\n",
              "    }\n",
              "</style>\n",
              "<table border=\"1\" class=\"dataframe\">\n",
              "  <thead>\n",
              "    <tr>\n",
              "      <th></th>\n",
              "      <th colspan=\"2\" halign=\"left\">max</th>\n",
              "      <th colspan=\"2\" halign=\"left\">mean</th>\n",
              "      <th colspan=\"2\" halign=\"left\">median</th>\n",
              "    </tr>\n",
              "    <tr>\n",
              "      <th>genero</th>\n",
              "      <th>feminino</th>\n",
              "      <th>masculino</th>\n",
              "      <th>feminino</th>\n",
              "      <th>masculino</th>\n",
              "      <th>feminino</th>\n",
              "      <th>masculino</th>\n",
              "    </tr>\n",
              "    <tr>\n",
              "      <th>escolaridade_dos_pais</th>\n",
              "      <th></th>\n",
              "      <th></th>\n",
              "      <th></th>\n",
              "      <th></th>\n",
              "      <th></th>\n",
              "      <th></th>\n",
              "    </tr>\n",
              "  </thead>\n",
              "  <tbody>\n",
              "    <tr>\n",
              "      <th>EM_completo</th>\n",
              "      <td>99</td>\n",
              "      <td>94</td>\n",
              "      <td>59.351064</td>\n",
              "      <td>64.705882</td>\n",
              "      <td>61.0</td>\n",
              "      <td>66.0</td>\n",
              "    </tr>\n",
              "    <tr>\n",
              "      <th>bacharelado</th>\n",
              "      <td>100</td>\n",
              "      <td>100</td>\n",
              "      <td>68.349206</td>\n",
              "      <td>70.581818</td>\n",
              "      <td>67.0</td>\n",
              "      <td>70.0</td>\n",
              "    </tr>\n",
              "    <tr>\n",
              "      <th>mestrado</th>\n",
              "      <td>94</td>\n",
              "      <td>95</td>\n",
              "      <td>66.500000</td>\n",
              "      <td>74.826087</td>\n",
              "      <td>64.5</td>\n",
              "      <td>79.0</td>\n",
              "    </tr>\n",
              "    <tr>\n",
              "      <th>nao_concluiu_EM</th>\n",
              "      <td>97</td>\n",
              "      <td>94</td>\n",
              "      <td>59.296703</td>\n",
              "      <td>67.840909</td>\n",
              "      <td>63.0</td>\n",
              "      <td>68.0</td>\n",
              "    </tr>\n",
              "    <tr>\n",
              "      <th>superior_incompleto</th>\n",
              "      <td>100</td>\n",
              "      <td>100</td>\n",
              "      <td>65.406780</td>\n",
              "      <td>69.009259</td>\n",
              "      <td>65.5</td>\n",
              "      <td>69.0</td>\n",
              "    </tr>\n",
              "    <tr>\n",
              "      <th>tecnólogo</th>\n",
              "      <td>100</td>\n",
              "      <td>100</td>\n",
              "      <td>65.250000</td>\n",
              "      <td>70.764151</td>\n",
              "      <td>65.0</td>\n",
              "      <td>72.0</td>\n",
              "    </tr>\n",
              "  </tbody>\n",
              "</table>\n",
              "</div>\n",
              "    <div class=\"colab-df-buttons\">\n",
              "\n",
              "  <div class=\"colab-df-container\">\n",
              "    <button class=\"colab-df-convert\" onclick=\"convertToInteractive('df-6ecadcf4-97e5-4126-9725-6cbd3efbc7c1')\"\n",
              "            title=\"Convert this dataframe to an interactive table.\"\n",
              "            style=\"display:none;\">\n",
              "\n",
              "  <svg xmlns=\"http://www.w3.org/2000/svg\" height=\"24px\" viewBox=\"0 -960 960 960\">\n",
              "    <path d=\"M120-120v-720h720v720H120Zm60-500h600v-160H180v160Zm220 220h160v-160H400v160Zm0 220h160v-160H400v160ZM180-400h160v-160H180v160Zm440 0h160v-160H620v160ZM180-180h160v-160H180v160Zm440 0h160v-160H620v160Z\"/>\n",
              "  </svg>\n",
              "    </button>\n",
              "\n",
              "  <style>\n",
              "    .colab-df-container {\n",
              "      display:flex;\n",
              "      gap: 12px;\n",
              "    }\n",
              "\n",
              "    .colab-df-convert {\n",
              "      background-color: #E8F0FE;\n",
              "      border: none;\n",
              "      border-radius: 50%;\n",
              "      cursor: pointer;\n",
              "      display: none;\n",
              "      fill: #1967D2;\n",
              "      height: 32px;\n",
              "      padding: 0 0 0 0;\n",
              "      width: 32px;\n",
              "    }\n",
              "\n",
              "    .colab-df-convert:hover {\n",
              "      background-color: #E2EBFA;\n",
              "      box-shadow: 0px 1px 2px rgba(60, 64, 67, 0.3), 0px 1px 3px 1px rgba(60, 64, 67, 0.15);\n",
              "      fill: #174EA6;\n",
              "    }\n",
              "\n",
              "    .colab-df-buttons div {\n",
              "      margin-bottom: 4px;\n",
              "    }\n",
              "\n",
              "    [theme=dark] .colab-df-convert {\n",
              "      background-color: #3B4455;\n",
              "      fill: #D2E3FC;\n",
              "    }\n",
              "\n",
              "    [theme=dark] .colab-df-convert:hover {\n",
              "      background-color: #434B5C;\n",
              "      box-shadow: 0px 1px 3px 1px rgba(0, 0, 0, 0.15);\n",
              "      filter: drop-shadow(0px 1px 2px rgba(0, 0, 0, 0.3));\n",
              "      fill: #FFFFFF;\n",
              "    }\n",
              "  </style>\n",
              "\n",
              "    <script>\n",
              "      const buttonEl =\n",
              "        document.querySelector('#df-6ecadcf4-97e5-4126-9725-6cbd3efbc7c1 button.colab-df-convert');\n",
              "      buttonEl.style.display =\n",
              "        google.colab.kernel.accessAllowed ? 'block' : 'none';\n",
              "\n",
              "      async function convertToInteractive(key) {\n",
              "        const element = document.querySelector('#df-6ecadcf4-97e5-4126-9725-6cbd3efbc7c1');\n",
              "        const dataTable =\n",
              "          await google.colab.kernel.invokeFunction('convertToInteractive',\n",
              "                                                    [key], {});\n",
              "        if (!dataTable) return;\n",
              "\n",
              "        const docLinkHtml = 'Like what you see? Visit the ' +\n",
              "          '<a target=\"_blank\" href=https://colab.research.google.com/notebooks/data_table.ipynb>data table notebook</a>'\n",
              "          + ' to learn more about interactive tables.';\n",
              "        element.innerHTML = '';\n",
              "        dataTable['output_type'] = 'display_data';\n",
              "        await google.colab.output.renderOutput(dataTable, element);\n",
              "        const docLink = document.createElement('div');\n",
              "        docLink.innerHTML = docLinkHtml;\n",
              "        element.appendChild(docLink);\n",
              "      }\n",
              "    </script>\n",
              "  </div>\n",
              "\n",
              "\n",
              "<div id=\"df-8d070686-dfd4-4a3b-ba5a-f3b8cd9c5869\">\n",
              "  <button class=\"colab-df-quickchart\" onclick=\"quickchart('df-8d070686-dfd4-4a3b-ba5a-f3b8cd9c5869')\"\n",
              "            title=\"Suggest charts.\"\n",
              "            style=\"display:none;\">\n",
              "\n",
              "<svg xmlns=\"http://www.w3.org/2000/svg\" height=\"24px\"viewBox=\"0 0 24 24\"\n",
              "     width=\"24px\">\n",
              "    <g>\n",
              "        <path d=\"M19 3H5c-1.1 0-2 .9-2 2v14c0 1.1.9 2 2 2h14c1.1 0 2-.9 2-2V5c0-1.1-.9-2-2-2zM9 17H7v-7h2v7zm4 0h-2V7h2v10zm4 0h-2v-4h2v4z\"/>\n",
              "    </g>\n",
              "</svg>\n",
              "  </button>\n",
              "\n",
              "<style>\n",
              "  .colab-df-quickchart {\n",
              "      --bg-color: #E8F0FE;\n",
              "      --fill-color: #1967D2;\n",
              "      --hover-bg-color: #E2EBFA;\n",
              "      --hover-fill-color: #174EA6;\n",
              "      --disabled-fill-color: #AAA;\n",
              "      --disabled-bg-color: #DDD;\n",
              "  }\n",
              "\n",
              "  [theme=dark] .colab-df-quickchart {\n",
              "      --bg-color: #3B4455;\n",
              "      --fill-color: #D2E3FC;\n",
              "      --hover-bg-color: #434B5C;\n",
              "      --hover-fill-color: #FFFFFF;\n",
              "      --disabled-bg-color: #3B4455;\n",
              "      --disabled-fill-color: #666;\n",
              "  }\n",
              "\n",
              "  .colab-df-quickchart {\n",
              "    background-color: var(--bg-color);\n",
              "    border: none;\n",
              "    border-radius: 50%;\n",
              "    cursor: pointer;\n",
              "    display: none;\n",
              "    fill: var(--fill-color);\n",
              "    height: 32px;\n",
              "    padding: 0;\n",
              "    width: 32px;\n",
              "  }\n",
              "\n",
              "  .colab-df-quickchart:hover {\n",
              "    background-color: var(--hover-bg-color);\n",
              "    box-shadow: 0 1px 2px rgba(60, 64, 67, 0.3), 0 1px 3px 1px rgba(60, 64, 67, 0.15);\n",
              "    fill: var(--button-hover-fill-color);\n",
              "  }\n",
              "\n",
              "  .colab-df-quickchart-complete:disabled,\n",
              "  .colab-df-quickchart-complete:disabled:hover {\n",
              "    background-color: var(--disabled-bg-color);\n",
              "    fill: var(--disabled-fill-color);\n",
              "    box-shadow: none;\n",
              "  }\n",
              "\n",
              "  .colab-df-spinner {\n",
              "    border: 2px solid var(--fill-color);\n",
              "    border-color: transparent;\n",
              "    border-bottom-color: var(--fill-color);\n",
              "    animation:\n",
              "      spin 1s steps(1) infinite;\n",
              "  }\n",
              "\n",
              "  @keyframes spin {\n",
              "    0% {\n",
              "      border-color: transparent;\n",
              "      border-bottom-color: var(--fill-color);\n",
              "      border-left-color: var(--fill-color);\n",
              "    }\n",
              "    20% {\n",
              "      border-color: transparent;\n",
              "      border-left-color: var(--fill-color);\n",
              "      border-top-color: var(--fill-color);\n",
              "    }\n",
              "    30% {\n",
              "      border-color: transparent;\n",
              "      border-left-color: var(--fill-color);\n",
              "      border-top-color: var(--fill-color);\n",
              "      border-right-color: var(--fill-color);\n",
              "    }\n",
              "    40% {\n",
              "      border-color: transparent;\n",
              "      border-right-color: var(--fill-color);\n",
              "      border-top-color: var(--fill-color);\n",
              "    }\n",
              "    60% {\n",
              "      border-color: transparent;\n",
              "      border-right-color: var(--fill-color);\n",
              "    }\n",
              "    80% {\n",
              "      border-color: transparent;\n",
              "      border-right-color: var(--fill-color);\n",
              "      border-bottom-color: var(--fill-color);\n",
              "    }\n",
              "    90% {\n",
              "      border-color: transparent;\n",
              "      border-bottom-color: var(--fill-color);\n",
              "    }\n",
              "  }\n",
              "</style>\n",
              "\n",
              "  <script>\n",
              "    async function quickchart(key) {\n",
              "      const quickchartButtonEl =\n",
              "        document.querySelector('#' + key + ' button');\n",
              "      quickchartButtonEl.disabled = true;  // To prevent multiple clicks.\n",
              "      quickchartButtonEl.classList.add('colab-df-spinner');\n",
              "      try {\n",
              "        const charts = await google.colab.kernel.invokeFunction(\n",
              "            'suggestCharts', [key], {});\n",
              "      } catch (error) {\n",
              "        console.error('Error during call to suggestCharts:', error);\n",
              "      }\n",
              "      quickchartButtonEl.classList.remove('colab-df-spinner');\n",
              "      quickchartButtonEl.classList.add('colab-df-quickchart-complete');\n",
              "    }\n",
              "    (() => {\n",
              "      let quickchartButtonEl =\n",
              "        document.querySelector('#df-8d070686-dfd4-4a3b-ba5a-f3b8cd9c5869 button');\n",
              "      quickchartButtonEl.style.display =\n",
              "        google.colab.kernel.accessAllowed ? 'block' : 'none';\n",
              "    })();\n",
              "  </script>\n",
              "</div>\n",
              "    </div>\n",
              "  </div>\n"
            ]
          },
          "metadata": {},
          "execution_count": 284
        }
      ]
    },
    {
      "cell_type": "markdown",
      "source": [
        "Nota-se um compartamento parecido com o gráfico anterior, onte as mulheres possuem médias e medianas menores que os homens para todas as categorias de grau de educação dos pais. O mesmo comportamento ocorre para as notas máximas, com exceção da nota máxima de pais com ensino médio compleo e que não concluiram o ensino médio."
      ],
      "metadata": {
        "id": "_IIvxudvE4AL"
      }
    },
    {
      "cell_type": "code",
      "source": [
        "ax = sns.boxplot(x = 'nota_matematica', y = 'escolaridade_dos_pais', data=df, orient='h')\n",
        "ax.figure.set_size_inches(14, 6)    # Personalizando o tamanho da figura\n",
        "\n",
        "ax.set_title('Box-plot da Notas de Matemática por Grau de Escolaridade dos Pais', fontsize=18)    # Configurando o título do gráfico\n",
        "\n",
        "ax.set_xlabel('Notas de Matemática', fontsize=14)    # Configurando o label do eixo X\n",
        "\n",
        "ax.set_ylabel('Grau de Escolaridade dos Pais', fontsize=14)    # Configurando o label do eixo Y\n",
        "\n",
        "ax"
      ],
      "metadata": {
        "id": "0KCsP3EM_nfC",
        "colab": {
          "base_uri": "https://localhost:8080/",
          "height": 538
        },
        "outputId": "2672ca82-6a08-416e-9758-78c1edf3d4e0"
      },
      "execution_count": 295,
      "outputs": [
        {
          "output_type": "execute_result",
          "data": {
            "text/plain": [
              "<Axes: title={'center': 'Box-plot da Notas de Matemática por Grau de Escolaridade dos Pais'}, xlabel='Notas de Matemática', ylabel='Grau de Escolaridade dos Pais'>"
            ]
          },
          "metadata": {},
          "execution_count": 295
        },
        {
          "output_type": "display_data",
          "data": {
            "text/plain": [
              "<Figure size 1400x600 with 1 Axes>"
            ],
            "image/png": "[encoded data removed]"
          },
          "metadata": {}
        }
      ]
    },
    {
      "cell_type": "markdown",
      "source": [
        "É possível notar que há poucos  dados extremos das notas de matemática por grau de escolaridade dos pais. Os filhos de pais com mestrado apresentam as notas mais discrepantes em relação aos demais graus de escolaridade."
      ],
      "metadata": {
        "id": "Gx4701cTAgmp"
      }
    },
    {
      "cell_type": "code",
      "source": [
        "# Análise da correlação entre as notas de matemática e escrita\n",
        "correlacao_matematica_escrita = df['nota_matematica'].corr(df['nota_escrita'])\n",
        "correlacao_matematica_escrita"
      ],
      "metadata": {
        "colab": {
          "base_uri": "https://localhost:8080/"
        },
        "id": "rYfDAtELX7T7",
        "outputId": "d89f3b8c-0581-4d67-96bc-b18e5ccbd1a3"
      },
      "execution_count": 287,
      "outputs": [
        {
          "output_type": "execute_result",
          "data": {
            "text/plain": [
              "0.8026420459498085"
            ]
          },
          "metadata": {},
          "execution_count": 287
        }
      ]
    },
    {
      "cell_type": "markdown",
      "source": [
        "Este valor indica uma correlação positiva forte, ou seja, há uma forte tendência de que os alunos que têm notas altas em matemática também tenham notas altas em escrita, e vice-versa."
      ],
      "metadata": {
        "id": "zXJJ1I45Yt6D"
      }
    },
    {
      "cell_type": "code",
      "source": [
        "plt.figure(figsize=(12, 6))\n",
        "sns.regplot(x='nota_matematica', y='nota_escrita', data=df, scatter_kws={'alpha':0.3}, line_kws={'color':'green'})\n",
        "plt.title('Relação entre Notas de Matemática e Escrita')\n",
        "plt.show()"
      ],
      "metadata": {
        "colab": {
          "base_uri": "https://localhost:8080/",
          "height": 565
        },
        "id": "CESzIrHdZJsS",
        "outputId": "a408512b-51d5-44bc-bbf8-dc24572b8413"
      },
      "execution_count": 294,
      "outputs": [
        {
          "output_type": "display_data",
          "data": {
            "text/plain": [
              "<Figure size 1200x600 with 1 Axes>"
            ],
            "image/png": "[encoded data removed]"
          },
          "metadata": {}
        }
      ]
    }
  ]
}