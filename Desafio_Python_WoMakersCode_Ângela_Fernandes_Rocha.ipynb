{
  "nbformat": 4,
  "nbformat_minor": 0,
  "metadata": {
    "colab": {
      "provenance": [],
      "include_colab_link": true
    },
    "kernelspec": {
      "name": "python3",
      "display_name": "Python 3"
    },
    "language_info": {
      "name": "python"
    }
  },
  "cells": [
    {
      "cell_type": "markdown",
      "metadata": {
        "id": "view-in-github",
        "colab_type": "text"
      },
      "source": [
        "<a href=\"https://colab.research.google.com/github/angelafrocha/WomakersCode/blob/main/Desafio_Python_WoMakersCode_%C3%82ngela_Fernandes_Rocha.ipynb\" target=\"_parent\"><img src=\"https://colab.research.google.com/assets/colab-badge.svg\" alt=\"Open In Colab\"/></a>"
      ]
    },
    {
      "cell_type": "markdown",
      "source": [
        "### Bem vindas ao desafio de Python do Bootcamp Data Analytics da WoMakersCode!\n",
        "Neste notebook, voce deve escrever o codigo python em resposta à cada uma das perguntas. Esteja atenta ao enunciado do problema!\n"
      ],
      "metadata": {
        "id": "Z55f1u4p4oHu"
      }
    },
    {
      "cell_type": "markdown",
      "source": [
        "### Desafio 1\n",
        "Escreva uma função em python que lê dois números inteiros (a,b) e gere como resultado as seguintes operações:adição, subtração, multiplicação e divisão. Execute a funçao na celula abaixo, deixando visivel exemplos de resultados.\n"
      ],
      "metadata": {
        "id": "oFGdIzuu5W7b"
      }
    },
    {
      "cell_type": "code",
      "source": [
        "##### ESCREVER A FUNÇAO ABAIXO\n",
        "def operations(a, b):\n",
        "  #### Escrever abaixo\n",
        "\n",
        "  #Criando as variáveis com as regras de cada operação\n",
        "  adicao = a + b\n",
        "  subtracao = a - b\n",
        "  multiplicacao = a * b\n",
        "  divisao = a / b\n",
        "\n",
        "  #Escrevendo os resultados\n",
        "  print(\"Adição = \", adicao)\n",
        "  print(\"Subtração = \", subtracao)\n",
        "  print(\"Multiplicação = \", multiplicacao)\n",
        "  print(\"Divisão = \", divisao)\n"
      ],
      "metadata": {
        "id": "LzCl-VH14t4a"
      },
      "execution_count": null,
      "outputs": []
    },
    {
      "cell_type": "code",
      "execution_count": null,
      "metadata": {
        "id": "kMNcvrYZ4krA",
        "colab": {
          "base_uri": "https://localhost:8080/"
        },
        "outputId": "49c2904a-021d-48b0-f574-2d8de78a51c9"
      },
      "outputs": [
        {
          "output_type": "stream",
          "name": "stdout",
          "text": [
            "Adição =  3\n",
            "Subtração =  1\n",
            "Multiplicação =  2\n",
            "Divisão =  2.0\n"
          ]
        }
      ],
      "source": [
        "#### RODAR A FUNÇAO\n",
        "a = 2\n",
        "b = 1\n",
        "\n",
        "operations(a, b)"
      ]
    },
    {
      "cell_type": "code",
      "source": [
        "a = 20\n",
        "b = 40\n",
        "\n",
        "operations(a, b)"
      ],
      "metadata": {
        "colab": {
          "base_uri": "https://localhost:8080/"
        },
        "id": "bmYLpkbJ_uy2",
        "outputId": "73f0607a-d9c5-437b-eedb-7ce93b51fd6f"
      },
      "execution_count": null,
      "outputs": [
        {
          "output_type": "stream",
          "name": "stdout",
          "text": [
            "Adição =  60\n",
            "Subtração =  -20\n",
            "Multiplicação =  800\n",
            "Divisão =  0.5\n"
          ]
        }
      ]
    },
    {
      "cell_type": "code",
      "source": [
        "a = 1+ 2\n",
        "b = 5  - 2\n",
        "\n",
        "operations(a, b)"
      ],
      "metadata": {
        "id": "0_GDIGYY_fyf",
        "colab": {
          "base_uri": "https://localhost:8080/"
        },
        "outputId": "88188235-6486-4c78-82b7-5148ea9ad880"
      },
      "execution_count": null,
      "outputs": [
        {
          "output_type": "stream",
          "name": "stdout",
          "text": [
            "Adição =  6\n",
            "Subtração =  0\n",
            "Multiplicação =  9\n",
            "Divisão =  1.0\n"
          ]
        }
      ]
    },
    {
      "cell_type": "code",
      "source": [],
      "metadata": {
        "id": "k1dHRihCVlJF"
      },
      "execution_count": null,
      "outputs": []
    },
    {
      "cell_type": "markdown",
      "source": [
        "### Desafio 2\n",
        "Escreva uma função em python que leia como input uma idade e retorne a classificaçao da ideade do individuo da seguinte forma em:\n",
        "\n",
        "*  Criança – 0 a 12 anos\n",
        "*  Adolescente – 13 a 17 anos\n",
        "*  Adulto – acima de 18 anos\n",
        "\n",
        "\n",
        "Se a idade for um número negativo, mostrar a mensagem que a \"idade inválida\"\n",
        "\n"
      ],
      "metadata": {
        "id": "m_tFtRo5581u"
      }
    },
    {
      "cell_type": "code",
      "source": [
        "##### ESCREVER A FUNCAO ABAIXO\n",
        "def classifica_idade(idade):\n",
        "  #### escrever abaixo\n",
        "\n",
        "  #Verificando cada faixa etária e escrevendo a faixa correspondente\n",
        "  if (idade < 0):\n",
        "    print(\"Idade inválida\")\n",
        "  elif (idade <= 12):\n",
        "    print(\"Criança\")\n",
        "  elif (idade <= 17):\n",
        "    print(\"Adolescente\")\n",
        "  else:\n",
        "    print(\"Adulto\")\n"
      ],
      "metadata": {
        "id": "cL-OpHGv6hyc"
      },
      "execution_count": null,
      "outputs": []
    },
    {
      "cell_type": "code",
      "source": [
        "#### RODAR A FUNCAO\n",
        "#criando a variável que irá ler a idade a ser vericada\n",
        "idade = int(input(\"Digite a idade: \"))\n",
        "classifica_idade(idade)"
      ],
      "metadata": {
        "id": "49IE2lI66zNO",
        "colab": {
          "base_uri": "https://localhost:8080/"
        },
        "outputId": "42dc9d3e-e81e-4bf2-fcd9-16c4c4d56e4e"
      },
      "execution_count": null,
      "outputs": [
        {
          "output_type": "stream",
          "name": "stdout",
          "text": [
            "Digite a idade: 35\n",
            "Adulto\n"
          ]
        }
      ]
    },
    {
      "cell_type": "markdown",
      "source": [
        "### Desafio 3\n",
        "Crie uma função em python que receba como input um determinado horário em horas e retorne a conversao deste horário para segundos\n"
      ],
      "metadata": {
        "id": "wIGGNN_v60s4"
      }
    },
    {
      "cell_type": "code",
      "source": [
        "##### ESCREVER A FUNCAO ABAIXO\n",
        "def time_converter(t):\n",
        "  ##### escrever abaixo\n",
        "\n",
        "  #Criando a varível que converte horas em segundos( cada hora tem 3600 segundos)\n",
        "  s = t * 3600\n",
        "  # Imprimindo o resultado\n",
        "  print(f'{t} horas equivale a {s} segundos')"
      ],
      "metadata": {
        "id": "JOF_tcax7ABd"
      },
      "execution_count": null,
      "outputs": []
    },
    {
      "cell_type": "code",
      "source": [
        "##### RODAR A FUNCAO\n",
        "#Criando a variável que irá ler o valor em horas\n",
        "t = float(input('Digite o horário em horas: '))\n",
        "time_converter(t)"
      ],
      "metadata": {
        "id": "AJf1IqiC7Mq_",
        "colab": {
          "base_uri": "https://localhost:8080/"
        },
        "outputId": "ed1e1b95-667d-4e47-d70f-cd00a11bd961"
      },
      "execution_count": null,
      "outputs": [
        {
          "output_type": "stream",
          "name": "stdout",
          "text": [
            "Digite o horário em horas: 25\n",
            "25.0 horas equivale a 90000.0 segundos\n"
          ]
        }
      ]
    },
    {
      "cell_type": "markdown",
      "source": [
        "### Desafio 4\n",
        "Crie uma função em python que calcule a média artimética de uma aluna que cursou a disciplina de Programação I. A funcao deve receber como input as notas M1, M2 e M3 e calcular a média. Após a média calculada, a funcao deve anunciar se a aluna foi aprovado, reprovado ou pegou exame de acordo conm a seguinte classificacao:\n",
        "\n",
        "* Se a média estiver entre 0.0 e 4.0, o aluno está reprovado\n",
        "* Se a média estiver entre 4.1 e 6.0, o aluno pegou exame\n",
        "* Se a média for maior do que 6.0, o aluno está aprovado\n",
        "* Se o aluno pegou exame, deve ser lida a nota do exame. Se a nota do exame for maior do que 6.0, está aprovado, senão; está reprovado\n"
      ],
      "metadata": {
        "id": "RCrTUh1E7OWn"
      }
    },
    {
      "cell_type": "code",
      "source": [
        "##### ESCREVER A FUNCAO ABAIXO\n",
        "def calcula_media(M1,M2,M3):\n",
        "  ###### escrever abaixo\n",
        "\n",
        " #Calculano a média das notas ultilizando a fórmula matemática\n",
        "  media = (M1 + M2 + M3) / 3\n",
        "\n",
        "  #Verificando cada faixa de médias das notas e imprimido o resultado\n",
        "  if (media >= 0 and media < 4):\n",
        "    print(\"O aluno está reprovado!\")\n",
        "  elif (media >= 4 and media <= 6):\n",
        "    print('Classificado para o exame!')\n",
        "\n",
        "    # Aqui é incluída a parte da nota do exame e mais uma verificação\n",
        "    exame = float(input(\"Digite a nota do exame: \"))\n",
        "    if (exame > 6.0):\n",
        "      print('Aprovado!')\n",
        "    else:\n",
        "      print(\"Aluno reprovado no exame!\")\n",
        "\n",
        "  elif (media > 6.0):\n",
        "    print(\"Aluno aprovado!\")\n",
        "  else:\n",
        "    print(\"Notas inválidas\")"
      ],
      "metadata": {
        "id": "VzNdyWZE70oc"
      },
      "execution_count": null,
      "outputs": []
    },
    {
      "cell_type": "code",
      "source": [
        "##### RODAR A FUNCAO\n",
        "\n",
        "#Criando as variáveis que vão ler as notas.\n",
        "M1 = float(input(\"Digite a nota M1: \"))\n",
        "M2 = float(input(\"Digite a nota M2: \"))\n",
        "M3 = float(input(\"Digite a nota M3: \"))\n",
        "\n",
        "calcula_media(M1,M2,M3)"
      ],
      "metadata": {
        "id": "cY7vMECS77QY",
        "colab": {
          "base_uri": "https://localhost:8080/"
        },
        "outputId": "dfe78c3b-a8ee-41bc-8ae2-b430881a8d78"
      },
      "execution_count": null,
      "outputs": [
        {
          "output_type": "stream",
          "name": "stdout",
          "text": [
            "Digite a nota M1: 5\n",
            "Digite a nota M2: 8\n",
            "Digite a nota M3: 5\n",
            "Classificado para o exame!\n",
            "Digite a nota do exame: 7\n",
            "Aprovado!\n"
          ]
        }
      ]
    },
    {
      "cell_type": "markdown",
      "source": [
        "### Desafio 5\n",
        "Dado a seguinte lista:\n",
        "* equipes_bootcamp_dados = [BerthaLutz, GraceHopper, JaquelineGoes, SarahGilbert]\n",
        "\n",
        "1. Crie uma função em python que conte quantas vezes aparece a letra a em cada elemento da lista. Seu resultado deve ser uma lista . exemplo: [4,0,1,2]\n",
        "\n",
        "2. Leia a lista de alunas: ['Maria', 'Ana','Camila','Mariana','Elaine','Patricia','Marina','Erica','Larissa','Luiza', 'Nicole','Bruna']\n",
        "\n",
        "3. Crie uma função que atribua cada uma das alunas em uma das equipes da lista equipes_bootcamp_dados, de modo que cada equipe pode ter 3 alunas no máximo.\n",
        "\n",
        " Para isso ordene em alfabética. O seu resultado deve ser um dicionário python. exemplo {'BerthaLutz': ['Ana', 'Bruna', 'Camila'], 'GraceHopper': ['Elaine','Erika','Luiza'],... }\n"
      ],
      "metadata": {
        "id": "eI9AkpYT788b"
      }
    },
    {
      "cell_type": "code",
      "source": [
        "##### ESCREVER A FUNCAO DA ETAPA 1\n",
        "def contador(equipes_bootcamp_dados):\n",
        "\n",
        "  #### escrever abaixo\n",
        "    resultado = []\n",
        "\n",
        "    for equipe in equipes_bootcamp_dados:\n",
        "        # count para contar a quantidade de letras 'a'\n",
        "        qnt_letras = equipe.count('a')\n",
        "\n",
        "        #append para addicionar a quantidade na lista resultado\n",
        "        resultado.append(qnt_letras)\n",
        "\n",
        "    print(resultado)"
      ],
      "metadata": {
        "id": "Zk6U7KnL8WBd"
      },
      "execution_count": null,
      "outputs": []
    },
    {
      "cell_type": "code",
      "source": [
        "###### RODAR A ETAPA 1\n",
        "equipes_bootcamp_dados = ['BerthaLutz', 'GraceHopper', 'JaquelineGoes', 'SarahGilbert']\n",
        "contador(equipes_bootcamp_dados)"
      ],
      "metadata": {
        "id": "snTgwxt_8hcj",
        "colab": {
          "base_uri": "https://localhost:8080/"
        },
        "outputId": "219c8528-e1f9-4a57-ae39-dd6c576e124c"
      },
      "execution_count": null,
      "outputs": [
        {
          "output_type": "stream",
          "name": "stdout",
          "text": [
            "[1, 1, 1, 2]\n"
          ]
        }
      ]
    },
    {
      "cell_type": "code",
      "source": [
        "##### LER A ETAPA 2\n",
        "#lista_alunas =  ['Maria', 'Ana','Camila','Mariana','Elaine','Patricia','Marina','Erica','Larissa','Luiza', 'Nicole','Bruna']\n",
        "\n",
        "# para ler em um input e adicionar as strings em uma lista deve-se usar:\n",
        "# Lista vazia para armazenar os nomes das alunas\n",
        "lista_alunas = []\n",
        "\n",
        "while True:\n",
        "  # Pede o nome da aluna ou 'sair' quanto não tiver alunos para adicionar\n",
        "  nome_aluna = input(\"Digite o nome da aluna (ou 'sair'-em minúsculo irá encerrar a lista): \")\n",
        "\n",
        "  # Comando de parada\n",
        "  if nome_aluna.lower() == 'sair':\n",
        "    break\n",
        "\n",
        "  # Adiciona o nome da aluna à lista\n",
        "  lista_alunas.append(nome_aluna)\n",
        "\n",
        "# Exibe a lista de alunas\n",
        "lista_alunas\n",
        "\n"
      ],
      "metadata": {
        "id": "xgkMVykO8jB-",
        "colab": {
          "base_uri": "https://localhost:8080/"
        },
        "outputId": "1a5a18e1-93ae-4829-c0de-f7fc4b1e13f2"
      },
      "execution_count": null,
      "outputs": [
        {
          "name": "stdout",
          "output_type": "stream",
          "text": [
            "Digite o nome da aluna (ou 'sair' encerrar a lista): Maria\n",
            "Digite o nome da aluna (ou 'sair' encerrar a lista): Ana\n",
            "Digite o nome da aluna (ou 'sair' encerrar a lista): Camila\n",
            "Digite o nome da aluna (ou 'sair' encerrar a lista): Mariana\n",
            "Digite o nome da aluna (ou 'sair' encerrar a lista): Elaine\n",
            "Digite o nome da aluna (ou 'sair' encerrar a lista): Patrícia\n",
            "Digite o nome da aluna (ou 'sair' encerrar a lista): Marina\n",
            "Digite o nome da aluna (ou 'sair' encerrar a lista): Erica\n",
            "Digite o nome da aluna (ou 'sair' encerrar a lista): Larissa\n",
            "Digite o nome da aluna (ou 'sair' encerrar a lista): Luiza\n",
            "Digite o nome da aluna (ou 'sair' encerrar a lista): Nicole\n",
            "Digite o nome da aluna (ou 'sair' encerrar a lista): Bruna\n",
            "Digite o nome da aluna (ou 'sair' encerrar a lista): sair\n"
          ]
        },
        {
          "output_type": "execute_result",
          "data": {
            "text/plain": [
              "['Maria',\n",
              " 'Ana',\n",
              " 'Camila',\n",
              " 'Mariana',\n",
              " 'Elaine',\n",
              " 'Patrícia',\n",
              " 'Marina',\n",
              " 'Erica',\n",
              " 'Larissa',\n",
              " 'Luiza',\n",
              " 'Nicole',\n",
              " 'Bruna']"
            ]
          },
          "metadata": {},
          "execution_count": 92
        }
      ]
    },
    {
      "cell_type": "code",
      "source": [
        "\n",
        "##### ESCREVER A FUNCAO DA ETAPA 3\n",
        "def ordenacao(lista_alunas, equipes_bootcamp_dados):\n",
        "\n",
        "  ### escrever abaixo\n",
        "\n",
        "  # Ordenando as alunas em ordem alfabética\n",
        "  lista_alunas.sort()\n",
        "\n",
        "  # Ordenando as equipes em ordem alfabética\n",
        "  equipes_bootcamp_dados.sort()\n",
        "\n",
        "  # criando dicionário para armazenar as listas de cada equipe\n",
        "  dicionario_equipes = {}\n",
        "\n",
        "  #Para que o código funcione para distribuir qualquer quantidade de alunas:\n",
        "  # Total de alunas na lista\n",
        "  total_alunas = len(lista_alunas)\n",
        "  # Número de alunas por equipe cosiderando apenas inteiros\n",
        "  alunas_por_equipe = total_alunas // len(equipes_bootcamp_dados)\n",
        "  # Alunas excedentes a serem distribuídas(equivalente ao resto da divisão)\n",
        "  aluna_excedente = total_alunas % len(equipes_bootcamp_dados)\n",
        "\n",
        "\n",
        "  # Índice para percorrer a lista de alunas (inicio no zero por padrão)\n",
        "  index_aluna = 0\n",
        "\n",
        "  for equipe in equipes_bootcamp_dados:\n",
        "    # Criando uma lista vazia para cada equipe(índice)\n",
        "    dicionario_equipes[equipe] = []\n",
        "\n",
        "    # Número de alunas na equipe (com aluna extra se necessário)\n",
        "    # aqui eu garanto que pode usar uma lista com nº de alunas não divisível pelo número de equipes\n",
        "    num_alunas = alunas_por_equipe + (1 if aluna_excedente > 0 else 0)\n",
        "    # Decrementando a contagem de alunas excedentes\n",
        "    aluna_excedente -= 1\n",
        "\n",
        "    #este for é para cada equipe garantindo que haja a distribuição\n",
        "    # o undeline foi usado por padrão porque essa variável não terá outra ultilidade no código\n",
        "    for _ in range(num_alunas):\n",
        "       # Verificando se ainda tem alunas para distribuir\n",
        "      if index_aluna < total_alunas:\n",
        "        # Adicionando a aluna ao dicionário dentro da lista da equipe\n",
        "        dicionario_equipes[equipe].append(lista_alunas[index_aluna])\n",
        "        # Incrementa o índice para a próxima aluna\n",
        "        index_aluna += 1\n",
        "\n",
        "  print(dicionario_equipes)\n"
      ],
      "metadata": {
        "id": "_ySYFooB8jFF"
      },
      "execution_count": null,
      "outputs": []
    },
    {
      "cell_type": "code",
      "source": [
        "##### RODAR A FUNCAO DA ETAPA 3\n",
        "lista_alunas = ['Maria', 'Ana', 'Camila', 'Mariana', 'Elaine', 'Patricia', 'Marina', 'Erica', 'Larissa', 'Luiza', 'Nicole', 'Bruna']\n",
        "equipes_bootcamp_dados = ['BerthaLutz', 'GraceHopper', 'JaquelineGoes', 'SarahGilbert']\n",
        "\n",
        "ordenacao(lista_alunas, equipes_bootcamp_dados)\n"
      ],
      "metadata": {
        "id": "8qZnUInj9Uvr",
        "colab": {
          "base_uri": "https://localhost:8080/"
        },
        "outputId": "44e6ebb0-5fb6-49a9-c273-53031cf90074"
      },
      "execution_count": null,
      "outputs": [
        {
          "output_type": "stream",
          "name": "stdout",
          "text": [
            "{'BerthaLutz': ['Ana', 'Bruna', 'Camila'], 'GraceHopper': ['Elaine', 'Erica', 'Larissa'], 'JaquelineGoes': ['Luiza', 'Maria', 'Mariana'], 'SarahGilbert': ['Marina', 'Nicole', 'Patricia']}\n"
          ]
        }
      ]
    },
    {
      "cell_type": "markdown",
      "source": [
        "### Desafio 6\n",
        "Escreva uma função em python que leia uma temperatura em graus Celsius e retorne a conversao dela em graus Fahrenheit.\n",
        "\n",
        "A fórmula de conversão é F = (9 * C + 160) / 5, na qual F é a temperatura em Fahrenheit e C é a temperatura em graus Celsius\n",
        "\n",
        "\n"
      ],
      "metadata": {
        "id": "AXoFPjyx82gG"
      }
    },
    {
      "cell_type": "code",
      "source": [
        "##### ESCREVER A FUNCAO\n",
        "def conversor_temperatura(temperatura):\n",
        "  # Calculando a temperatura em Fahrenheit usando a fórmula de conversão\n",
        "  tf = (9 * temperatura + 160) / 5\n",
        "  # Imprimindo o resultado\n",
        "  print(f' A temperatura de {temperatura}º Celsius equivale a {tf}º Fahrenheit')\n"
      ],
      "metadata": {
        "id": "OsCU2Msu9D9o"
      },
      "execution_count": null,
      "outputs": []
    },
    {
      "cell_type": "code",
      "source": [
        "##### RODAR A FUNCAO\n",
        "temperatura = 25\n",
        "conversor_temperatura(temperatura)"
      ],
      "metadata": {
        "id": "UBCdsBgi9Xa2",
        "colab": {
          "base_uri": "https://localhost:8080/"
        },
        "outputId": "9d85a98b-312c-46d5-a69e-a7f9ab1433b9"
      },
      "execution_count": null,
      "outputs": [
        {
          "output_type": "stream",
          "name": "stdout",
          "text": [
            " A temperatura de 25º Celsius equivale a 77.0º Fahrenheit\n"
          ]
        }
      ]
    }
  ]
}